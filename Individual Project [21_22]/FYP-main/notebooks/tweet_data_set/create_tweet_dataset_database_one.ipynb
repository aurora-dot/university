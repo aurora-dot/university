{
 "cells": [
  {
   "cell_type": "code",
   "execution_count": 1,
   "metadata": {},
   "outputs": [],
   "source": [
    "import json\n",
    "import pickle\n",
    "import os\n",
    "import json\n",
    "from tqdm import tqdm\n",
    "\n",
    "from fyp.crypto import Crypto\n",
    "from fyp.db import Database\n",
    "from fyp.db_dataset import Tweet\n"
   ]
  },
  {
   "cell_type": "code",
   "execution_count": 2,
   "metadata": {},
   "outputs": [],
   "source": [
    "crypto = Crypto()\n",
    "database = Database(crypto)"
   ]
  },
  {
   "cell_type": "code",
   "execution_count": 3,
   "metadata": {},
   "outputs": [],
   "source": [
    "def load_data(name, base):\n",
    "\n",
    "    e_pickle = base + f\"encrypted_{name}.pickle\"\n",
    "    e_json = base + f\"encrypted_{name}.json\"\n",
    "\n",
    "    if os.path.exists(e_pickle):\n",
    "        print(name + ': loading pickle')\n",
    "\n",
    "        d = base + f\"decrypted_{name}.pickle\"\n",
    "        crypto.age_decrypt_file(e_pickle, d)\n",
    "\n",
    "        with open(d, 'rb') as handle:\n",
    "            data = pickle.load(handle)\n",
    "\n",
    "        os.remove(d)\n",
    "\n",
    "        return data\n",
    "\n",
    "    elif os.path.exists(e_json):\n",
    "        print(name + ': loading json')\n",
    "        d = base + f\"decrypted_{name}.json\"\n",
    "        crypto.age_decrypt_file(e_json, d)\n",
    "\n",
    "        file = open(d, encoding='utf8')\n",
    "        data = json.load(file)\n",
    "        file.close()\n",
    "\n",
    "        os.remove(d)\n",
    "\n",
    "        return data\n",
    "\n",
    "    else:\n",
    "        print('none')\n"
   ]
  },
  {
   "cell_type": "code",
   "execution_count": 4,
   "metadata": {},
   "outputs": [
    {
     "name": "stdout",
     "output_type": "stream",
     "text": [
      "tweets: loading pickle\n"
     ]
    }
   ],
   "source": [
    "one_hop_tweets = load_data(\"tweets\", \"/its/home/ep396/Documents/FYP/data/snowball_second/\") # tweets from hop one\n"
   ]
  },
  {
   "cell_type": "code",
   "execution_count": null,
   "metadata": {},
   "outputs": [],
   "source": [
    "for tweets in tqdm(one_hop_tweets.values()):\n",
    "    for tweet in tqdm(tweets):\n",
    "        try:\n",
    "            db_tweet = Tweet.create(\n",
    "                tweet_id = tweet['id'],\n",
    "                author_id = tweet['author_id'],\n",
    "                conversation_id = tweet['conversation_id'],\n",
    "                created_at = tweet['created_at'],\n",
    "                text = tweet['text'],\n",
    "                reply_settings = tweet['reply_settings'],\n",
    "                referenced_tweets = True if 'referenced_tweets' in tweet else False,\n",
    "                referenced_tweets_data = json.dumps(tweet['referenced_tweets']) if 'referenced_tweets' in tweet else None,\n",
    "                reply_count = tweet['public_metrics']['reply_count'],\n",
    "                like_count = tweet['public_metrics']['like_count'],\n",
    "                quote_count = tweet['public_metrics']['quote_count'],\n",
    "                retweet_count = tweet['public_metrics']['retweet_count']\n",
    "            )\n",
    "        except Exception as e:\n",
    "            print(tweet)\n",
    "            raise e\n"
   ]
  }
 ],
 "metadata": {
  "interpreter": {
   "hash": "6ade73bf49f1256608149ff920ccd937fcccdc8efd4975ff38aa98fc4d821ac5"
  },
  "kernelspec": {
   "display_name": "Python 3.9.7 ('fyp')",
   "language": "python",
   "name": "python3"
  },
  "language_info": {
   "codemirror_mode": {
    "name": "ipython",
    "version": 3
   },
   "file_extension": ".py",
   "mimetype": "text/x-python",
   "name": "python",
   "nbconvert_exporter": "python",
   "pygments_lexer": "ipython3",
   "version": "3.9.7"
  },
  "orig_nbformat": 4
 },
 "nbformat": 4,
 "nbformat_minor": 2
}
