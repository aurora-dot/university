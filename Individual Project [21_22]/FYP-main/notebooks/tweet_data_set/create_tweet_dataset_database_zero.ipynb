{
 "cells": [
  {
   "cell_type": "code",
   "execution_count": 1,
   "metadata": {},
   "outputs": [],
   "source": [
    "import json\n",
    "import pickle\n",
    "import os\n",
    "import json\n",
    "from tqdm import tqdm\n",
    "\n",
    "from fyp.crypto import Crypto\n",
    "from fyp.db import Database\n",
    "from fyp.db_dataset import Tweet\n"
   ]
  },
  {
   "cell_type": "code",
   "execution_count": 2,
   "metadata": {},
   "outputs": [],
   "source": [
    "crypto = Crypto()\n",
    "database = Database(crypto)"
   ]
  },
  {
   "cell_type": "code",
   "execution_count": 3,
   "metadata": {},
   "outputs": [],
   "source": [
    "def load_data(name, base) -> dict:\n",
    "\n",
    "    e_pickle = base + f\"encrypted_{name}.pickle\"\n",
    "    e_json = base + f\"encrypted_{name}.json\"\n",
    "\n",
    "    if os.path.exists(e_pickle):\n",
    "        print(name + ': loading pickle')\n",
    "\n",
    "        d = base + f\"decrypted_{name}.pickle\"\n",
    "        crypto.age_decrypt_file(e_pickle, d)\n",
    "\n",
    "        with open(d, 'rb') as handle:\n",
    "            data = pickle.load(handle)\n",
    "\n",
    "        os.remove(d)\n",
    "\n",
    "        return dict(data)\n",
    "\n",
    "    elif os.path.exists(e_json):\n",
    "        print(name + ': loading json')\n",
    "        d = base + f\"decrypted_{name}.json\"\n",
    "        crypto.age_decrypt_file(e_json, d)\n",
    "\n",
    "        file = open(d, encoding='utf8')\n",
    "        data = json.load(file)\n",
    "        file.close()\n",
    "\n",
    "        os.remove(d)\n",
    "\n",
    "        return dict(data)\n",
    "\n",
    "    else:\n",
    "        print('none')\n",
    "        return dict()\n"
   ]
  },
  {
   "cell_type": "code",
   "execution_count": 4,
   "metadata": {},
   "outputs": [
    {
     "name": "stdout",
     "output_type": "stream",
     "text": [
      "tweets: loading json\n"
     ]
    }
   ],
   "source": [
    "zero_hop_tweets = load_data(\"tweets\", \"/its/home/ep396/Documents/FYP/data/snowball/\") # tweets from hop one\n"
   ]
  },
  {
   "cell_type": "code",
   "execution_count": 6,
   "metadata": {},
   "outputs": [
    {
     "name": "stderr",
     "output_type": "stream",
     "text": [
      "100%|██████████| 602/602 [00:13<00:00, 43.88it/s]\n",
      "100%|██████████| 335/335 [00:07<00:00, 43.78it/s]\n",
      "100%|██████████| 182/182 [00:04<00:00, 44.32it/s]\n",
      "100%|██████████| 280/280 [00:06<00:00, 45.41it/s]\n",
      "100%|██████████| 251/251 [00:05<00:00, 43.90it/s]\n",
      "100%|██████████| 908/908 [00:20<00:00, 43.98it/s]\n",
      "100%|██████████| 169/169 [00:03<00:00, 45.35it/s]\n",
      "100%|██████████| 95/95 [00:02<00:00, 46.30it/s]\n",
      "100%|██████████| 220/220 [00:04<00:00, 44.47it/s]\n",
      "100%|██████████| 1037/1037 [00:23<00:00, 44.13it/s]\n",
      "100%|██████████| 626/626 [00:14<00:00, 44.25it/s]\n",
      "100%|██████████| 252/252 [00:05<00:00, 47.41it/s]\n",
      "100%|██████████| 1088/1088 [00:24<00:00, 44.86it/s]\n",
      "100%|██████████| 1036/1036 [00:22<00:00, 45.51it/s]\n",
      "100%|██████████| 160/160 [00:03<00:00, 45.18it/s]\n",
      "100%|██████████| 163/163 [00:03<00:00, 45.74it/s]\n",
      "100%|██████████| 163/163 [00:03<00:00, 45.01it/s]\n",
      "100%|██████████| 1056/1056 [00:22<00:00, 46.27it/s]\n",
      "100%|██████████| 237/237 [00:05<00:00, 45.76it/s]\n",
      "100%|██████████| 652/652 [00:14<00:00, 44.82it/s]\n",
      "100%|██████████| 767/767 [00:17<00:00, 44.00it/s]\n",
      "100%|██████████| 808/808 [00:19<00:00, 42.02it/s]\n",
      "100%|██████████| 132/132 [00:03<00:00, 43.94it/s]\n",
      "100%|██████████| 71/71 [00:01<00:00, 43.16it/s]\n",
      "100%|██████████| 465/465 [00:11<00:00, 39.42it/s]\n",
      "100%|██████████| 3498/3498 [01:24<00:00, 41.42it/s]\n",
      "100%|██████████| 1038/1038 [00:23<00:00, 44.25it/s]\n",
      "100%|██████████| 269/269 [00:06<00:00, 43.43it/s]\n",
      "100%|██████████| 162/162 [00:03<00:00, 44.24it/s]\n",
      " 92%|█████████▏| 7615/8316 [02:50<00:15, 44.70it/s]\n",
      " 97%|█████████▋| 29/30 [09:13<00:19, 19.08s/it]\n"
     ]
    },
    {
     "ename": "KeyboardInterrupt",
     "evalue": "",
     "output_type": "error",
     "traceback": [
      "\u001b[0;31m---------------------------------------------------------------------------\u001b[0m",
      "\u001b[0;31mKeyboardInterrupt\u001b[0m                         Traceback (most recent call last)",
      "\u001b[0;32m<ipython-input-6-134dc65c136d>\u001b[0m in \u001b[0;36m<module>\u001b[0;34m\u001b[0m\n\u001b[1;32m      2\u001b[0m     \u001b[0;32mfor\u001b[0m \u001b[0mtweet\u001b[0m \u001b[0;32min\u001b[0m \u001b[0mtqdm\u001b[0m\u001b[0;34m(\u001b[0m\u001b[0mtweets\u001b[0m\u001b[0;34m)\u001b[0m\u001b[0;34m:\u001b[0m\u001b[0;34m\u001b[0m\u001b[0;34m\u001b[0m\u001b[0m\n\u001b[1;32m      3\u001b[0m         \u001b[0;32mtry\u001b[0m\u001b[0;34m:\u001b[0m\u001b[0;34m\u001b[0m\u001b[0;34m\u001b[0m\u001b[0m\n\u001b[0;32m----> 4\u001b[0;31m             db_tweet = Tweet.create(\n\u001b[0m\u001b[1;32m      5\u001b[0m                 \u001b[0mtweet_id\u001b[0m \u001b[0;34m=\u001b[0m \u001b[0mtweet\u001b[0m\u001b[0;34m[\u001b[0m\u001b[0;34m'id'\u001b[0m\u001b[0;34m]\u001b[0m\u001b[0;34m,\u001b[0m\u001b[0;34m\u001b[0m\u001b[0;34m\u001b[0m\u001b[0m\n\u001b[1;32m      6\u001b[0m                 \u001b[0mauthor_id\u001b[0m \u001b[0;34m=\u001b[0m \u001b[0mtweet\u001b[0m\u001b[0;34m[\u001b[0m\u001b[0;34m'author_id'\u001b[0m\u001b[0;34m]\u001b[0m\u001b[0;34m,\u001b[0m\u001b[0;34m\u001b[0m\u001b[0;34m\u001b[0m\u001b[0m\n",
      "\u001b[0;32m~/miniconda3/envs/fyp/lib/python3.9/site-packages/peewee.py\u001b[0m in \u001b[0;36mcreate\u001b[0;34m(cls, **query)\u001b[0m\n\u001b[1;32m   6391\u001b[0m     \u001b[0;32mdef\u001b[0m \u001b[0mcreate\u001b[0m\u001b[0;34m(\u001b[0m\u001b[0mcls\u001b[0m\u001b[0;34m,\u001b[0m \u001b[0;34m**\u001b[0m\u001b[0mquery\u001b[0m\u001b[0;34m)\u001b[0m\u001b[0;34m:\u001b[0m\u001b[0;34m\u001b[0m\u001b[0;34m\u001b[0m\u001b[0m\n\u001b[1;32m   6392\u001b[0m         \u001b[0minst\u001b[0m \u001b[0;34m=\u001b[0m \u001b[0mcls\u001b[0m\u001b[0;34m(\u001b[0m\u001b[0;34m**\u001b[0m\u001b[0mquery\u001b[0m\u001b[0;34m)\u001b[0m\u001b[0;34m\u001b[0m\u001b[0;34m\u001b[0m\u001b[0m\n\u001b[0;32m-> 6393\u001b[0;31m         \u001b[0minst\u001b[0m\u001b[0;34m.\u001b[0m\u001b[0msave\u001b[0m\u001b[0;34m(\u001b[0m\u001b[0mforce_insert\u001b[0m\u001b[0;34m=\u001b[0m\u001b[0;32mTrue\u001b[0m\u001b[0;34m)\u001b[0m\u001b[0;34m\u001b[0m\u001b[0;34m\u001b[0m\u001b[0m\n\u001b[0m\u001b[1;32m   6394\u001b[0m         \u001b[0;32mreturn\u001b[0m \u001b[0minst\u001b[0m\u001b[0;34m\u001b[0m\u001b[0;34m\u001b[0m\u001b[0m\n\u001b[1;32m   6395\u001b[0m \u001b[0;34m\u001b[0m\u001b[0m\n",
      "\u001b[0;32m~/miniconda3/envs/fyp/lib/python3.9/site-packages/peewee.py\u001b[0m in \u001b[0;36msave\u001b[0;34m(self, force_insert, only)\u001b[0m\n\u001b[1;32m   6601\u001b[0m             \u001b[0mrows\u001b[0m \u001b[0;34m=\u001b[0m \u001b[0mself\u001b[0m\u001b[0;34m.\u001b[0m\u001b[0mupdate\u001b[0m\u001b[0;34m(\u001b[0m\u001b[0;34m**\u001b[0m\u001b[0mfield_dict\u001b[0m\u001b[0;34m)\u001b[0m\u001b[0;34m.\u001b[0m\u001b[0mwhere\u001b[0m\u001b[0;34m(\u001b[0m\u001b[0mself\u001b[0m\u001b[0;34m.\u001b[0m\u001b[0m_pk_expr\u001b[0m\u001b[0;34m(\u001b[0m\u001b[0;34m)\u001b[0m\u001b[0;34m)\u001b[0m\u001b[0;34m.\u001b[0m\u001b[0mexecute\u001b[0m\u001b[0;34m(\u001b[0m\u001b[0;34m)\u001b[0m\u001b[0;34m\u001b[0m\u001b[0;34m\u001b[0m\u001b[0m\n\u001b[1;32m   6602\u001b[0m         \u001b[0;32melif\u001b[0m \u001b[0mpk_field\u001b[0m \u001b[0;32mis\u001b[0m \u001b[0;32mnot\u001b[0m \u001b[0;32mNone\u001b[0m\u001b[0;34m:\u001b[0m\u001b[0;34m\u001b[0m\u001b[0;34m\u001b[0m\u001b[0m\n\u001b[0;32m-> 6603\u001b[0;31m             \u001b[0mpk\u001b[0m \u001b[0;34m=\u001b[0m \u001b[0mself\u001b[0m\u001b[0;34m.\u001b[0m\u001b[0minsert\u001b[0m\u001b[0;34m(\u001b[0m\u001b[0;34m**\u001b[0m\u001b[0mfield_dict\u001b[0m\u001b[0;34m)\u001b[0m\u001b[0;34m.\u001b[0m\u001b[0mexecute\u001b[0m\u001b[0;34m(\u001b[0m\u001b[0;34m)\u001b[0m\u001b[0;34m\u001b[0m\u001b[0;34m\u001b[0m\u001b[0m\n\u001b[0m\u001b[1;32m   6604\u001b[0m             if pk is not None and (self._meta.auto_increment or\n\u001b[1;32m   6605\u001b[0m                                    pk_value is None):\n",
      "\u001b[0;32m~/miniconda3/envs/fyp/lib/python3.9/site-packages/peewee.py\u001b[0m in \u001b[0;36minner\u001b[0;34m(self, database, *args, **kwargs)\u001b[0m\n\u001b[1;32m   1909\u001b[0m             raise InterfaceError('Query must be bound to a database in order '\n\u001b[1;32m   1910\u001b[0m                                  'to call \"%s\".' % method.__name__)\n\u001b[0;32m-> 1911\u001b[0;31m         \u001b[0;32mreturn\u001b[0m \u001b[0mmethod\u001b[0m\u001b[0;34m(\u001b[0m\u001b[0mself\u001b[0m\u001b[0;34m,\u001b[0m \u001b[0mdatabase\u001b[0m\u001b[0;34m,\u001b[0m \u001b[0;34m*\u001b[0m\u001b[0margs\u001b[0m\u001b[0;34m,\u001b[0m \u001b[0;34m**\u001b[0m\u001b[0mkwargs\u001b[0m\u001b[0;34m)\u001b[0m\u001b[0;34m\u001b[0m\u001b[0;34m\u001b[0m\u001b[0m\n\u001b[0m\u001b[1;32m   1912\u001b[0m     \u001b[0;32mreturn\u001b[0m \u001b[0minner\u001b[0m\u001b[0;34m\u001b[0m\u001b[0;34m\u001b[0m\u001b[0m\n\u001b[1;32m   1913\u001b[0m \u001b[0;34m\u001b[0m\u001b[0m\n",
      "\u001b[0;32m~/miniconda3/envs/fyp/lib/python3.9/site-packages/peewee.py\u001b[0m in \u001b[0;36mexecute\u001b[0;34m(self, database)\u001b[0m\n\u001b[1;32m   1980\u001b[0m     \u001b[0;34m@\u001b[0m\u001b[0mdatabase_required\u001b[0m\u001b[0;34m\u001b[0m\u001b[0;34m\u001b[0m\u001b[0m\n\u001b[1;32m   1981\u001b[0m     \u001b[0;32mdef\u001b[0m \u001b[0mexecute\u001b[0m\u001b[0;34m(\u001b[0m\u001b[0mself\u001b[0m\u001b[0;34m,\u001b[0m \u001b[0mdatabase\u001b[0m\u001b[0;34m)\u001b[0m\u001b[0;34m:\u001b[0m\u001b[0;34m\u001b[0m\u001b[0;34m\u001b[0m\u001b[0m\n\u001b[0;32m-> 1982\u001b[0;31m         \u001b[0;32mreturn\u001b[0m \u001b[0mself\u001b[0m\u001b[0;34m.\u001b[0m\u001b[0m_execute\u001b[0m\u001b[0;34m(\u001b[0m\u001b[0mdatabase\u001b[0m\u001b[0;34m)\u001b[0m\u001b[0;34m\u001b[0m\u001b[0;34m\u001b[0m\u001b[0m\n\u001b[0m\u001b[1;32m   1983\u001b[0m \u001b[0;34m\u001b[0m\u001b[0m\n\u001b[1;32m   1984\u001b[0m     \u001b[0;32mdef\u001b[0m \u001b[0m_execute\u001b[0m\u001b[0;34m(\u001b[0m\u001b[0mself\u001b[0m\u001b[0;34m,\u001b[0m \u001b[0mdatabase\u001b[0m\u001b[0;34m)\u001b[0m\u001b[0;34m:\u001b[0m\u001b[0;34m\u001b[0m\u001b[0;34m\u001b[0m\u001b[0m\n",
      "\u001b[0;32m~/miniconda3/envs/fyp/lib/python3.9/site-packages/peewee.py\u001b[0m in \u001b[0;36m_execute\u001b[0;34m(self, database)\u001b[0m\n\u001b[1;32m   2759\u001b[0m             \u001b[0mself\u001b[0m\u001b[0;34m.\u001b[0m\u001b[0m_returning\u001b[0m \u001b[0;34m=\u001b[0m \u001b[0;34m(\u001b[0m\u001b[0mself\u001b[0m\u001b[0;34m.\u001b[0m\u001b[0mtable\u001b[0m\u001b[0;34m.\u001b[0m\u001b[0m_primary_key\u001b[0m\u001b[0;34m,\u001b[0m\u001b[0;34m)\u001b[0m\u001b[0;34m\u001b[0m\u001b[0;34m\u001b[0m\u001b[0m\n\u001b[1;32m   2760\u001b[0m         \u001b[0;32mtry\u001b[0m\u001b[0;34m:\u001b[0m\u001b[0;34m\u001b[0m\u001b[0;34m\u001b[0m\u001b[0m\n\u001b[0;32m-> 2761\u001b[0;31m             \u001b[0;32mreturn\u001b[0m \u001b[0msuper\u001b[0m\u001b[0;34m(\u001b[0m\u001b[0mInsert\u001b[0m\u001b[0;34m,\u001b[0m \u001b[0mself\u001b[0m\u001b[0;34m)\u001b[0m\u001b[0;34m.\u001b[0m\u001b[0m_execute\u001b[0m\u001b[0;34m(\u001b[0m\u001b[0mdatabase\u001b[0m\u001b[0;34m)\u001b[0m\u001b[0;34m\u001b[0m\u001b[0;34m\u001b[0m\u001b[0m\n\u001b[0m\u001b[1;32m   2762\u001b[0m         \u001b[0;32mexcept\u001b[0m \u001b[0mself\u001b[0m\u001b[0;34m.\u001b[0m\u001b[0mDefaultValuesException\u001b[0m\u001b[0;34m:\u001b[0m\u001b[0;34m\u001b[0m\u001b[0;34m\u001b[0m\u001b[0m\n\u001b[1;32m   2763\u001b[0m             \u001b[0;32mpass\u001b[0m\u001b[0;34m\u001b[0m\u001b[0;34m\u001b[0m\u001b[0m\n",
      "\u001b[0;32m~/miniconda3/envs/fyp/lib/python3.9/site-packages/peewee.py\u001b[0m in \u001b[0;36m_execute\u001b[0;34m(self, database)\u001b[0m\n\u001b[1;32m   2477\u001b[0m             \u001b[0mcursor\u001b[0m \u001b[0;34m=\u001b[0m \u001b[0mself\u001b[0m\u001b[0;34m.\u001b[0m\u001b[0mexecute_returning\u001b[0m\u001b[0;34m(\u001b[0m\u001b[0mdatabase\u001b[0m\u001b[0;34m)\u001b[0m\u001b[0;34m\u001b[0m\u001b[0;34m\u001b[0m\u001b[0m\n\u001b[1;32m   2478\u001b[0m         \u001b[0;32melse\u001b[0m\u001b[0;34m:\u001b[0m\u001b[0;34m\u001b[0m\u001b[0;34m\u001b[0m\u001b[0m\n\u001b[0;32m-> 2479\u001b[0;31m             \u001b[0mcursor\u001b[0m \u001b[0;34m=\u001b[0m \u001b[0mdatabase\u001b[0m\u001b[0;34m.\u001b[0m\u001b[0mexecute\u001b[0m\u001b[0;34m(\u001b[0m\u001b[0mself\u001b[0m\u001b[0;34m)\u001b[0m\u001b[0;34m\u001b[0m\u001b[0;34m\u001b[0m\u001b[0m\n\u001b[0m\u001b[1;32m   2480\u001b[0m         \u001b[0;32mreturn\u001b[0m \u001b[0mself\u001b[0m\u001b[0;34m.\u001b[0m\u001b[0mhandle_result\u001b[0m\u001b[0;34m(\u001b[0m\u001b[0mdatabase\u001b[0m\u001b[0;34m,\u001b[0m \u001b[0mcursor\u001b[0m\u001b[0;34m)\u001b[0m\u001b[0;34m\u001b[0m\u001b[0;34m\u001b[0m\u001b[0m\n\u001b[1;32m   2481\u001b[0m \u001b[0;34m\u001b[0m\u001b[0m\n",
      "\u001b[0;32m~/miniconda3/envs/fyp/lib/python3.9/site-packages/peewee.py\u001b[0m in \u001b[0;36mexecute\u001b[0;34m(self, query, commit, **context_options)\u001b[0m\n\u001b[1;32m   3171\u001b[0m         \u001b[0mctx\u001b[0m \u001b[0;34m=\u001b[0m \u001b[0mself\u001b[0m\u001b[0;34m.\u001b[0m\u001b[0mget_sql_context\u001b[0m\u001b[0;34m(\u001b[0m\u001b[0;34m**\u001b[0m\u001b[0mcontext_options\u001b[0m\u001b[0;34m)\u001b[0m\u001b[0;34m\u001b[0m\u001b[0;34m\u001b[0m\u001b[0m\n\u001b[1;32m   3172\u001b[0m         \u001b[0msql\u001b[0m\u001b[0;34m,\u001b[0m \u001b[0mparams\u001b[0m \u001b[0;34m=\u001b[0m \u001b[0mctx\u001b[0m\u001b[0;34m.\u001b[0m\u001b[0msql\u001b[0m\u001b[0;34m(\u001b[0m\u001b[0mquery\u001b[0m\u001b[0;34m)\u001b[0m\u001b[0;34m.\u001b[0m\u001b[0mquery\u001b[0m\u001b[0;34m(\u001b[0m\u001b[0;34m)\u001b[0m\u001b[0;34m\u001b[0m\u001b[0;34m\u001b[0m\u001b[0m\n\u001b[0;32m-> 3173\u001b[0;31m         \u001b[0;32mreturn\u001b[0m \u001b[0mself\u001b[0m\u001b[0;34m.\u001b[0m\u001b[0mexecute_sql\u001b[0m\u001b[0;34m(\u001b[0m\u001b[0msql\u001b[0m\u001b[0;34m,\u001b[0m \u001b[0mparams\u001b[0m\u001b[0;34m,\u001b[0m \u001b[0mcommit\u001b[0m\u001b[0;34m=\u001b[0m\u001b[0mcommit\u001b[0m\u001b[0;34m)\u001b[0m\u001b[0;34m\u001b[0m\u001b[0;34m\u001b[0m\u001b[0m\n\u001b[0m\u001b[1;32m   3174\u001b[0m \u001b[0;34m\u001b[0m\u001b[0m\n\u001b[1;32m   3175\u001b[0m     \u001b[0;32mdef\u001b[0m \u001b[0mget_context_options\u001b[0m\u001b[0;34m(\u001b[0m\u001b[0mself\u001b[0m\u001b[0;34m)\u001b[0m\u001b[0;34m:\u001b[0m\u001b[0;34m\u001b[0m\u001b[0;34m\u001b[0m\u001b[0m\n",
      "\u001b[0;32m~/miniconda3/envs/fyp/lib/python3.9/site-packages/peewee.py\u001b[0m in \u001b[0;36mexecute_sql\u001b[0;34m(self, sql, params, commit)\u001b[0m\n\u001b[1;32m   3158\u001b[0m             \u001b[0mcursor\u001b[0m \u001b[0;34m=\u001b[0m \u001b[0mself\u001b[0m\u001b[0;34m.\u001b[0m\u001b[0mcursor\u001b[0m\u001b[0;34m(\u001b[0m\u001b[0mcommit\u001b[0m\u001b[0;34m)\u001b[0m\u001b[0;34m\u001b[0m\u001b[0;34m\u001b[0m\u001b[0m\n\u001b[1;32m   3159\u001b[0m             \u001b[0;32mtry\u001b[0m\u001b[0;34m:\u001b[0m\u001b[0;34m\u001b[0m\u001b[0;34m\u001b[0m\u001b[0m\n\u001b[0;32m-> 3160\u001b[0;31m                 \u001b[0mcursor\u001b[0m\u001b[0;34m.\u001b[0m\u001b[0mexecute\u001b[0m\u001b[0;34m(\u001b[0m\u001b[0msql\u001b[0m\u001b[0;34m,\u001b[0m \u001b[0mparams\u001b[0m \u001b[0;32mor\u001b[0m \u001b[0;34m(\u001b[0m\u001b[0;34m)\u001b[0m\u001b[0;34m)\u001b[0m\u001b[0;34m\u001b[0m\u001b[0;34m\u001b[0m\u001b[0m\n\u001b[0m\u001b[1;32m   3161\u001b[0m             \u001b[0;32mexcept\u001b[0m \u001b[0mException\u001b[0m\u001b[0;34m:\u001b[0m\u001b[0;34m\u001b[0m\u001b[0;34m\u001b[0m\u001b[0m\n\u001b[1;32m   3162\u001b[0m                 \u001b[0;32mif\u001b[0m \u001b[0mself\u001b[0m\u001b[0;34m.\u001b[0m\u001b[0mautorollback\u001b[0m \u001b[0;32mand\u001b[0m \u001b[0;32mnot\u001b[0m \u001b[0mself\u001b[0m\u001b[0;34m.\u001b[0m\u001b[0min_transaction\u001b[0m\u001b[0;34m(\u001b[0m\u001b[0;34m)\u001b[0m\u001b[0;34m:\u001b[0m\u001b[0;34m\u001b[0m\u001b[0;34m\u001b[0m\u001b[0m\n",
      "\u001b[0;31mKeyboardInterrupt\u001b[0m: "
     ]
    }
   ],
   "source": [
    "for tweets in tqdm(zero_hop_tweets.values()):\n",
    "    for tweet in tqdm(tweets):\n",
    "        try:\n",
    "            db_tweet = Tweet.create(\n",
    "                tweet_id = tweet['id'],\n",
    "                author_id = tweet['author_id'],\n",
    "                conversation_id = tweet['conversation_id'],\n",
    "                created_at = tweet['created_at'],\n",
    "                text = tweet['text'],\n",
    "                reply_settings = tweet['reply_settings'],\n",
    "                referenced_tweets = True if 'referenced_tweets' in tweet else False,\n",
    "                referenced_tweets_data = json.dumps(tweet['referenced_tweets']) if 'referenced_tweets' in tweet else None,\n",
    "                reply_count = tweet['public_metrics']['reply_count'],\n",
    "                like_count = tweet['public_metrics']['like_count'],\n",
    "                quote_count = tweet['public_metrics']['quote_count'],\n",
    "                retweet_count = tweet['public_metrics']['retweet_count']\n",
    "            )\n",
    "        except Exception as e:\n",
    "            print(tweet)\n",
    "            raise e\n"
   ]
  }
 ],
 "metadata": {
  "interpreter": {
   "hash": "6ade73bf49f1256608149ff920ccd937fcccdc8efd4975ff38aa98fc4d821ac5"
  },
  "kernelspec": {
   "display_name": "Python 3.9.7 ('fyp')",
   "language": "python",
   "name": "python3"
  },
  "language_info": {
   "codemirror_mode": {
    "name": "ipython",
    "version": 3
   },
   "file_extension": ".py",
   "mimetype": "text/x-python",
   "name": "python",
   "nbconvert_exporter": "python",
   "pygments_lexer": "ipython3",
   "version": "3.9.7"
  },
  "orig_nbformat": 4
 },
 "nbformat": 4,
 "nbformat_minor": 2
}
