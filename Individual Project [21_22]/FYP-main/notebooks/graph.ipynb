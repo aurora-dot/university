{
 "cells": [
  {
   "cell_type": "code",
   "execution_count": 1,
   "metadata": {},
   "outputs": [],
   "source": [
    "from fyp.db import UserInteractorRelationships\n",
    "from tqdm import tqdm\n"
   ]
  },
  {
   "cell_type": "code",
   "execution_count": 2,
   "metadata": {},
   "outputs": [
    {
     "data": {
      "text/plain": [
       "58739"
      ]
     },
     "execution_count": 2,
     "metadata": {},
     "output_type": "execute_result"
    }
   ],
   "source": [
    "UserInteractorRelationships.select().count()\n"
   ]
  },
  {
   "cell_type": "code",
   "execution_count": 3,
   "metadata": {},
   "outputs": [
    {
     "name": "stderr",
     "output_type": "stream",
     "text": [
      "100%|██████████| 58739/58739 [10:49<00:00, 90.49it/s]\n"
     ]
    }
   ],
   "source": [
    "relationships = []\n",
    "\n",
    "for relationship in tqdm(UserInteractorRelationships.select()):\n",
    "    relationships.append((relationship.user, relationship.interactor))\n"
   ]
  },
  {
   "cell_type": "code",
   "execution_count": 4,
   "metadata": {},
   "outputs": [
    {
     "name": "stderr",
     "output_type": "stream",
     "text": [
      "100%|██████████| 58739/58739 [00:00<00:00, 331399.78it/s]\n"
     ]
    }
   ],
   "source": [
    "with open(\"/its/home/ep396/Documents/FYP/data/snowball/reply-graph-data.csv\", \"w\") as file:\n",
    "    file.write(\"source;target;type;weight\\n\")\n",
    "    for relationship in tqdm(relationships):\n",
    "        file.write(f\"{relationship[0]};{relationship[1]};Directed;1\\n\")\n"
   ]
  }
 ],
 "metadata": {
  "interpreter": {
   "hash": "6ade73bf49f1256608149ff920ccd937fcccdc8efd4975ff38aa98fc4d821ac5"
  },
  "kernelspec": {
   "display_name": "Python 3.9.7 ('fyp')",
   "language": "python",
   "name": "python3"
  },
  "language_info": {
   "codemirror_mode": {
    "name": "ipython",
    "version": 3
   },
   "file_extension": ".py",
   "mimetype": "text/x-python",
   "name": "python",
   "nbconvert_exporter": "python",
   "pygments_lexer": "ipython3",
   "version": "3.9.7"
  },
  "orig_nbformat": 4
 },
 "nbformat": 4,
 "nbformat_minor": 2
}
