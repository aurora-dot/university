{
 "cells": [
  {
   "cell_type": "code",
   "execution_count": 2,
   "metadata": {},
   "outputs": [],
   "source": [
    "import os\n",
    "from tqdm import tqdm\n",
    "\n",
    "from fyp.crypto import Crypto\n"
   ]
  },
  {
   "cell_type": "code",
   "execution_count": 3,
   "metadata": {},
   "outputs": [],
   "source": [
    "crypto = Crypto()\n"
   ]
  },
  {
   "cell_type": "code",
   "execution_count": 4,
   "metadata": {},
   "outputs": [],
   "source": [
    "base = '/its/home/ep396/Documents/FYP/'\n",
    "name = \"dataset\"\n"
   ]
  },
  {
   "cell_type": "code",
   "execution_count": 5,
   "metadata": {},
   "outputs": [],
   "source": [
    "def load_db(name, base):\n",
    "    e = base + f\"encrypted_{name}.db\"\n",
    "    d = base + f\"decrypted_{name}.db\"\n",
    "    crypto.age_decrypt_file(e, d)\n"
   ]
  },
  {
   "cell_type": "code",
   "execution_count": 6,
   "metadata": {},
   "outputs": [],
   "source": [
    "def unload_db(name, base):\n",
    "    e = base + f\"encrypted_{name}.db\"\n",
    "    d = base + f\"decrypted_{name}.db\"\n",
    "    crypto.age_encrypt_file(d, e)\n",
    "\n",
    "    os.remove(d)\n"
   ]
  },
  {
   "cell_type": "code",
   "execution_count": 7,
   "metadata": {},
   "outputs": [],
   "source": [
    "load_db(name, base)\n"
   ]
  },
  {
   "cell_type": "code",
   "execution_count": 8,
   "metadata": {},
   "outputs": [],
   "source": [
    "from fyp.db_dataset import Tweet\n",
    "from fyp.db import User, UserInteractorRelationships\n"
   ]
  },
  {
   "cell_type": "code",
   "execution_count": 9,
   "metadata": {},
   "outputs": [],
   "source": [
    "query_all = Tweet.select().dicts()\n"
   ]
  },
  {
   "cell_type": "code",
   "execution_count": 10,
   "metadata": {},
   "outputs": [],
   "source": [
    "neutral = [\"trans\", \"enby\", \"transgender\", \"nonbinary\"]\n",
    "non_neutral = [\"genderist\", \"genderism\", \"gender cult\", \"adult human female\", \"#sexnotgender\", \"#istandwithjkRowling\", \"#sexmatters\", \"#biologynotbigotry\", \"#waronwomen\", \"#istandWithJKR\", \"gender critical\", \"#istandwithmayaforstater\"]\n"
   ]
  },
  {
   "cell_type": "markdown",
   "metadata": {},
   "source": [
    "# Suspicious Retweets"
   ]
  },
  {
   "cell_type": "code",
   "execution_count": 11,
   "metadata": {},
   "outputs": [
    {
     "name": "stderr",
     "output_type": "stream",
     "text": [
      "100%|██████████| 628292/628292 [00:00<00:00, 1818553.47it/s]\n"
     ]
    }
   ],
   "source": [
    "suspicious_retweet_count = []\n",
    "no_likes = Tweet.select().where(Tweet.like_count == 0).dicts()\n",
    "\n",
    "for tweet in tqdm(no_likes):\n",
    "    if tweet[\"retweet_count\"] > tweet[\"like_count\"]:\n",
    "        suspicious_retweet_count.append(tweet)\n"
   ]
  },
  {
   "cell_type": "code",
   "execution_count": 12,
   "metadata": {},
   "outputs": [
    {
     "data": {
      "text/plain": [
       "4420"
      ]
     },
     "execution_count": 12,
     "metadata": {},
     "output_type": "execute_result"
    }
   ],
   "source": [
    "len(suspicious_retweet_count)\n"
   ]
  },
  {
   "cell_type": "code",
   "execution_count": 13,
   "metadata": {},
   "outputs": [
    {
     "name": "stderr",
     "output_type": "stream",
     "text": [
      "100%|██████████| 4420/4420 [00:00<00:00, 116216.30it/s]\n"
     ]
    }
   ],
   "source": [
    "sus_retweet = {\"neutral\":0, \"non-neutral\":0, \"both\":0, \"neither\":0}\n",
    "\n",
    "for tweet in tqdm(suspicious_retweet_count):\n",
    "    text = tweet[\"text\"].lower()\n",
    "    is_neutral = any(n in text for n in neutral)\n",
    "    is_non_neutral = any(n in text for n in non_neutral)\n",
    "\n",
    "    if is_neutral and is_non_neutral:\n",
    "        sus_retweet[\"both\"] += 1\n",
    "    elif is_neutral:\n",
    "        sus_retweet[\"neutral\"] += 1\n",
    "    elif is_non_neutral:\n",
    "        sus_retweet[\"non-neutral\"] += 1\n",
    "    else:\n",
    "        sus_retweet[\"neither\"] += 1\n"
   ]
  },
  {
   "cell_type": "code",
   "execution_count": 14,
   "metadata": {},
   "outputs": [],
   "source": [
    "def get_ratio(arr):\n",
    "    sum_ = sum(arr)\n",
    "    return [item / sum_ for item in arr]\n"
   ]
  },
  {
   "cell_type": "code",
   "execution_count": 15,
   "metadata": {},
   "outputs": [
    {
     "data": {
      "text/plain": [
       "{'neutral': 3719, 'non-neutral': 354, 'both': 101, 'neither': 246}"
      ]
     },
     "execution_count": 15,
     "metadata": {},
     "output_type": "execute_result"
    }
   ],
   "source": [
    "sus_retweet\n"
   ]
  },
  {
   "cell_type": "code",
   "execution_count": 16,
   "metadata": {},
   "outputs": [
    {
     "data": {
      "text/plain": [
       "[0.8414027149321267,\n",
       " 0.08009049773755657,\n",
       " 0.022850678733031673,\n",
       " 0.055656108597285064]"
      ]
     },
     "execution_count": 16,
     "metadata": {},
     "output_type": "execute_result"
    }
   ],
   "source": [
    "get_ratio([value for value in sus_retweet.values()])\n"
   ]
  },
  {
   "cell_type": "code",
   "execution_count": 17,
   "metadata": {},
   "outputs": [],
   "source": [
    "from collections import Counter\n"
   ]
  },
  {
   "cell_type": "code",
   "execution_count": 18,
   "metadata": {},
   "outputs": [],
   "source": [
    "unique_retweet_counter = Counter([tweet[\"author_id\"] for tweet in suspicious_retweet_count])\n"
   ]
  },
  {
   "cell_type": "code",
   "execution_count": 19,
   "metadata": {},
   "outputs": [
    {
     "data": {
      "text/plain": [
       "1982"
      ]
     },
     "execution_count": 19,
     "metadata": {},
     "output_type": "execute_result"
    }
   ],
   "source": [
    "len(unique_retweet_counter)\n"
   ]
  },
  {
   "cell_type": "code",
   "execution_count": 20,
   "metadata": {},
   "outputs": [],
   "source": [
    "sorted_suspicous_all_retweet = dict(sorted(unique_retweet_counter.items(), key=lambda x:x[1], reverse=True))\n"
   ]
  },
  {
   "cell_type": "markdown",
   "metadata": {},
   "source": [
    "# Suspicious Times"
   ]
  },
  {
   "cell_type": "code",
   "execution_count": 21,
   "metadata": {},
   "outputs": [],
   "source": [
    "from dateutil import parser\n",
    "import datetime\n"
   ]
  },
  {
   "cell_type": "code",
   "execution_count": 22,
   "metadata": {},
   "outputs": [
    {
     "name": "stderr",
     "output_type": "stream",
     "text": [
      "100%|██████████| 1873093/1873093 [00:30<00:00, 60829.46it/s]\n"
     ]
    }
   ],
   "source": [
    "times = {}\n",
    "\n",
    "for tweet in tqdm(query_all):\n",
    "    converted = parser.isoparse(tweet[\"created_at\"]).replace(second=0, microsecond=0)\n",
    "    if converted not in times:\n",
    "        times[converted] = 1\n",
    "    else:\n",
    "        times[converted] += 1\n"
   ]
  },
  {
   "cell_type": "code",
   "execution_count": 32,
   "metadata": {},
   "outputs": [],
   "source": [
    "top_one_suspicous_times = dict(sorted(times.items(), key=lambda x:x[1], reverse=True)[:300])\n"
   ]
  },
  {
   "cell_type": "code",
   "execution_count": 33,
   "metadata": {},
   "outputs": [
    {
     "name": "stderr",
     "output_type": "stream",
     "text": [
      "100%|██████████| 1873093/1873093 [04:42<00:00, 6636.04it/s] \n"
     ]
    }
   ],
   "source": [
    "one_minute = datetime.timedelta(minutes=1)\n",
    "suspicous_times_tweets = {}\n",
    "\n",
    "time_val = (one_minute * 2)\n",
    "\n",
    "for tweet in tqdm(query_all):\n",
    "    converted = parser.isoparse(tweet[\"created_at\"]).replace(second=0, microsecond=0)\n",
    "    converted_plus_one = parser.isoparse(tweet[\"created_at\"]) + one_minute\n",
    "    converted_minus_one = parser.isoparse(tweet[\"created_at\"]) - one_minute\n",
    "    if any(time <= (converted + time_val) and time >= (converted - time_val) for time in top_one_suspicous_times.keys()):\n",
    "        if converted not in suspicous_times_tweets:\n",
    "            suspicous_times_tweets[converted] = [tweet]\n",
    "        else:\n",
    "            suspicous_times_tweets[converted].append(tweet)\n"
   ]
  },
  {
   "cell_type": "code",
   "execution_count": 34,
   "metadata": {},
   "outputs": [],
   "source": [
    "time_groups = [set([tweet[\"author_id\"] for tweet in tweets]) for tweets in suspicous_times_tweets.values()]\n"
   ]
  },
  {
   "cell_type": "code",
   "execution_count": 35,
   "metadata": {},
   "outputs": [],
   "source": [
    "occurances = {}\n",
    "\n",
    "for i,s1 in enumerate(time_groups[:-1]):\n",
    "    for j,s2 in enumerate(time_groups[i+1:]):\n",
    "        new_set = frozenset(s1&s2)\n",
    "        if len(new_set) > 1:\n",
    "            if new_set not in occurances:\n",
    "                occurances[new_set] = 1\n",
    "            else:\n",
    "                occurances[new_set] += 1\n"
   ]
  },
  {
   "cell_type": "code",
   "execution_count": null,
   "metadata": {},
   "outputs": [],
   "source": [
    "occurances_sorted = dict(sorted(occurances.items(), key=lambda x:x[1], reverse=True))\n",
    "occurances_sorted\n"
   ]
  },
  {
   "cell_type": "markdown",
   "metadata": {},
   "source": [
    "# Network Analysis\n"
   ]
  },
  {
   "cell_type": "code",
   "execution_count": 11,
   "metadata": {},
   "outputs": [],
   "source": [
    "import json\n",
    "\n",
    "f = open(\"suspicious.json\")\n",
    "sus_raw = json.load(f)\n",
    "sus = [int(sus) for sus in sus_raw]\n",
    "f.close()\n"
   ]
  },
  {
   "cell_type": "code",
   "execution_count": 12,
   "metadata": {},
   "outputs": [
    {
     "name": "stderr",
     "output_type": "stream",
     "text": [
      "100%|██████████| 14745/14745 [00:01<00:00, 8911.51it/s]\n"
     ]
    }
   ],
   "source": [
    "twitter_id_to_anon = { crypto.fernet_decrypt(user.twitter_user_id) : user.id for user in tqdm(User.select()) }\n",
    "anon_to_twitter_id = { val:key for key, val in twitter_id_to_anon.items() }\n"
   ]
  },
  {
   "cell_type": "code",
   "execution_count": null,
   "metadata": {},
   "outputs": [],
   "source": []
  },
  {
   "cell_type": "markdown",
   "metadata": {},
   "source": [
    "---"
   ]
  },
  {
   "cell_type": "code",
   "execution_count": 38,
   "metadata": {},
   "outputs": [],
   "source": [
    "unload_db(name, base)\n"
   ]
  }
 ],
 "metadata": {
  "interpreter": {
   "hash": "6ade73bf49f1256608149ff920ccd937fcccdc8efd4975ff38aa98fc4d821ac5"
  },
  "kernelspec": {
   "display_name": "Python 3.9.7 ('fyp')",
   "language": "python",
   "name": "python3"
  },
  "language_info": {
   "codemirror_mode": {
    "name": "ipython",
    "version": 3
   },
   "file_extension": ".py",
   "mimetype": "text/x-python",
   "name": "python",
   "nbconvert_exporter": "python",
   "pygments_lexer": "ipython3",
   "version": "3.9.7"
  },
  "orig_nbformat": 4
 },
 "nbformat": 4,
 "nbformat_minor": 2
}
