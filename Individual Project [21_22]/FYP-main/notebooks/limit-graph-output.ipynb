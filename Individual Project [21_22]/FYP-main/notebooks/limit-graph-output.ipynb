{
 "cells": [
  {
   "cell_type": "code",
   "execution_count": 1,
   "metadata": {},
   "outputs": [],
   "source": [
    "from fyp.db import User, UserInteractorRelationships\n",
    "from tqdm import tqdm\n"
   ]
  },
  {
   "cell_type": "code",
   "execution_count": 2,
   "metadata": {},
   "outputs": [],
   "source": [
    "# Final graph idea:\n",
    "# gt or et 2 comments total\n",
    "# at least 2 comments to one user\n",
    "# connected to at least two users\n"
   ]
  },
  {
   "cell_type": "code",
   "execution_count": 3,
   "metadata": {},
   "outputs": [
    {
     "name": "stderr",
     "output_type": "stream",
     "text": [
      "100%|██████████| 77421/77421 [00:00<00:00, 641013.55it/s]\n",
      "100%|██████████| 193557/193557 [00:00<00:00, 580446.95it/s]\n"
     ]
    }
   ],
   "source": [
    "users = [(user.id, user.twitter_user_id, user.seed, user.hop) for user in tqdm(User.select())]\n",
    "relationships = [(relationship.id, relationship.user_id, relationship.interactor_id, relationship.count) for relationship in tqdm(UserInteractorRelationships.select())]\n"
   ]
  },
  {
   "cell_type": "code",
   "execution_count": 4,
   "metadata": {},
   "outputs": [],
   "source": [
    "totals = {}\n",
    "relationship_count = {}\n",
    "\n",
    "for relationship in relationships:\n",
    "    interactor = relationship[2]\n",
    "    count = relationship[3]\n",
    "    \n",
    "    if interactor not in totals:\n",
    "        totals[interactor] = count\n",
    "        relationship_count[interactor] = 1\n",
    "    else:\n",
    "        totals[interactor] += count\n",
    "        relationship_count[interactor] += 1\n"
   ]
  },
  {
   "cell_type": "code",
   "execution_count": 5,
   "metadata": {},
   "outputs": [],
   "source": [
    "users_10_replies_or_more = {}\n",
    "\n",
    "for user_id, total in totals.items():\n",
    "    if total >= 2:\n",
    "        users_10_replies_or_more[user_id] = False\n"
   ]
  },
  {
   "cell_type": "code",
   "execution_count": 6,
   "metadata": {},
   "outputs": [
    {
     "data": {
      "text/plain": [
       "35787"
      ]
     },
     "execution_count": 6,
     "metadata": {},
     "output_type": "execute_result"
    }
   ],
   "source": [
    "len(users_10_replies_or_more)"
   ]
  },
  {
   "cell_type": "code",
   "execution_count": 7,
   "metadata": {},
   "outputs": [],
   "source": [
    "users_more_than_two_replies_to_one_user = []\n",
    "\n",
    "for relationship in relationships:\n",
    "    interactor = relationship[2]\n",
    "    count = relationship[3]\n",
    "    if interactor in users_10_replies_or_more and users_10_replies_or_more[interactor] is False and count >= 2:\n",
    "        users_10_replies_or_more[interactor] = True\n",
    "        users_more_than_two_replies_to_one_user.append(interactor)\n"
   ]
  },
  {
   "cell_type": "code",
   "execution_count": 8,
   "metadata": {},
   "outputs": [
    {
     "data": {
      "text/plain": [
       "29515"
      ]
     },
     "execution_count": 8,
     "metadata": {},
     "output_type": "execute_result"
    }
   ],
   "source": [
    "len(users_more_than_two_replies_to_one_user)\n"
   ]
  },
  {
   "cell_type": "code",
   "execution_count": 9,
   "metadata": {},
   "outputs": [],
   "source": [
    "final_users_to_keep = [i for i in range(1,31)]\n",
    "\n",
    "for user in users_more_than_two_replies_to_one_user:\n",
    "    if relationship_count[user] > 1:\n",
    "        final_users_to_keep.append(user)\n"
   ]
  },
  {
   "cell_type": "code",
   "execution_count": 10,
   "metadata": {},
   "outputs": [
    {
     "data": {
      "text/plain": [
       "14769"
      ]
     },
     "execution_count": 10,
     "metadata": {},
     "output_type": "execute_result"
    }
   ],
   "source": [
    "len(final_users_to_keep)\n"
   ]
  },
  {
   "cell_type": "code",
   "execution_count": 11,
   "metadata": {},
   "outputs": [],
   "source": [
    "relationships_to_keep_with_nulls = [relationship[0] if relationship[2] in final_users_to_keep else None for relationship in relationships]\n"
   ]
  },
  {
   "cell_type": "code",
   "execution_count": 12,
   "metadata": {},
   "outputs": [],
   "source": [
    "relationships_to_keep = []\n",
    "for relationship in relationships_to_keep_with_nulls:\n",
    "    if relationship is not None:\n",
    "        relationships_to_keep.append(relationship)\n"
   ]
  },
  {
   "cell_type": "code",
   "execution_count": 13,
   "metadata": {},
   "outputs": [
    {
     "data": {
      "text/plain": [
       "62676"
      ]
     },
     "execution_count": 13,
     "metadata": {},
     "output_type": "execute_result"
    }
   ],
   "source": [
    "users_to_delete = User.delete().where(~(User.id << final_users_to_keep))\n",
    "users_to_delete.execute()\n"
   ]
  },
  {
   "cell_type": "code",
   "execution_count": 14,
   "metadata": {},
   "outputs": [
    {
     "data": {
      "text/plain": [
       "72529"
      ]
     },
     "execution_count": 14,
     "metadata": {},
     "output_type": "execute_result"
    }
   ],
   "source": [
    "relations_to_delete = UserInteractorRelationships.delete().where(~(UserInteractorRelationships.id << relationships_to_keep))\n",
    "relations_to_delete.execute()\n"
   ]
  },
  {
   "cell_type": "code",
   "execution_count": 15,
   "metadata": {},
   "outputs": [
    {
     "data": {
      "text/plain": [
       "9863"
      ]
     },
     "execution_count": 15,
     "metadata": {},
     "output_type": "execute_result"
    }
   ],
   "source": [
    "User.select().where(User.hop == 2).count()\n"
   ]
  }
 ],
 "metadata": {
  "interpreter": {
   "hash": "6ade73bf49f1256608149ff920ccd937fcccdc8efd4975ff38aa98fc4d821ac5"
  },
  "kernelspec": {
   "display_name": "Python 3.9.7 ('fyp')",
   "language": "python",
   "name": "python3"
  },
  "language_info": {
   "codemirror_mode": {
    "name": "ipython",
    "version": 3
   },
   "file_extension": ".py",
   "mimetype": "text/x-python",
   "name": "python",
   "nbconvert_exporter": "python",
   "pygments_lexer": "ipython3",
   "version": "3.9.7"
  },
  "orig_nbformat": 4
 },
 "nbformat": 4,
 "nbformat_minor": 2
}
