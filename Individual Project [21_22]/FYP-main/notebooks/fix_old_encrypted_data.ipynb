{
 "cells": [
  {
   "cell_type": "code",
   "execution_count": 2,
   "metadata": {},
   "outputs": [
    {
     "name": "stdout",
     "output_type": "stream",
     "text": [
      "hello world\n"
     ]
    }
   ],
   "source": [
    "print('hello world')"
   ]
  },
  {
   "cell_type": "code",
   "execution_count": 3,
   "metadata": {},
   "outputs": [],
   "source": [
    "from getpass import getpass\n",
    "from cryptography.fernet import Fernet\n",
    "\n",
    "class FernetCrypto:\n",
    "    key = None\n",
    "\n",
    "    def __init__(self) -> None:\n",
    "        self.load_key()\n",
    "\n",
    "    def load_key(self):\n",
    "        self.key = getpass(\"Enter key: \")\n",
    "\n",
    "    def encrypt(self, secret):\n",
    "        encode_secret = secret.encode()\n",
    "        fer = Fernet(self.key)\n",
    "        return fer.encrypt(encode_secret)\n",
    "\n",
    "    def decrypt(self, encrypt_secret):\n",
    "        fer = Fernet(self.key)\n",
    "        decrypt_secret = fer.decrypt(encrypt_secret.encode(\"utf-8\"))\n",
    "        return decrypt_secret.decode()"
   ]
  },
  {
   "cell_type": "code",
   "execution_count": 4,
   "metadata": {},
   "outputs": [],
   "source": [
    "crypto = FernetCrypto()\n",
    "crypto.load_key()"
   ]
  },
  {
   "cell_type": "code",
   "execution_count": 5,
   "metadata": {},
   "outputs": [
    {
     "name": "stdout",
     "output_type": "stream",
     "text": [
      "Chunk 0\n",
      "Chunk 1\n",
      "Chunk 2\n"
     ]
    }
   ],
   "source": [
    "file_beginning = \"/its/home/ep396/Documents/FYP/data/test-temp-raw\"\n",
    "all_lines = []\n",
    "\n",
    "for num in range(3):\n",
    "    print(f\"Chunk {num}\")\n",
    "    with open(f\"{file_beginning}.enc.{num}\", \"r\") as f:\n",
    "        for id, line in enumerate(f.readlines()):\n",
    "            all_lines.append(crypto.decrypt(line))"
   ]
  },
  {
   "cell_type": "code",
   "execution_count": 6,
   "metadata": {},
   "outputs": [],
   "source": [
    "import json\n",
    "\n",
    "json_data = json.loads(\"\".join(all_lines))\n"
   ]
  },
  {
   "cell_type": "code",
   "execution_count": 7,
   "metadata": {},
   "outputs": [],
   "source": [
    "with open('unencrypted.json', 'w') as f:\n",
    "    f.write(json.dumps(json_data))\n"
   ]
  }
 ],
 "metadata": {
  "interpreter": {
   "hash": "6ade73bf49f1256608149ff920ccd937fcccdc8efd4975ff38aa98fc4d821ac5"
  },
  "kernelspec": {
   "display_name": "Python 3.9.7 64-bit ('fyp': conda)",
   "language": "python",
   "name": "python3"
  },
  "language_info": {
   "codemirror_mode": {
    "name": "ipython",
    "version": 3
   },
   "file_extension": ".py",
   "mimetype": "text/x-python",
   "name": "python",
   "nbconvert_exporter": "python",
   "pygments_lexer": "ipython3",
   "version": "3.9.7"
  },
  "orig_nbformat": 4
 },
 "nbformat": 4,
 "nbformat_minor": 2
}
