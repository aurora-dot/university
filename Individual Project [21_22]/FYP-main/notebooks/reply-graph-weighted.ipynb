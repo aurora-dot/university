{
 "cells": [
  {
   "cell_type": "code",
   "execution_count": 1,
   "metadata": {},
   "outputs": [],
   "source": [
    "import os\n",
    "import json\n",
    "from tqdm import tqdm\n",
    "from fyp.crypto import Crypto\n",
    "from fyp.db import User, UserInteractorRelationships, Database, db\n"
   ]
  },
  {
   "cell_type": "code",
   "execution_count": 2,
   "metadata": {},
   "outputs": [],
   "source": [
    "crypto = Crypto()\n",
    "database = Database(crypto)\n"
   ]
  },
  {
   "cell_type": "code",
   "execution_count": 3,
   "metadata": {},
   "outputs": [],
   "source": [
    "def load_data(name):\n",
    "    base = \"/its/home/ep396/Documents/FYP/data/snowball_second/\"\n",
    "    e = base + f\"encrypted_{name}.json\"\n",
    "    d = base + f\"decrypted_{name}.json\"\n",
    "\n",
    "    crypto.age_decrypt_file(e, d)\n",
    "\n",
    "    file = open(d, encoding='utf8')\n",
    "    data = json.load(file)\n",
    "    file.close()\n",
    "\n",
    "    os.remove(d)\n",
    "\n",
    "    return data\n"
   ]
  },
  {
   "cell_type": "code",
   "execution_count": 4,
   "metadata": {},
   "outputs": [],
   "source": [
    "def simple_create_relations(user_id, follower_ids, counts):\n",
    "    user_orm = User.select(User.id).where(User.twitter_user_id == user_id)\n",
    "    for follower_id in follower_ids:\n",
    "        follower_orm = User.select(User.id).where(User.twitter_user_id == follower_id)\n",
    "        count = counts[(user_id, follower_id)]\n",
    "        database.add_interactor_relation(user_orm, follower_orm, count)"
   ]
  },
  {
   "cell_type": "code",
   "execution_count": 5,
   "metadata": {},
   "outputs": [],
   "source": [
    "def get_unique_repliers(users, repliers):\n",
    "    unique_users = []\n",
    "    relations = {}\n",
    "    counts = {}\n",
    "\n",
    "    for user in tqdm(users):\n",
    "        captured_users = repliers[str(user)]\n",
    "        relations[user] = []\n",
    "        for captured_user in captured_users:\n",
    "            if captured_user not in unique_users: unique_users.append(captured_user)\n",
    "            if captured_user not in relations[user]: relations[user].append(captured_user)\n",
    "            if (user, captured_user) not in counts:\n",
    "                counts[(user, captured_user)] = 0\n",
    "            counts[(user, captured_user)] += 1\n",
    "\n",
    "    return unique_users, relations, counts\n"
   ]
  },
  {
   "cell_type": "code",
   "execution_count": 6,
   "metadata": {},
   "outputs": [],
   "source": [
    "users = {\n",
    "    int(crypto.fernet_decrypt(user.twitter_user_id)): user.id\n",
    "    for user in User.select(User.id, User.twitter_user_id).where(User.hop == 1)\n",
    "}\n",
    "\n",
    "user_reverse = {value: key for key, value in users.items()}\n",
    "user_twitter_ids = [user for user in users.keys()]\n"
   ]
  },
  {
   "cell_type": "code",
   "execution_count": 7,
   "metadata": {},
   "outputs": [],
   "source": [
    "repliers = load_data(\"repliers\")\n"
   ]
  },
  {
   "cell_type": "code",
   "execution_count": 8,
   "metadata": {},
   "outputs": [
    {
     "name": "stderr",
     "output_type": "stream",
     "text": [
      "100%|██████████| 4852/4852 [04:29<00:00, 17.97it/s]  \n"
     ]
    }
   ],
   "source": [
    "reply_users, relations, counts = get_unique_repliers(user_twitter_ids, repliers)\n"
   ]
  },
  {
   "cell_type": "code",
   "execution_count": 13,
   "metadata": {},
   "outputs": [
    {
     "data": {
      "text/plain": [
       "177511"
      ]
     },
     "execution_count": 13,
     "metadata": {},
     "output_type": "execute_result"
    }
   ],
   "source": [
    "sum([len(relations) for user, relations in relations.items()])\n"
   ]
  },
  {
   "cell_type": "code",
   "execution_count": 14,
   "metadata": {},
   "outputs": [
    {
     "data": {
      "text/plain": [
       "77047"
      ]
     },
     "execution_count": 14,
     "metadata": {},
     "output_type": "execute_result"
    }
   ],
   "source": [
    "len(reply_users)\n"
   ]
  },
  {
   "cell_type": "code",
   "execution_count": 9,
   "metadata": {},
   "outputs": [
    {
     "name": "stderr",
     "output_type": "stream",
     "text": [
      "100%|██████████| 4882/4882 [01:59<00:00, 40.70it/s]\n"
     ]
    }
   ],
   "source": [
    "if database.encrypted():\n",
    "    database.encrypt_or_decrypt()\n"
   ]
  },
  {
   "cell_type": "code",
   "execution_count": 10,
   "metadata": {},
   "outputs": [
    {
     "name": "stderr",
     "output_type": "stream",
     "text": [
      "100%|██████████| 77047/77047 [1:12:20<00:00, 17.75it/s]  \n"
     ]
    }
   ],
   "source": [
    "for user in tqdm(reply_users):\n",
    "    database.add_user(user, False, 2)\n"
   ]
  },
  {
   "cell_type": "code",
   "execution_count": 11,
   "metadata": {},
   "outputs": [
    {
     "name": "stderr",
     "output_type": "stream",
     "text": [
      " 42%|████▏     | 2036/4852 [1:02:20<30:58,  1.52it/s]  "
     ]
    }
   ],
   "source": [
    "for user, followers in tqdm(relations.items()):\n",
    "    simple_create_relations(user, followers, counts)\n"
   ]
  },
  {
   "cell_type": "code",
   "execution_count": null,
   "metadata": {},
   "outputs": [
    {
     "name": "stderr",
     "output_type": "stream",
     "text": [
      "100%|██████████| 44413/44413 [18:10<00:00, 40.72it/s]   \n"
     ]
    }
   ],
   "source": [
    "if not database.encrypted():\n",
    "    database.encrypt_or_decrypt()\n"
   ]
  },
  {
   "cell_type": "markdown",
   "metadata": {},
   "source": []
  }
 ],
 "metadata": {
  "interpreter": {
   "hash": "6ade73bf49f1256608149ff920ccd937fcccdc8efd4975ff38aa98fc4d821ac5"
  },
  "kernelspec": {
   "display_name": "Python 3.9.7 ('fyp')",
   "language": "python",
   "name": "python3"
  },
  "language_info": {
   "codemirror_mode": {
    "name": "ipython",
    "version": 3
   },
   "file_extension": ".py",
   "mimetype": "text/x-python",
   "name": "python",
   "nbconvert_exporter": "python",
   "pygments_lexer": "ipython3",
   "version": "3.9.7"
  },
  "orig_nbformat": 4
 },
 "nbformat": 4,
 "nbformat_minor": 2
}
