{
 "cells": [
  {
   "cell_type": "code",
   "execution_count": 1,
   "metadata": {},
   "outputs": [],
   "source": [
    "from fyp.twitter_api import twitter_api, convert_datetime_to_ISO_8601, ratelimit_wait\n",
    "from fyp.db import User, UserInteractorRelationships, Database, db\n",
    "import matplotlib.pyplot as plt\n",
    "from fyp.crypto import Crypto\n",
    "from tqdm import tqdm\n",
    "import numpy as np\n",
    "import datetime\n",
    "import time\n",
    "import pandas as pd\n",
    "import ijson\n",
    "import json\n",
    "import os\n",
    "import pickle\n"
   ]
  },
  {
   "cell_type": "code",
   "execution_count": 2,
   "metadata": {},
   "outputs": [],
   "source": [
    "from fyp.secrets import SECRETS\n",
    "headers = {\"Authorization\": f\"Bearer {SECRETS.TWITTER_BEARER_TOKEN}\"}\n"
   ]
  },
  {
   "cell_type": "code",
   "execution_count": 3,
   "metadata": {},
   "outputs": [],
   "source": [
    "def save_data(data, name):\n",
    "    base = \"/its/home/ep396/Documents/FYP/data/tie_up/\"\n",
    "    e = base + f\"encrypted_{name}.pickle\"\n",
    "    d = base + f\"decrypted_{name}.pickle\"\n",
    "    \n",
    "    with open(d, \"wb\") as handle:\n",
    "        pickle.dump(data, handle, protocol=pickle.HIGHEST_PROTOCOL)\n",
    "\n",
    "    crypto.age_encrypt_file(d, e)\n",
    "\n",
    "    os.remove(d)"
   ]
  },
  {
   "cell_type": "code",
   "execution_count": 4,
   "metadata": {},
   "outputs": [],
   "source": [
    "def load_data(name):\n",
    "    base = \"/its/home/ep396/Documents/FYP/data/tie_up/\"\n",
    "    e = base + f\"encrypted_{name}.json\"\n",
    "    d = base + f\"decrypted_{name}.json\"\n",
    "\n",
    "    crypto.age_decrypt_file(e, d)\n",
    "\n",
    "    with open(d, 'rb') as handle:\n",
    "        data = pickle.load(handle)\n",
    "\n",
    "    os.remove(d)\n",
    "\n",
    "    return data\n"
   ]
  },
  {
   "cell_type": "code",
   "execution_count": 5,
   "metadata": {},
   "outputs": [],
   "source": [
    "start_hop = 2\n",
    "crypto = Crypto()\n",
    "database = Database(crypto)\n"
   ]
  },
  {
   "cell_type": "code",
   "execution_count": 6,
   "metadata": {},
   "outputs": [],
   "source": [
    "# Get seed users from db\n",
    "users = {\n",
    "    int(crypto.fernet_decrypt(user.twitter_user_id)):user.id\n",
    "    for user in User.select(User.id, User.twitter_user_id).where(User.hop == start_hop)\n",
    "}\n",
    "\n",
    "user_reverse = {value: key for key, value in users.items()}\n",
    "\n",
    "user_twitter_ids = [user for user in users.keys()]\n",
    "user_ids = [user for user in users.values()]\n"
   ]
  },
  {
   "cell_type": "code",
   "execution_count": 8,
   "metadata": {},
   "outputs": [
    {
     "data": {
      "text/plain": [
       "4852"
      ]
     },
     "execution_count": 8,
     "metadata": {},
     "output_type": "execute_result"
    }
   ],
   "source": [
    "len(users)"
   ]
  },
  {
   "cell_type": "code",
   "execution_count": 7,
   "metadata": {},
   "outputs": [],
   "source": [
    "save_data(users, \"test\")"
   ]
  },
  {
   "cell_type": "code",
   "execution_count": 9,
   "metadata": {},
   "outputs": [],
   "source": [
    "raw_timeframe = (datetime.datetime(2021, 1, 1, 0, 0, 0), datetime.datetime(2021, 12, 31, 23, 59, 59))\n",
    "timeframe = tuple([convert_datetime_to_ISO_8601(timeframe) for timeframe in raw_timeframe])\n"
   ]
  },
  {
   "cell_type": "code",
   "execution_count": null,
   "metadata": {},
   "outputs": [],
   "source": [
    "base_seed_user_query = (\n",
    "    '(\"trans\" OR \"enby\" OR \"transgender\" OR \"nonbinary\" OR ' + \n",
    "    '\"genderist\" OR \"genderism\" OR \"gender cult\" OR ' + \n",
    "    '\"adult human female\" OR \"#SexNotGender\" OR ' +\n",
    "    '\"#IStandWithJKRowling\" OR \"#SexMatters\" OR ' +\n",
    "    '\"#BiologyNotBigotry\" OR \"#WarOnWomen\" OR ' +\n",
    "    '\"#IStandWithJKR\" OR \"Gender Critical\" OR ' +\n",
    "    '\"#IStandWithMayaForstater\") REPLACEME -\"eng trans\" '+\n",
    "    '-\"#transporn\" -\"#porn\" -is:nullcast ' +\n",
    "    'lang:en -is:retweet'\n",
    ")\n"
   ]
  },
  {
   "cell_type": "code",
   "execution_count": null,
   "metadata": {},
   "outputs": [],
   "source": [
    "tweets = {}\n"
   ]
  },
  {
   "cell_type": "code",
   "execution_count": null,
   "metadata": {},
   "outputs": [],
   "source": [
    "def get_user_tweets(user_id, base_query):\n",
    "    query = base_query.replace(\"REPLACEME\", f\"from:{user_id}\")\n",
    "    concat_data, next_token, cont = [], None, True\n",
    "    start, end = timeframe\n",
    "\n",
    "    while cont:\n",
    "        params = {\n",
    "            \"query\": query,\n",
    "            \"next_token\": next_token,\n",
    "            \"start_time\": start,\n",
    "            \"end_time\": end,\n",
    "            \"tweet.fields\": \"public_metrics,conversation_id,referenced_tweets,reply_settings,in_reply_to_user_id,created_at\",\n",
    "            \"expansions\": \"author_id\",\n",
    "            \"max_results\": 500,\n",
    "        }\n",
    "\n",
    "        data, limit_remaining_requests, limit_reset_time = twitter_api(\n",
    "            url=\"https://api.twitter.com/2/tweets/search/all\",\n",
    "            headers=headers,\n",
    "            params=params,\n",
    "            data_location=\"data\",\n",
    "        )\n",
    "\n",
    "        if data[\"fyp\"][\"error\"] is True:\n",
    "            if (limit_remaining_requests <= 0 and cont is True) or (\"status\" in data and data[\"status\"] == 429):\n",
    "                ratelimit_wait(limit_reset_time, \"tweets\", len(concat_data))\n",
    "            elif \"meta\" in data and data[\"meta\"][\"result_count\"] == 0:\n",
    "                cont = False\n",
    "            else:\n",
    "                raise Exception(data)\n",
    "        else:\n",
    "            concat_data += data[\"data\"]\n",
    "            print(f\"Added: {len(data['data'])}\")\n",
    "            print(f\"Total: {len(concat_data)}\\n\")\n",
    "            next_token = (\n",
    "                data[\"meta\"][\"next_token\"]\n",
    "                if \"next_token\" in data[\"meta\"]\n",
    "                else None\n",
    "            )\n",
    "\n",
    "            if next_token is None and data[\"fyp\"][\"error\"] is False:\n",
    "                cont = False\n",
    "\n",
    "            time.sleep(1.15)\n",
    "\n",
    "    return concat_data\n"
   ]
  },
  {
   "cell_type": "code",
   "execution_count": null,
   "metadata": {},
   "outputs": [],
   "source": [
    "# Loop through seed users, get relevant tweet IDs of a timespan of a year\n",
    "for user_twitter_id, user_db_id in tqdm(users.items()):\n",
    "    print(f\"==> User {user_db_id}\")\n",
    "    tweets[user_twitter_id] = get_user_tweets(user_twitter_id, base_seed_user_query)\n"
   ]
  },
  {
   "cell_type": "code",
   "execution_count": null,
   "metadata": {},
   "outputs": [],
   "source": [
    "save_data(tweets, \"tweets\")"
   ]
  }
 ],
 "metadata": {
  "interpreter": {
   "hash": "6ade73bf49f1256608149ff920ccd937fcccdc8efd4975ff38aa98fc4d821ac5"
  },
  "kernelspec": {
   "display_name": "Python 3.9.7 ('fyp')",
   "language": "python",
   "name": "python3"
  },
  "language_info": {
   "codemirror_mode": {
    "name": "ipython",
    "version": 3
   },
   "file_extension": ".py",
   "mimetype": "text/x-python",
   "name": "python",
   "nbconvert_exporter": "python",
   "pygments_lexer": "ipython3",
   "version": "3.9.7"
  },
  "orig_nbformat": 4
 },
 "nbformat": 4,
 "nbformat_minor": 2
}
