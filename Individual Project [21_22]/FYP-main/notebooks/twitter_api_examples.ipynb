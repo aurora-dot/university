{
 "cells": [
  {
   "cell_type": "code",
   "execution_count": null,
   "metadata": {},
   "outputs": [],
   "source": [
    "from fyp.twitter_api import twitter_api, convert_datetime_to_ISO_8601\n",
    "from fyp.secrets import SECRETS\n",
    "\n",
    "from datetime import datetime\n"
   ]
  },
  {
   "cell_type": "code",
   "execution_count": null,
   "metadata": {},
   "outputs": [],
   "source": [
    "headers = {\"Authorization\": f\"Bearer {SECRETS.TWITTER_BEARER_TOKEN}\"}\n",
    "start_time = convert_datetime_to_ISO_8601(datetime(2020, 6, 10, 0, 0, 0, 0))\n",
    "end_time = convert_datetime_to_ISO_8601(datetime(2020, 6, 15, 23, 59, 59, 999999))\n"
   ]
  },
  {
   "cell_type": "code",
   "execution_count": null,
   "metadata": {},
   "outputs": [],
   "source": [
    "class RateLimitException(Exception):\n",
    "    pass\n"
   ]
  },
  {
   "cell_type": "code",
   "execution_count": null,
   "metadata": {},
   "outputs": [],
   "source": [
    "# Search all tweets\n",
    "# https://developer.twitter.com/en/docs/twitter-api/tweets/search/api-reference/get-tweets-search-all\n",
    "\n",
    "query = (\n",
    "    '(\"trans\" OR \"enby\" OR \"transgender\" OR \"nonbinary\") '\n",
    "    + '-\"eng trans\" -\"#transporn\" -\"#porn\" '\n",
    "    + \"-is:nullcast lang:en -is:retweet is:reply\"\n",
    ")\n",
    "\n",
    "url = \"https://api.twitter.com/2/tweets/search/all\"\n",
    "\n",
    "params = {\n",
    "    \"query\": query,\n",
    "    \"tweet.fields\": \"public_metrics\",\n",
    "    \"expansions\": \"author_id\",\n",
    "    \"max_results\": 10,\n",
    "    \"start_time\": start_time,\n",
    "    \"end_time\": end_time,\n",
    "}\n",
    "\n",
    "data_one, limit_remaining_requests, limit_reset_time = twitter_api(headers=headers, url=url, params=params, data_location='data')\n",
    "\n",
    "if 'data' not in data_one and data_one['fyp']['error'] is True:\n",
    "    print(data_one)\n",
    "    if 'status' in data_one and data_one['status'] == 429:\n",
    "        raise RateLimitException\n",
    "    else:\n",
    "        raise Exception\n",
    "\n",
    "test_author_id = data_one['data'][0]['author_id']\n",
    "\n",
    "params[\"next_token\"] = data_one['meta']['next_token']\n",
    "data_two, limit_remaining_requests, limit_reset_time = twitter_api(headers=headers, url=url, params=params, data_location='data')\n"
   ]
  },
  {
   "cell_type": "code",
   "execution_count": null,
   "metadata": {},
   "outputs": [],
   "source": [
    "# User tweets\n",
    "# https://developer.twitter.com/en/docs/twitter-api/tweets/timelines/api-reference/get-users-id-tweets\n",
    "\n",
    "url = f\"https://api.twitter.com/2/users/{test_author_id}/tweets\"\n",
    "params = {\n",
    "    \"exclude\": 'retweets,replies',\n",
    "    \"expansions\": 'author_id,referenced_tweets.id,entities.mentions.username',\n",
    "    \"max_results\": 10,\n",
    "    \"media.fields\": 'public_metrics',\n",
    "    \"tweet.fields\": 'public_metrics,referenced_tweets',\n",
    "    \"user.fields\": 'public_metrics,description'\n",
    "}\n",
    "\n",
    "data_three, limit_remaining_requests, limit_reset_time = twitter_api(headers=headers, url=url, params=params, data_location='data')\n",
    "\n",
    "if 'data' not in data_three and data_three['fyp']['error'] is True:\n",
    "    print(data_three)\n",
    "    raise Exception\n"
   ]
  },
  {
   "cell_type": "code",
   "execution_count": null,
   "metadata": {},
   "outputs": [],
   "source": [
    "# Retweeters of tweet\n",
    "# https://developer.twitter.com/en/docs/twitter-api/v1/tweets/post-and-engage/api-reference/get-statuses-retweeters-ids\n",
    "\n",
    "url = \"https://api.twitter.com/1.1/statuses/retweeters/ids.json\"\n",
    "params = {\n",
    "    'id': 1490394303562231811,\n",
    "    'count': 100\n",
    "}\n",
    "\n",
    "data_four, limit_remaining_requests, limit_reset_time = twitter_api(headers=headers, url=url, params=params, data_location='ids')\n",
    "\n",
    "if 'ids' not in data_four and data_four['fyp']['error'] is True:\n",
    "    print(data_four)\n",
    "    raise Exception\n"
   ]
  },
  {
   "cell_type": "code",
   "execution_count": null,
   "metadata": {},
   "outputs": [],
   "source": [
    "# Get user mentions\n",
    "# https://developer.twitter.com/en/docs/twitter-api/tweets/timelines/api-reference/get-users-id-mentions\n",
    "\n",
    "url = f\"https://api.twitter.com/2/users/{test_author_id}/mentions\"\n",
    "params = {\n",
    "    \"max_results\": 10,\n",
    "    \"expansions\": 'author_id'\n",
    "}\n",
    "\n",
    "data_five, limit_remaining_requests, limit_reset_time = twitter_api(headers=headers, url=url, params=params, data_location='data')\n",
    "\n",
    "if 'data' not in data_five and data_five['fyp']['error'] is True:\n",
    "    print(data_five)\n",
    "    raise Exception\n"
   ]
  },
  {
   "cell_type": "code",
   "execution_count": null,
   "metadata": {},
   "outputs": [],
   "source": [
    "# Get follower ids\n",
    "# https://developer.twitter.com/en/docs/twitter-api/v1/accounts-and-users/follow-search-get-users/api-reference/get-followers-ids\n",
    "\n",
    "url = \"https://api.twitter.com/1.1/followers/ids.json\"\n",
    "params = {\n",
    "    \"user_id\": test_author_id,\n",
    "    \"count\": 10\n",
    "}\n",
    "\n",
    "data_six, limit_remaining_requests, limit_reset_time = twitter_api(headers=headers, url=url, params=params, data_location='ids')\n",
    "\n",
    "if 'ids' not in data_six and data_six['fyp']['error'] is True:\n",
    "    print(data_six)\n",
    "    raise Exception\n"
   ]
  },
  {
   "cell_type": "code",
   "execution_count": null,
   "metadata": {},
   "outputs": [],
   "source": [
    "# Get user details\n",
    "# https://developer.twitter.com/en/docs/twitter-api/users/lookup/api-reference/get-users\n",
    "\n",
    "url = \"https://api.twitter.com/2/users\"\n",
    "params = {\n",
    "    \"ids\": f\"{data_one['data'][0]['author_id']},{data_one['data'][1]['author_id']}\",\n",
    "    \"user.fields\": \"public_metrics\"\n",
    "}\n",
    "\n",
    "data_seven, limit_remaining_requests, limit_reset_time = twitter_api(headers=headers, url=url, params=params, data_location='data')\n",
    "\n",
    "if 'data' not in data_seven and data_seven['fyp']['error'] is True:\n",
    "    print(data_seven)\n",
    "    raise Exception\n"
   ]
  }
 ],
 "metadata": {
  "interpreter": {
   "hash": "6ade73bf49f1256608149ff920ccd937fcccdc8efd4975ff38aa98fc4d821ac5"
  },
  "kernelspec": {
   "display_name": "Python 3.9.7 ('fyp')",
   "language": "python",
   "name": "python3"
  },
  "language_info": {
   "codemirror_mode": {
    "name": "ipython",
    "version": 3
   },
   "file_extension": ".py",
   "mimetype": "text/x-python",
   "name": "python",
   "nbconvert_exporter": "python",
   "pygments_lexer": "ipython3",
   "version": "3.9.7"
  },
  "orig_nbformat": 4
 },
 "nbformat": 4,
 "nbformat_minor": 2
}
