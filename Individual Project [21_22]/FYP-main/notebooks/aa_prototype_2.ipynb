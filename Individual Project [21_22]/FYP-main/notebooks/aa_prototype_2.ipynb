{
 "cells": [
  {
   "cell_type": "code",
   "execution_count": 1,
   "metadata": {},
   "outputs": [],
   "source": [
    "import nltk\n",
    "from tqdm import tqdm\n",
    "import os\n",
    "import html\n",
    "import re\n",
    "\n",
    "import pandas as pd\n",
    "from mlxtend.preprocessing import TransactionEncoder\n",
    "from mlxtend.frequent_patterns import fpgrowth, fpmax\n",
    "\n",
    "from fyp.crypto import Crypto\n"
   ]
  },
  {
   "cell_type": "code",
   "execution_count": null,
   "metadata": {},
   "outputs": [],
   "source": [
    "# https://link.springer.com/content/pdf/10.1007/11892755_87.pdf\n"
   ]
  },
  {
   "cell_type": "code",
   "execution_count": 2,
   "metadata": {},
   "outputs": [],
   "source": [
    "crypto = Crypto()\n",
    "base = '/its/home/ep396/Documents/FYP/'\n",
    "name = \"dataset\"\n"
   ]
  },
  {
   "cell_type": "code",
   "execution_count": 3,
   "metadata": {},
   "outputs": [],
   "source": [
    "def load_db(name, base):\n",
    "    e = base + f\"encrypted_{name}.db\"\n",
    "    d = base + f\"decrypted_{name}.db\"\n",
    "    crypto.age_decrypt_file(e, d)\n"
   ]
  },
  {
   "cell_type": "code",
   "execution_count": 4,
   "metadata": {},
   "outputs": [],
   "source": [
    "def unload_db(name, base):\n",
    "    e = base + f\"encrypted_{name}.db\"\n",
    "    d = base + f\"decrypted_{name}.db\"\n",
    "    crypto.age_encrypt_file(d, e)\n",
    "\n",
    "    os.remove(d)\n"
   ]
  },
  {
   "cell_type": "code",
   "execution_count": 5,
   "metadata": {},
   "outputs": [],
   "source": [
    "load_db(name, base)\n"
   ]
  },
  {
   "cell_type": "code",
   "execution_count": 6,
   "metadata": {},
   "outputs": [],
   "source": [
    "from fyp.db_dataset import Tweet, ReferencedTweet, DataSplit\n"
   ]
  },
  {
   "cell_type": "code",
   "execution_count": 7,
   "metadata": {},
   "outputs": [
    {
     "name": "stderr",
     "output_type": "stream",
     "text": [
      "[nltk_data] Downloading package stopwords to\n",
      "[nltk_data]     /its/home/ep396/nltk_data...\n",
      "[nltk_data]   Package stopwords is already up-to-date!\n",
      "[nltk_data] Downloading package punkt to /its/home/ep396/nltk_data...\n",
      "[nltk_data]   Package punkt is already up-to-date!\n",
      "[nltk_data] Downloading package wordnet to\n",
      "[nltk_data]     /its/home/ep396/nltk_data...\n",
      "[nltk_data]   Package wordnet is already up-to-date!\n",
      "[nltk_data] Downloading package omw-1.4 to\n",
      "[nltk_data]     /its/home/ep396/nltk_data...\n",
      "[nltk_data]   Package omw-1.4 is already up-to-date!\n"
     ]
    },
    {
     "data": {
      "text/plain": [
       "True"
      ]
     },
     "execution_count": 7,
     "metadata": {},
     "output_type": "execute_result"
    }
   ],
   "source": [
    "nltk.download(\"stopwords\")\n",
    "nltk.download('punkt')\n",
    "nltk.download('wordnet')\n",
    "nltk.download('omw-1.4')\n"
   ]
  },
  {
   "cell_type": "code",
   "execution_count": 8,
   "metadata": {},
   "outputs": [],
   "source": [
    "def initial_phase(initial_set_s):\n",
    "    tweet_data_set = []\n",
    "\n",
    "    for tweet_text in initial_set_s:\n",
    "        cleaned_text = clean_text(tweet_text)\n",
    "        eal = pre_processing_words(cleaned_text)\n",
    "        tweet_data_set.append(eal)\n",
    "        \n",
    "    return tweet_data_set\n"
   ]
  },
  {
   "cell_type": "code",
   "execution_count": 9,
   "metadata": {},
   "outputs": [],
   "source": [
    "wnl = nltk.stem.WordNetLemmatizer()\n",
    "sw = nltk.corpus.stopwords.words('english')\n"
   ]
  },
  {
   "cell_type": "code",
   "execution_count": 10,
   "metadata": {},
   "outputs": [],
   "source": [
    "def pre_processing_words(text):\n",
    "    tokenized = nltk.word_tokenize(text)\n",
    "    return tokenized\n"
   ]
  },
  {
   "cell_type": "code",
   "execution_count": 11,
   "metadata": {},
   "outputs": [],
   "source": [
    "def clean_text(text):\n",
    "    html.unescape(text)\n",
    "    removed_links = re.sub(r\"https?://\\S+\", '', text)\n",
    "    removed_mentions = re.sub(r\"(^|[^@\\w])@(\\w{1,15})\\b\", '', removed_links)\n",
    "    return removed_mentions\n"
   ]
  },
  {
   "cell_type": "code",
   "execution_count": 12,
   "metadata": {},
   "outputs": [
    {
     "name": "stderr",
     "output_type": "stream",
     "text": [
      "100%|██████████| 1581/1581 [00:00<00:00, 334773.56it/s]\n"
     ]
    }
   ],
   "source": [
    "init_user_author_id = Tweet.select().first().author_id\n",
    "init_user_tweets_query = Tweet.select(Tweet.text).where(Tweet.author_id == init_user_author_id)\n",
    "init_user_corpus = [tweet.text for tweet in tqdm(init_user_tweets_query)]\n"
   ]
  },
  {
   "cell_type": "code",
   "execution_count": 13,
   "metadata": {},
   "outputs": [
    {
     "data": {
      "text/plain": [
       "6.775"
      ]
     },
     "execution_count": 13,
     "metadata": {},
     "output_type": "execute_result"
    }
   ],
   "source": [
    "(sum([len(text) for text in init_user_corpus]) // len(init_user_corpus)) * 0.025\n"
   ]
  },
  {
   "cell_type": "code",
   "execution_count": 14,
   "metadata": {},
   "outputs": [],
   "source": [
    "frequency_threshold = (sum([len(text) for text in init_user_corpus]) // len(init_user_corpus)) * 0.025\n"
   ]
  },
  {
   "cell_type": "code",
   "execution_count": 15,
   "metadata": {},
   "outputs": [],
   "source": [
    "tweet_data_set = initial_phase(init_user_corpus)\n"
   ]
  },
  {
   "cell_type": "code",
   "execution_count": 16,
   "metadata": {},
   "outputs": [],
   "source": [
    "# https://towardsdatascience.com/how-to-find-closed-and-maximal-frequent-itemsets-from-fp-growth-861a1ef13e21\n",
    "# https://rasbt.github.io/mlxtend/user_guide/frequent_patterns/fpgrowth/\n"
   ]
  },
  {
   "cell_type": "code",
   "execution_count": 17,
   "metadata": {},
   "outputs": [],
   "source": [
    "te = TransactionEncoder()\n",
    "te_ary = te.fit(tweet_data_set).transform(tweet_data_set)\n",
    "df = pd.DataFrame(te_ary, columns=te.columns_)\n"
   ]
  },
  {
   "cell_type": "code",
   "execution_count": 18,
   "metadata": {},
   "outputs": [],
   "source": [
    "frequent = fpgrowth(df, min_support=0.01, use_colnames=True)\n"
   ]
  },
  {
   "cell_type": "code",
   "execution_count": 31,
   "metadata": {},
   "outputs": [],
   "source": [
    "su = frequent.support.unique()\n"
   ]
  },
  {
   "cell_type": "code",
   "execution_count": 20,
   "metadata": {},
   "outputs": [
    {
     "data": {
      "text/html": [
       "<div>\n",
       "<style scoped>\n",
       "    .dataframe tbody tr th:only-of-type {\n",
       "        vertical-align: middle;\n",
       "    }\n",
       "\n",
       "    .dataframe tbody tr th {\n",
       "        vertical-align: top;\n",
       "    }\n",
       "\n",
       "    .dataframe thead th {\n",
       "        text-align: right;\n",
       "    }\n",
       "</style>\n",
       "<table border=\"1\" class=\"dataframe\">\n",
       "  <thead>\n",
       "    <tr style=\"text-align: right;\">\n",
       "      <th></th>\n",
       "      <th>support</th>\n",
       "      <th>itemsets</th>\n",
       "    </tr>\n",
       "  </thead>\n",
       "  <tbody>\n",
       "    <tr>\n",
       "      <th>0</th>\n",
       "      <td>0.841872</td>\n",
       "      <td>(,)</td>\n",
       "    </tr>\n",
       "    <tr>\n",
       "      <th>1</th>\n",
       "      <td>0.808349</td>\n",
       "      <td>(.)</td>\n",
       "    </tr>\n",
       "    <tr>\n",
       "      <th>2</th>\n",
       "      <td>0.611638</td>\n",
       "      <td>(to)</td>\n",
       "    </tr>\n",
       "    <tr>\n",
       "      <th>3</th>\n",
       "      <td>0.531942</td>\n",
       "      <td>(a)</td>\n",
       "    </tr>\n",
       "    <tr>\n",
       "      <th>4</th>\n",
       "      <td>0.344719</td>\n",
       "      <td>(it)</td>\n",
       "    </tr>\n",
       "    <tr>\n",
       "      <th>...</th>\n",
       "      <td>...</td>\n",
       "      <td>...</td>\n",
       "    </tr>\n",
       "    <tr>\n",
       "      <th>1051310</th>\n",
       "      <td>0.010120</td>\n",
       "      <td>(,, a, spouse, to)</td>\n",
       "    </tr>\n",
       "    <tr>\n",
       "      <th>1051311</th>\n",
       "      <td>0.010120</td>\n",
       "      <td>(,, trans, to, spouse, a)</td>\n",
       "    </tr>\n",
       "    <tr>\n",
       "      <th>1051312</th>\n",
       "      <td>0.010120</td>\n",
       "      <td>(a, trans, the, spouse)</td>\n",
       "    </tr>\n",
       "    <tr>\n",
       "      <th>1051313</th>\n",
       "      <td>0.010120</td>\n",
       "      <td>(,, a, the, spouse)</td>\n",
       "    </tr>\n",
       "    <tr>\n",
       "      <th>1051314</th>\n",
       "      <td>0.010120</td>\n",
       "      <td>(,, trans, spouse, a, the)</td>\n",
       "    </tr>\n",
       "  </tbody>\n",
       "</table>\n",
       "<p>1051315 rows × 2 columns</p>\n",
       "</div>"
      ],
      "text/plain": [
       "          support                    itemsets\n",
       "0        0.841872                         (,)\n",
       "1        0.808349                         (.)\n",
       "2        0.611638                        (to)\n",
       "3        0.531942                         (a)\n",
       "4        0.344719                        (it)\n",
       "...           ...                         ...\n",
       "1051310  0.010120          (,, a, spouse, to)\n",
       "1051311  0.010120   (,, trans, to, spouse, a)\n",
       "1051312  0.010120     (a, trans, the, spouse)\n",
       "1051313  0.010120         (,, a, the, spouse)\n",
       "1051314  0.010120  (,, trans, spouse, a, the)\n",
       "\n",
       "[1051315 rows x 2 columns]"
      ]
     },
     "execution_count": 20,
     "metadata": {},
     "output_type": "execute_result"
    }
   ],
   "source": [
    "frequent\n"
   ]
  },
  {
   "cell_type": "code",
   "execution_count": 24,
   "metadata": {},
   "outputs": [],
   "source": [
    "max_frequent = fpmax(df, min_support=0.05, use_colnames=True)\n"
   ]
  },
  {
   "cell_type": "code",
   "execution_count": 28,
   "metadata": {},
   "outputs": [],
   "source": [
    "max_su = max_frequent.support.unique()\n"
   ]
  },
  {
   "cell_type": "code",
   "execution_count": 25,
   "metadata": {},
   "outputs": [
    {
     "data": {
      "text/html": [
       "<div>\n",
       "<style scoped>\n",
       "    .dataframe tbody tr th:only-of-type {\n",
       "        vertical-align: middle;\n",
       "    }\n",
       "\n",
       "    .dataframe tbody tr th {\n",
       "        vertical-align: top;\n",
       "    }\n",
       "\n",
       "    .dataframe thead th {\n",
       "        text-align: right;\n",
       "    }\n",
       "</style>\n",
       "<table border=\"1\" class=\"dataframe\">\n",
       "  <thead>\n",
       "    <tr style=\"text-align: right;\">\n",
       "      <th></th>\n",
       "      <th>support</th>\n",
       "      <th>itemsets</th>\n",
       "    </tr>\n",
       "  </thead>\n",
       "  <tbody>\n",
       "    <tr>\n",
       "      <th>0</th>\n",
       "      <td>0.050601</td>\n",
       "      <td>(now)</td>\n",
       "    </tr>\n",
       "    <tr>\n",
       "      <th>1</th>\n",
       "      <td>0.051233</td>\n",
       "      <td>(could)</td>\n",
       "    </tr>\n",
       "    <tr>\n",
       "      <th>2</th>\n",
       "      <td>0.054396</td>\n",
       "      <td>(here)</td>\n",
       "    </tr>\n",
       "    <tr>\n",
       "      <th>3</th>\n",
       "      <td>0.050601</td>\n",
       "      <td>(., They)</td>\n",
       "    </tr>\n",
       "    <tr>\n",
       "      <th>4</th>\n",
       "      <td>0.052498</td>\n",
       "      <td>(If, ,)</td>\n",
       "    </tr>\n",
       "    <tr>\n",
       "      <th>...</th>\n",
       "      <td>...</td>\n",
       "      <td>...</td>\n",
       "    </tr>\n",
       "    <tr>\n",
       "      <th>4968</th>\n",
       "      <td>0.057559</td>\n",
       "      <td>(and, ,, that, to, ., a, the)</td>\n",
       "    </tr>\n",
       "    <tr>\n",
       "      <th>4969</th>\n",
       "      <td>0.068311</td>\n",
       "      <td>(and, ,, trans, that, to, ., a)</td>\n",
       "    </tr>\n",
       "    <tr>\n",
       "      <th>4970</th>\n",
       "      <td>0.076534</td>\n",
       "      <td>(and, ,, trans, that, ., a, the)</td>\n",
       "    </tr>\n",
       "    <tr>\n",
       "      <th>4971</th>\n",
       "      <td>0.060721</td>\n",
       "      <td>(,, trans, that, to, ., of, a, the)</td>\n",
       "    </tr>\n",
       "    <tr>\n",
       "      <th>4972</th>\n",
       "      <td>0.055661</td>\n",
       "      <td>(and, ,, trans, to, ., of, a, the)</td>\n",
       "    </tr>\n",
       "  </tbody>\n",
       "</table>\n",
       "<p>4973 rows × 2 columns</p>\n",
       "</div>"
      ],
      "text/plain": [
       "       support                             itemsets\n",
       "0     0.050601                                (now)\n",
       "1     0.051233                              (could)\n",
       "2     0.054396                               (here)\n",
       "3     0.050601                            (., They)\n",
       "4     0.052498                              (If, ,)\n",
       "...        ...                                  ...\n",
       "4968  0.057559        (and, ,, that, to, ., a, the)\n",
       "4969  0.068311      (and, ,, trans, that, to, ., a)\n",
       "4970  0.076534     (and, ,, trans, that, ., a, the)\n",
       "4971  0.060721  (,, trans, that, to, ., of, a, the)\n",
       "4972  0.055661   (and, ,, trans, to, ., of, a, the)\n",
       "\n",
       "[4973 rows x 2 columns]"
      ]
     },
     "execution_count": 25,
     "metadata": {},
     "output_type": "execute_result"
    }
   ],
   "source": [
    "max_frequent\n"
   ]
  },
  {
   "cell_type": "code",
   "execution_count": 33,
   "metadata": {},
   "outputs": [
    {
     "name": "stderr",
     "output_type": "stream",
     "text": [
      " 96%|█████████▌| 534/559 [03:04<00:21,  1.19it/s]"
     ]
    },
    {
     "ename": "",
     "evalue": "",
     "output_type": "error",
     "traceback": [
      "\u001b[1;31mThe Kernel crashed while executing code in the the current cell or a previous cell. Please review the code in the cell(s) to identify a possible cause of the failure. Click <a href='https://aka.ms/vscodeJupyterKernelCrash'>here</a> for more info. View Jupyter <a href='command:jupyter.viewOutput'>log</a> for further details."
     ]
    },
    {
     "ename": "",
     "evalue": "",
     "output_type": "error",
     "traceback": [
      "\u001b[1;31mCanceled future for execute_request message before replies were done"
     ]
    }
   ],
   "source": [
    "freq_dict = {}\n",
    "for i in tqdm(range(len(su))):\n",
    "    inset2 = list(frequent.loc[frequent.support<=su[i]]['itemsets'])\n",
    "    freq_dict[su[i]] = inset2\n"
   ]
  },
  {
   "cell_type": "code",
   "execution_count": null,
   "metadata": {},
   "outputs": [
    {
     "ename": "KeyError",
     "evalue": "0.8418722327640734",
     "output_type": "error",
     "traceback": [
      "\u001b[0;31m---------------------------------------------------------------------------\u001b[0m",
      "\u001b[0;31mKeyError\u001b[0m                                  Traceback (most recent call last)",
      "\u001b[0;32m<ipython-input-30-751b86110935>\u001b[0m in \u001b[0;36m<module>\u001b[0;34m\u001b[0m\n\u001b[1;32m      4\u001b[0m     \u001b[0mcli\u001b[0m \u001b[0;34m=\u001b[0m \u001b[0mrow\u001b[0m\u001b[0;34m[\u001b[0m\u001b[0;34m'itemsets'\u001b[0m\u001b[0;34m]\u001b[0m\u001b[0;34m\u001b[0m\u001b[0;34m\u001b[0m\u001b[0m\n\u001b[1;32m      5\u001b[0m     \u001b[0mcls\u001b[0m \u001b[0;34m=\u001b[0m \u001b[0mrow\u001b[0m\u001b[0;34m[\u001b[0m\u001b[0;34m'support'\u001b[0m\u001b[0;34m]\u001b[0m\u001b[0;34m\u001b[0m\u001b[0;34m\u001b[0m\u001b[0m\n\u001b[0;32m----> 6\u001b[0;31m     \u001b[0mcheckset\u001b[0m \u001b[0;34m=\u001b[0m \u001b[0mfreq_dict\u001b[0m\u001b[0;34m[\u001b[0m\u001b[0mcls\u001b[0m\u001b[0;34m]\u001b[0m\u001b[0;34m\u001b[0m\u001b[0;34m\u001b[0m\u001b[0m\n\u001b[0m\u001b[1;32m      7\u001b[0m     \u001b[0;32mfor\u001b[0m \u001b[0mi\u001b[0m \u001b[0;32min\u001b[0m \u001b[0mcheckset\u001b[0m\u001b[0;34m:\u001b[0m\u001b[0;34m\u001b[0m\u001b[0;34m\u001b[0m\u001b[0m\n\u001b[1;32m      8\u001b[0m         \u001b[0;32mif\u001b[0m \u001b[0;34m(\u001b[0m\u001b[0mcli\u001b[0m\u001b[0;34m!=\u001b[0m\u001b[0mi\u001b[0m\u001b[0;34m)\u001b[0m\u001b[0;34m:\u001b[0m\u001b[0;34m\u001b[0m\u001b[0;34m\u001b[0m\u001b[0m\n",
      "\u001b[0;31mKeyError\u001b[0m: 0.8418722327640734"
     ]
    }
   ],
   "source": [
    "ml = []\n",
    "for index, row in frequent.iterrows():\n",
    "    isclose = True\n",
    "    cli = row['itemsets']\n",
    "    cls = row['support']\n",
    "    checkset = freq_dict[cls]\n",
    "    for i in checkset:\n",
    "        if (cli!=i):\n",
    "            if(frozenset.issubset(cli,i)):\n",
    "                isclose = False\n",
    "                break\n",
    "    \n",
    "    if(isclose):\n",
    "        ml.append(row['itemsets'])\n",
    "        "
   ]
  },
  {
   "cell_type": "code",
   "execution_count": null,
   "metadata": {},
   "outputs": [],
   "source": [
    "ml\n"
   ]
  }
 ],
 "metadata": {
  "interpreter": {
   "hash": "6ade73bf49f1256608149ff920ccd937fcccdc8efd4975ff38aa98fc4d821ac5"
  },
  "kernelspec": {
   "display_name": "Python 3.9.7 ('fyp')",
   "language": "python",
   "name": "python3"
  },
  "language_info": {
   "codemirror_mode": {
    "name": "ipython",
    "version": 3
   },
   "file_extension": ".py",
   "mimetype": "text/x-python",
   "name": "python",
   "nbconvert_exporter": "python",
   "pygments_lexer": "ipython3",
   "version": "3.9.7"
  },
  "orig_nbformat": 4
 },
 "nbformat": 4,
 "nbformat_minor": 2
}
