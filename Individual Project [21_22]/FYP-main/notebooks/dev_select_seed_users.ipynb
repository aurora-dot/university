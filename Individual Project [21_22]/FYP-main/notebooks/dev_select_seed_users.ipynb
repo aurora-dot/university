{
 "cells": [
  {
   "cell_type": "code",
   "execution_count": null,
   "metadata": {},
   "outputs": [],
   "source": [
    "import json\n",
    "import os\n",
    "import time\n",
    "import numpy as np\n",
    "import datetime\n",
    "\n",
    "from fyp.crypto import Crypto\n",
    "from fyp.influence_measures import ri, snp\n",
    "from fyp.twitter_api import twitter_api, convert_datetime_to_ISO_8601\n"
   ]
  },
  {
   "cell_type": "code",
   "execution_count": null,
   "metadata": {},
   "outputs": [],
   "source": [
    "from fyp.secrets import SECRETS\n",
    "headers = {\"Authorization\": f\"Bearer {SECRETS.TWITTER_BEARER_TOKEN}\"}\n"
   ]
  },
  {
   "cell_type": "code",
   "execution_count": null,
   "metadata": {},
   "outputs": [],
   "source": [
    "CRYPTO = Crypto()\n"
   ]
  },
  {
   "cell_type": "code",
   "execution_count": null,
   "metadata": {},
   "outputs": [],
   "source": [
    "d = '/its/home/ep396/Documents/FYP/data/decrypted-new-initial-tweets.json'\n",
    "e = '/its/home/ep396/Documents/FYP/data/encrypted-new-initial-tweets.json'\n",
    "\n",
    "CRYPTO.age_decrypt_file(e, d)\n",
    "\n",
    "file = open(d, encoding='utf8')\n",
    "data = json.load(file)\n",
    "file.close()\n",
    "\n",
    "os.remove(d)\n",
    "\n",
    "len(data)\n"
   ]
  },
  {
   "cell_type": "code",
   "execution_count": null,
   "metadata": {},
   "outputs": [],
   "source": [
    "class janky_metrics():\n",
    "    def get_users_metrics(tweet_data: dict) -> dict:\n",
    "        user_data = {}\n",
    "\n",
    "        for tweet in tweet_data:\n",
    "            author, metrics = tweet[\"author_id\"], tweet[\"public_metrics\"]\n",
    "            metric_list = np.array([metric for metric in metrics.values()])\n",
    "            if author not in user_data:\n",
    "                user_data[author] = metric_list\n",
    "            else:\n",
    "                user_data[author] = np.add(metric_list, user_data[author])\n",
    "\n",
    "        return user_data\n",
    "\n",
    "\n",
    "    def collect_user_totals_metrics(user_data: dict, weights: np.array) -> dict:\n",
    "        totals = {}\n",
    "\n",
    "        for user, metric_array in user_data.items():\n",
    "            totals[user] = np.sum(metric_array * weights)\n",
    "\n",
    "        return totals\n",
    "\n",
    "\n",
    "    def get_x_best_users(user_totals: dict, x: int) -> list:\n",
    "        assert x <= len(user_totals)\n",
    "\n",
    "        best_users = []\n",
    "        sorted_totals = dict(\n",
    "            sorted(user_totals.items(), key=lambda x: x[1], reverse=True)\n",
    "        )\n",
    "\n",
    "        for idx, (k, v) in enumerate(sorted_totals.items()):\n",
    "            if idx == x:\n",
    "                break\n",
    "            best_users.append((k, v))\n",
    "\n",
    "        return best_users\n"
   ]
  },
  {
   "cell_type": "code",
   "execution_count": null,
   "metadata": {},
   "outputs": [],
   "source": [
    "metrics = janky_metrics.get_users_metrics(data)\n",
    "total_metrics = janky_metrics.collect_user_totals_metrics(metrics, np.array([1, 1, 1, 1]))\n",
    "best_users = janky_metrics.get_x_best_users(total_metrics, 50) # CHANGE IN PROD\n",
    "print(len(total_metrics))\n",
    "print(len(best_users))\n"
   ]
  },
  {
   "cell_type": "code",
   "execution_count": null,
   "metadata": {},
   "outputs": [],
   "source": [
    "def ratelimit_wait(limit_reset_time, thing, len_concat_data):\n",
    "    print(\"---- Start Ratelimit Wait ----\")\n",
    "    print(f\"Current {thing} captured: {len_concat_data}\")\n",
    "    print(f\"Unix epochs when: {limit_reset_time}\")\n",
    "    time_reset = datetime.datetime.fromtimestamp(limit_reset_time)\n",
    "    print(f\"Completion when: {time_reset}\")\n",
    "    time.sleep(time.mktime(time_reset.timetuple()) - time.time() + 1)\n",
    "    print(f\"Completed, time is: {datetime.datetime.now()}\")\n",
    "    print(\"---- End Ratelimit Wait ----\\n\")\n"
   ]
  },
  {
   "cell_type": "code",
   "execution_count": null,
   "metadata": {},
   "outputs": [],
   "source": [
    "def user_id_to_usernames(best_users):\n",
    "    groupings = np.array_split([user[0] for user in best_users], 5)\n",
    "    url = \"https://api.twitter.com/2/users\"\n",
    "    users = []\n",
    "\n",
    "    for i in range(5):\n",
    "        ids_str = \"\"\n",
    "        for id in groupings[i]:\n",
    "            ids_str += f\"{id},\"\n",
    "        ids_str = ids_str[:-1]\n",
    "\n",
    "        params = {\n",
    "            \"ids\": ids_str,\n",
    "            \"user.fields\": \"username\"\n",
    "        }\n",
    "\n",
    "        (\n",
    "            user_data,\n",
    "            limit_remaining_requests,\n",
    "            limit_reset_time\n",
    "        ) = twitter_api(headers=headers, url=url, params=params, data_location='data')\n",
    "\n",
    "        if user_data[\"fyp\"][\"error\"] == True:\n",
    "            raise Exception(user_data)\n",
    "\n",
    "        users += user_data[\"data\"]\n",
    "        time.sleep(1.05)\n",
    "    \n",
    "    return {int(user[\"id\"]):user[\"username\"] for user in users}\n"
   ]
  },
  {
   "cell_type": "code",
   "execution_count": null,
   "metadata": {},
   "outputs": [],
   "source": [
    "def collect_user_tweet_discourse_count(user_id_name_pair):\n",
    "    url = \"https://api.twitter.com/2/tweets/counts/all\"\n",
    "    data_stuff = {}\n",
    "\n",
    "    for idx, pair in enumerate(user_id_name_pair.items()):\n",
    "        user_id, user_username = pair\n",
    "        params = {\n",
    "            \"query\": f'(\"trans\" OR \"enby\" OR \"transgender\" OR \"nonbinary\") -\"eng trans\" -\"#transporn\" -\"#porn\" -is:nullcast lang:en -is:retweet is:reply from:{user_username}',\n",
    "            \"start_time\": convert_datetime_to_ISO_8601(datetime.datetime(2021, 1, 1, 1, 0, 0, 0)),\n",
    "            \"end_time\": convert_datetime_to_ISO_8601(datetime.datetime(2021, 12, 31, 23, 59, 59, 999999)),\n",
    "            \"granularity\": \"day\"\n",
    "        }\n",
    "\n",
    "        print(f\"=> User {idx}\")\n",
    "\n",
    "        cont, concat_data = True, []\n",
    "\n",
    "        while cont:\n",
    "            (\n",
    "                api_data, \n",
    "                limit_remaining_requests, \n",
    "                limit_reset_time\n",
    "            ) = twitter_api(headers=headers, url=url, params=params, data_location='data')\n",
    "\n",
    "            if api_data['fyp']['error']:\n",
    "                if \"status\" in api_data and api_data[\"status\"] == 429:\n",
    "                    ratelimit_wait(limit_reset_time, 'mentions', len(concat_data))\n",
    "                else:\n",
    "                    raise Exception(api_data)\n",
    "            else:\n",
    "                if api_data[\"fyp\"][\"error\"] is False:\n",
    "                    concat_data += api_data[\"data\"]\n",
    "                    print(f\"Added: {len(api_data['data'])}\")\n",
    "                    print(f\"Total: {len(concat_data)}\\n\")\n",
    "                    params[\"next_token\"] = api_data[\"meta\"][\"next_token\"] if \"next_token\" in api_data[\"meta\"] else None\n",
    "\n",
    "                if params[\"next_token\"] is None and api_data[\"fyp\"][\"error\"] is False:\n",
    "                    cont = False\n",
    "\n",
    "                if limit_remaining_requests <= 0 and cont is True:\n",
    "                    ratelimit_wait(limit_reset_time, 'mentions', len(concat_data))\n",
    "\n",
    "            time.sleep(0.25)\n",
    "\n",
    "        data_stuff[user_id] = concat_data\n",
    "    \n",
    "    return data_stuff\n"
   ]
  },
  {
   "cell_type": "code",
   "execution_count": null,
   "metadata": {},
   "outputs": [],
   "source": [
    "def calculate_tweet_discourse_count(data_stuff, best_users):\n",
    "    user_count_totals = {}\n",
    "\n",
    "    for user in best_users:\n",
    "        user_id = int(user[0])\n",
    "        counts = data_stuff[user_id]\n",
    "        total = 0\n",
    "        for count in counts:\n",
    "            total += count[\"tweet_count\"]\n",
    "        user_count_totals[user_id] = total\n",
    "    \n",
    "    return user_count_totals\n"
   ]
  },
  {
   "cell_type": "code",
   "execution_count": null,
   "metadata": {},
   "outputs": [],
   "source": [
    "user_ids_and_name_pair = user_id_to_usernames(best_users)\n"
   ]
  },
  {
   "cell_type": "code",
   "execution_count": null,
   "metadata": {},
   "outputs": [],
   "source": [
    "raw_count = collect_user_tweet_discourse_count(user_ids_and_name_pair)\n"
   ]
  },
  {
   "cell_type": "code",
   "execution_count": null,
   "metadata": {},
   "outputs": [],
   "source": [
    "actual_count = calculate_tweet_discourse_count(raw_count, best_users)\n"
   ]
  },
  {
   "cell_type": "code",
   "execution_count": null,
   "metadata": {},
   "outputs": [],
   "source": [
    "most_discourse_users = janky_metrics.get_x_best_users(actual_count, 15)\n"
   ]
  },
  {
   "cell_type": "code",
   "execution_count": null,
   "metadata": {},
   "outputs": [],
   "source": [
    "def get_user_tweets_over_timespans(best_users, time_spans):\n",
    "    data = {}\n",
    "\n",
    "    for time_span in time_spans:\n",
    "        start_date = convert_datetime_to_ISO_8601(time_span[0])\n",
    "        end_date = convert_datetime_to_ISO_8601(time_span[1])\n",
    "\n",
    "        time_data = {}\n",
    "\n",
    "        print(f\"\\n=> {time_span[0]} to {time_span[1]} \")\n",
    "\n",
    "        for idx, user in enumerate(best_users):\n",
    "            print(f\"==> User {idx}\")\n",
    "\n",
    "            user_id = int(user[0])\n",
    "            cont, concat_data = True, []\n",
    "            \n",
    "            url = f\"https://api.twitter.com/2/users/{user_id}/tweets\"\n",
    "            params = {\n",
    "                \"exclude\": 'retweets,replies',\n",
    "                \"expansions\": 'author_id,referenced_tweets.id,entities.mentions.username',\n",
    "                \"max_results\": 10, # CHANGE IN PROD\n",
    "                \"media.fields\": 'public_metrics',\n",
    "                \"tweet.fields\": 'public_metrics,referenced_tweets',\n",
    "                \"user.fields\": 'public_metrics,description',\n",
    "                \"start_time\": start_date,\n",
    "                \"end_time\": end_date,\n",
    "            }\n",
    "\n",
    "            # CHANGE IN PROD\n",
    "            for i in range(2):\n",
    "                (\n",
    "                    api_data, \n",
    "                    limit_remaining_requests, \n",
    "                    limit_reset_time\n",
    "                ) = twitter_api(headers=headers, url=url, params=params, data_location='data')\n",
    "\n",
    "                if api_data['fyp']['error'] == True:\n",
    "                    print(api_data)\n",
    "\n",
    "                if \"meta\" in api_data and api_data[\"meta\"][\"result_count\"] == 0:\n",
    "                    break\n",
    "                \n",
    "                if \"errors\" in data and len(data[\"errors\"]) == 1 and \"type\" in data['errors'][0] and data['errors'][0]['type'] == 'https://api.twitter.com/2/problems/not-authorized-for-resource':\n",
    "                    break\n",
    "\n",
    "                if api_data['fyp']['error']:\n",
    "                    raise Exception(api_data)\n",
    "\n",
    "                if api_data[\"fyp\"][\"error\"] is False:\n",
    "                    concat_data += api_data[\"data\"]\n",
    "                    print(f\"Added: {len(api_data['data'])}\")\n",
    "                    print(f\"Total: {len(concat_data)}\\n\")\n",
    "                    params[\"pagination_token\"] = api_data[\"meta\"][\"next_token\"] if \"next_token\" in api_data[\"meta\"] else None\n",
    "\n",
    "                if params[\"pagination_token\"] is None and api_data[\"fyp\"][\"error\"] is False:\n",
    "                    cont = False\n",
    "\n",
    "                if limit_remaining_requests <= 0 and cont is True:\n",
    "                    ratelimit_wait(limit_reset_time, 'tweets', len(concat_data))\n",
    "\n",
    "                time.sleep(1.05)\n",
    "\n",
    "            time_data[user_id] = concat_data\n",
    "        \n",
    "        data[time_span] = time_data\n",
    "    \n",
    "    return data\n"
   ]
  },
  {
   "cell_type": "code",
   "execution_count": null,
   "metadata": {},
   "outputs": [],
   "source": [
    "def count_tweets_and_get_ids(best_users, user_tweets, time_spans):\n",
    "    user_tweet_count = {int(user[0]):[] for user in best_users}\n",
    "\n",
    "    for time_span in time_spans:\n",
    "        current_time_span_data = user_tweets[time_span]\n",
    "        for user in best_users:\n",
    "            user_id = int(user[0])\n",
    "            if user_id in current_time_span_data:\n",
    "                for tweet in current_time_span_data[user_id]:\n",
    "                    user_tweet_count[user_id].append(tweet[\"id\"])\n",
    "    \n",
    "    return user_tweet_count\n"
   ]
  },
  {
   "cell_type": "code",
   "execution_count": null,
   "metadata": {},
   "outputs": [],
   "source": [
    "def get_tweet_retweeters(best_users, user_tweet_count_and_tweet_ids):\n",
    "    retweeters = {}\n",
    "    url = f\"https://api.twitter.com/1.1/statuses/retweeters/ids.json\"\n",
    "\n",
    "    for user_idx, user in enumerate(best_users):\n",
    "        user_id = int(user[0])\n",
    "        retweeters[user_id] = {}\n",
    "\n",
    "        print(f\"==> User {user_idx}\")\n",
    "\n",
    "\n",
    "        for hidden_idx, idx in enumerate(user_tweet_count_and_tweet_ids[user_id]):\n",
    "            cont, concat_data = True, []\n",
    "            \n",
    "            params = {\n",
    "                'id': idx,\n",
    "                'count': 100\n",
    "            }\n",
    "\n",
    "            print(f\"==> Tweet {hidden_idx}\")\n",
    "            while cont:\n",
    "                (\n",
    "                    api_data, \n",
    "                    limit_remaining_requests, \n",
    "                    limit_reset_time\n",
    "                ) = twitter_api(headers=headers, url=url, params=params, data_location='ids')\n",
    "\n",
    "                if api_data['fyp']['error']:\n",
    "                    print(api_data)\n",
    "                    raise Exception(api_data)\n",
    "\n",
    "                if api_data[\"fyp\"][\"error\"] is False:\n",
    "                    concat_data += api_data[\"ids\"]\n",
    "                    print(f\"Added: {len(api_data['ids'])}\")\n",
    "                    print(f\"Total: {len(concat_data)}\\n\")\n",
    "                    params[\"cursor\"] = api_data[\"next_cursor\"] if \"next_cursor\" in api_data else None\n",
    "\n",
    "                if params[\"cursor\"] == 0 and api_data[\"fyp\"][\"error\"] is False:\n",
    "                    cont = False\n",
    "\n",
    "                if limit_remaining_requests <= 0 and cont is True:\n",
    "                    ratelimit_wait(limit_reset_time, 'tweets', len(concat_data))\n",
    "\n",
    "                time.sleep(1.05)\n",
    "            \n",
    "            retweeters[user_id][idx] = concat_data\n",
    "            \n",
    "    return retweeters\n"
   ]
  },
  {
   "cell_type": "code",
   "execution_count": null,
   "metadata": {},
   "outputs": [],
   "source": [
    "def get_unique_retweeters(best_users, user_unique_retweeters):\n",
    "    unique_retweeters = {}\n",
    "\n",
    "    for user in best_users:\n",
    "        user_id = int(user[0])\n",
    "        retweeted_users = []\n",
    "        for value in user_unique_retweeters[user_id].values():\n",
    "            if value is not []:\n",
    "                for idx in value:\n",
    "                    if idx not in retweeted_users:\n",
    "                        retweeted_users.append(idx)\n",
    "        \n",
    "        unique_retweeters[user_id] = retweeted_users\n",
    "\n",
    "    return unique_retweeters\n"
   ]
  },
  {
   "cell_type": "code",
   "execution_count": null,
   "metadata": {},
   "outputs": [],
   "source": [
    "def calculate_ri_for_users(best_users, user_tweet_count, user_unique_retweeters):\n",
    "    ri_results = {}\n",
    "\n",
    "    for user in best_users:\n",
    "        user_id = int(user[0])\n",
    "        tweet_count = len(user_tweet_count[user_id])\n",
    "        unique_retweeters = len(user_unique_retweeters[user_id])\n",
    "        ri_val = ri(tweet_count, unique_retweeters)\n",
    "        ri_results[user_id] = ri_val if str(ri_val) != \"nan\" and str(ri_val) != \"-inf\" else 0\n",
    "\n",
    "    return ri_results\n"
   ]
  },
  {
   "cell_type": "code",
   "execution_count": null,
   "metadata": {},
   "outputs": [],
   "source": [
    "time_spans = [\n",
    "    (datetime.datetime(2021, 4, 5, 0, 0, 0), datetime.datetime(2021, 4, 10, 23, 59, 59, 999999)),\n",
    "    (datetime.datetime(2021, 8, 20, 0, 0, 0), datetime.datetime(2021, 8, 25, 23, 59, 59, 999999)),\n",
    "    (datetime.datetime(2021, 12, 15, 0, 0, 0), datetime.datetime(2021, 12, 20, 23, 59, 59, 999999)),\n",
    "]\n"
   ]
  },
  {
   "cell_type": "code",
   "execution_count": null,
   "metadata": {},
   "outputs": [],
   "source": [
    "# get user tweets within timespan\n",
    "user_tweets = get_user_tweets_over_timespans(most_discourse_users, time_spans)\n"
   ]
  },
  {
   "cell_type": "code",
   "execution_count": null,
   "metadata": {},
   "outputs": [],
   "source": [
    "# calculate total tweets for each user\n",
    "user_tweet_count_and_tweet_ids = count_tweets_and_get_ids(most_discourse_users, user_tweets, time_spans)\n"
   ]
  },
  {
   "cell_type": "code",
   "execution_count": null,
   "metadata": {},
   "outputs": [],
   "source": [
    "# get user retweeters within three time spans\n",
    "user_retweeters = get_tweet_retweeters(most_discourse_users, user_tweet_count_and_tweet_ids)\n"
   ]
  },
  {
   "cell_type": "code",
   "execution_count": null,
   "metadata": {},
   "outputs": [],
   "source": [
    "# get user retweeters within three time spans\n",
    "user_unique_retweeters = get_unique_retweeters(most_discourse_users, user_retweeters)\n"
   ]
  },
  {
   "cell_type": "code",
   "execution_count": null,
   "metadata": {},
   "outputs": [],
   "source": [
    "# calculate ri for each user\n",
    "ri_metrics = calculate_ri_for_users(most_discourse_users, user_tweet_count_and_tweet_ids, user_unique_retweeters)\n"
   ]
  },
  {
   "cell_type": "code",
   "execution_count": null,
   "metadata": {},
   "outputs": [],
   "source": [
    "best_ri_users = janky_metrics.get_x_best_users(ri_metrics, 5) # CHANGE IN PROD\n"
   ]
  },
  {
   "cell_type": "code",
   "execution_count": null,
   "metadata": {},
   "outputs": [],
   "source": [
    "def get_user_mentions_within_time_span(best_ri_users, time_spans):\n",
    "    data = {}\n",
    "\n",
    "    for time_span in time_spans:\n",
    "        print(f\"\\n=> {time_span[0]} to {time_span[1]} \")\n",
    "\n",
    "        time_data = {}\n",
    "\n",
    "        start_date = convert_datetime_to_ISO_8601(time_span[0])\n",
    "        end_date = convert_datetime_to_ISO_8601(time_span[1])\n",
    "\n",
    "        params = {\n",
    "            \"max_results\": 100,\n",
    "            \"expansions\": 'author_id',\n",
    "            \"start_time\": start_date,\n",
    "            \"end_time\": end_date,\n",
    "        }\n",
    "\n",
    "        for idx, user in enumerate(best_ri_users):\n",
    "            print(f\"==> User {idx}\")\n",
    "\n",
    "            user_id = user[0]\n",
    "            url = f\"https://api.twitter.com/2/users/{user_id}/mentions\"\n",
    "            cont, concat_data = True, []\n",
    "\n",
    "            for i in range(2): # CHANGE IN PROD\n",
    "                (\n",
    "                    api_data, \n",
    "                    limit_remaining_requests, \n",
    "                    limit_reset_time\n",
    "                ) = twitter_api(headers=headers, url=url, params=params, data_location='data')\n",
    "\n",
    "                if \"meta\" in api_data and api_data[\"meta\"][\"result_count\"] == 0:\n",
    "                    print(\"None\")\n",
    "                    break\n",
    "\n",
    "                if api_data['fyp']['error']:\n",
    "                    raise Exception(api_data)\n",
    "                \n",
    "                if api_data[\"fyp\"][\"error\"] is False:\n",
    "                    concat_data += api_data[\"data\"]\n",
    "                    print(f\"Added: {len(api_data['data'])}\")\n",
    "                    print(f\"Total: {len(concat_data)}\\n\")\n",
    "                    params[\"pagination_token\"] = api_data[\"meta\"][\"next_token\"] if \"next_token\" in api_data[\"meta\"] else None\n",
    "\n",
    "                if params[\"pagination_token\"] is None and api_data[\"fyp\"][\"error\"] is False:\n",
    "                    cont = False\n",
    "\n",
    "                if limit_remaining_requests <= 0 and cont is True:\n",
    "                    ratelimit_wait(limit_reset_time, 'mentions', len(concat_data))\n",
    "\n",
    "                time.sleep(1.05)\n",
    "\n",
    "            time_data[user_id] = concat_data\n",
    "        data[time_span] = time_data\n",
    "    return data\n"
   ]
  },
  {
   "cell_type": "code",
   "execution_count": null,
   "metadata": {},
   "outputs": [],
   "source": [
    "mentions = get_user_mentions_within_time_span(best_ri_users, time_spans)"
   ]
  },
  {
   "cell_type": "code",
   "execution_count": null,
   "metadata": {},
   "outputs": [],
   "source": [
    "def get_user_follower_count(best_ri_users):\n",
    "    ids = \"\"\n",
    "    for user in best_ri_users: ids += f\"{user[0]},\"\n",
    "    ids = ids[:-1]\n",
    "\n",
    "    url = \"https://api.twitter.com/2/users\"\n",
    "    params = {\n",
    "        \"ids\": ids,\n",
    "        \"user.fields\": \"public_metrics\"\n",
    "    }\n",
    "\n",
    "    (\n",
    "        user_data,\n",
    "        limit_remaining_requests,\n",
    "        limit_reset_time\n",
    "    ) = twitter_api(headers=headers, url=url, params=params, data_location='data')\n",
    "\n",
    "    user_follower_counts = {}\n",
    "\n",
    "    for user in user_data[\"data\"]:\n",
    "        user_follower_counts[int(user[\"id\"])] = user[\"public_metrics\"][\"followers_count\"]\n",
    "\n",
    "    return user_follower_counts\n"
   ]
  },
  {
   "cell_type": "code",
   "execution_count": null,
   "metadata": {},
   "outputs": [],
   "source": [
    "user_follower_counts = get_user_follower_count(best_ri_users)"
   ]
  },
  {
   "cell_type": "code",
   "execution_count": null,
   "metadata": {},
   "outputs": [],
   "source": [
    "class UserObject:\n",
    "    pass"
   ]
  },
  {
   "cell_type": "code",
   "execution_count": null,
   "metadata": {},
   "outputs": [],
   "source": [
    "def get_unique_mentions(best_ri_users, mentions, time_spans):\n",
    "    data = {}\n",
    "    for user in best_ri_users:\n",
    "        user_id = user[0]\n",
    "        temp_data = []\n",
    "        for time_span in time_spans:\n",
    "            current = mentions[time_span][user_id]\n",
    "            for mention in current:\n",
    "                author_id = int(mention[\"author_id\"])\n",
    "                if author_id not in temp_data:\n",
    "                    temp_data.append(author_id)\n",
    "        data[user_id] = temp_data\n",
    "        \n",
    "    return data\n"
   ]
  },
  {
   "cell_type": "code",
   "execution_count": null,
   "metadata": {},
   "outputs": [],
   "source": [
    "def get_number_of_tweets_retweeted_and_replied(best_ri_users, user_tweets):\n",
    "    retweet_count = {}\n",
    "    reply_count = {}\n",
    "\n",
    "    for user in best_ri_users:\n",
    "        user_id = user[0]\n",
    "\n",
    "        retweet_count[user_id] = 0\n",
    "        reply_count[user_id] = 0\n",
    "\n",
    "        for time_span in time_spans:\n",
    "            current = user_tweets[time_span][user_id]\n",
    "            for tweet in current:\n",
    "                if tweet[\"public_metrics\"][\"reply_count\"] > 0:\n",
    "                    reply_count[user_id] += 1\n",
    "                if tweet[\"public_metrics\"][\"retweet_count\"] > 0 or tweet[\"public_metrics\"][\"quote_count\"] > 0:\n",
    "                    retweet_count[user_id] += 1\n",
    "                    \n",
    "    return retweet_count, reply_count\n"
   ]
  },
  {
   "cell_type": "code",
   "execution_count": null,
   "metadata": {},
   "outputs": [],
   "source": [
    "unique_mentions = get_unique_mentions(best_ri_users, mentions, time_spans)\n"
   ]
  },
  {
   "cell_type": "code",
   "execution_count": null,
   "metadata": {},
   "outputs": [],
   "source": [
    "retweet_count, reply_count = get_number_of_tweets_retweeted_and_replied(best_ri_users, user_tweets)\n"
   ]
  },
  {
   "cell_type": "code",
   "execution_count": null,
   "metadata": {},
   "outputs": [],
   "source": [
    "def calculate_snp_for_users():\n",
    "    snp_metrics = {}\n",
    "\n",
    "    for user in best_ri_users:\n",
    "        user_id = user[0]\n",
    "        user_object = UserObject()\n",
    "\n",
    "        user_object.num_of_unique_users_who_retweeted = len(user_unique_retweeters[user_id])\n",
    "        user_object.num_of_unique_users_mentioning_the_user = len(unique_mentions[user_id])\n",
    "        user_object.num_of_followers = user_follower_counts[user_id]\n",
    "\n",
    "        user_object.tweets_of_user_retweeted = len(retweet_count)\n",
    "        user_object.tweets_of_user_replied = len(reply_count)\n",
    "        user_object.tweets_by_user = len(user_tweet_count_and_tweet_ids[user_id])\n",
    "\n",
    "        snp_metrics[user_id] = snp(user_object)\n",
    "    \n",
    "    return snp_metrics\n"
   ]
  },
  {
   "cell_type": "code",
   "execution_count": null,
   "metadata": {},
   "outputs": [],
   "source": [
    "snp_metrics = calculate_snp_for_users()\n"
   ]
  },
  {
   "cell_type": "code",
   "execution_count": null,
   "metadata": {},
   "outputs": [],
   "source": [
    "best_snp_users = janky_metrics.get_x_best_users(snp_metrics, 2) # CHANGE IN PROD\n"
   ]
  },
  {
   "cell_type": "code",
   "execution_count": null,
   "metadata": {},
   "outputs": [],
   "source": [
    "# results may be distorted due to large following amassed over time but only using certain tweets\n",
    "# maybe we need to collect all tweets for the top 50 users over all time?\n",
    "snp_metrics"
   ]
  }
 ],
 "metadata": {
  "interpreter": {
   "hash": "6ade73bf49f1256608149ff920ccd937fcccdc8efd4975ff38aa98fc4d821ac5"
  },
  "kernelspec": {
   "display_name": "Python 3.9.7 64-bit ('fyp': conda)",
   "language": "python",
   "name": "python3"
  },
  "language_info": {
   "codemirror_mode": {
    "name": "ipython",
    "version": 3
   },
   "file_extension": ".py",
   "mimetype": "text/x-python",
   "name": "python",
   "nbconvert_exporter": "python",
   "pygments_lexer": "ipython3",
   "version": "3.9.7"
  },
  "orig_nbformat": 4
 },
 "nbformat": 4,
 "nbformat_minor": 2
}
