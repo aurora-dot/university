{
  "cells": [
    {
      "cell_type": "code",
      "source": [
        "!pip install peewee"
      ],
      "metadata": {
        "id": "B50Ay0F6-Dl9",
        "colab": {
          "base_uri": "https://localhost:8080/"
        },
        "outputId": "d716be5f-5d18-4e59-ca14-d21ffc2d52db"
      },
      "execution_count": null,
      "outputs": [
        {
          "output_type": "stream",
          "name": "stdout",
          "text": [
            "Collecting peewee\n",
            "  Downloading peewee-3.14.10.tar.gz (855 kB)\n",
            "\u001b[K     |████████████████████████████████| 855 kB 4.0 MB/s \n",
            "\u001b[?25hBuilding wheels for collected packages: peewee\n",
            "  Building wheel for peewee (setup.py) ... \u001b[?25l\u001b[?25hdone\n",
            "  Created wheel for peewee: filename=peewee-3.14.10-cp37-cp37m-linux_x86_64.whl size=616205 sha256=f84bc37df426c9bebdaa7a9c3a2511f3fc75d6139c836cc006c068ae4811f236\n",
            "  Stored in directory: /root/.cache/pip/wheels/df/4f/73/3228affbec8e2e73e622306ac47ebba39df2170bd784eec69c\n",
            "Successfully built peewee\n",
            "Installing collected packages: peewee\n",
            "Successfully installed peewee-3.14.10\n"
          ]
        }
      ]
    },
    {
      "cell_type": "code",
      "source": [
        "from google.colab import drive\n",
        "drive.mount('/content/drive')\n"
      ],
      "metadata": {
        "id": "PHy_Ck0v8uZN",
        "colab": {
          "base_uri": "https://localhost:8080/"
        },
        "outputId": "b558fbbf-894e-462f-b312-b997e762d2db"
      },
      "execution_count": null,
      "outputs": [
        {
          "output_type": "stream",
          "name": "stdout",
          "text": [
            "Mounted at /content/drive\n"
          ]
        }
      ]
    },
    {
      "cell_type": "code",
      "source": [
        "import peewee\n",
        "\n",
        "db_features_one = peewee.SqliteDatabase(\"/content/drive/MyDrive/diss_data/features_one.db\")\n",
        "db_features_two = peewee.SqliteDatabase(\"/content/drive/MyDrive/diss_data/features_two.db\")\n",
        "db_features_three = peewee.SqliteDatabase(\"/content/drive/MyDrive/diss_data/features_three.db\")\n",
        "\n",
        "\n",
        "class ExtractedFeaturesOne(peewee.Model):\n",
        "    user_id = peewee.IntegerField()\n",
        "    data_split_type = peewee.IntegerField()\n",
        "    feature_array = peewee.BlobField()\n",
        "\n",
        "    class Meta:\n",
        "        database = db_features_one\n",
        "        legacy_table_names = False\n",
        "\n",
        "\n",
        "class ExtractedFeaturesTwo(peewee.Model):\n",
        "    user_id = peewee.IntegerField()\n",
        "    data_split_type = peewee.IntegerField()\n",
        "    feature_array = peewee.BlobField()\n",
        "\n",
        "    class Meta:\n",
        "        database = db_features_two\n",
        "        legacy_table_names = False\n",
        "\n",
        "\n",
        "class ExtractedFeaturesThree(peewee.Model):\n",
        "    user_id = peewee.IntegerField()\n",
        "    data_split_type = peewee.IntegerField()\n",
        "    feature_array = peewee.BlobField()\n",
        "\n",
        "    class Meta:\n",
        "        database = db_features_three\n",
        "        legacy_table_names = False\n",
        "\n",
        "\n",
        "db_features_one.create_tables(\n",
        "    [\n",
        "        ExtractedFeaturesOne,\n",
        "        ExtractedFeaturesTwo,\n",
        "        ExtractedFeaturesThree\n",
        "    ]\n",
        ")\n"
      ],
      "metadata": {
        "id": "ORKpV3WS8hp2",
        "colab": {
          "base_uri": "https://localhost:8080/"
        },
        "outputId": "243c2801-94b0-4e60-b90f-dfc8a9d2bd24"
      },
      "execution_count": null,
      "outputs": [
        {
          "output_type": "stream",
          "name": "stderr",
          "text": [
            "/usr/local/lib/python3.7/dist-packages/psycopg2/__init__.py:144: UserWarning: The psycopg2 wheel package will be renamed from release 2.8; in order to keep installing from binary please use \"pip install psycopg2-binary\" instead. For details see: <http://initd.org/psycopg/docs/install.html#binary-install-from-pypi>.\n",
            "  \"\"\")\n"
          ]
        }
      ]
    },
    {
      "cell_type": "code",
      "execution_count": null,
      "metadata": {
        "id": "RfyDf7tW8Puf"
      },
      "outputs": [],
      "source": [
        "from tqdm import tqdm, trange\n",
        "from imblearn.over_sampling import SMOTE\n",
        "import json\n"
      ]
    },
    {
      "cell_type": "code",
      "source": [
        "from sklearn.naive_bayes import GaussianNB, MultinomialNB\n",
        "from sklearn.preprocessing import StandardScaler\n",
        "from sklearn.datasets import make_classification\n",
        "from sklearn.model_selection import train_test_split\n",
        "from imblearn.pipeline import Pipeline \n",
        "from sklearn.linear_model import SGDClassifier\n",
        "from sklearn.svm import LinearSVC"
      ],
      "metadata": {
        "id": "r3qecnI-L0Q5"
      },
      "execution_count": null,
      "outputs": []
    },
    {
      "cell_type": "code",
      "source": [
        "pipe = Pipeline([('smote', SMOTE()), ('scaler', StandardScaler()), ('svc', LinearSVC())])"
      ],
      "metadata": {
        "id": "2KdhDJIghSl5"
      },
      "execution_count": null,
      "outputs": []
    },
    {
      "cell_type": "code",
      "source": [
        "f = open(\"/content/drive/MyDrive/diss_data/suspicious_network_two.json\")\n",
        "sus_raw = json.load(f)\n",
        "sus = [int(sus) for sus in sus_raw]\n",
        "f.close()\n"
      ],
      "metadata": {
        "id": "IhKgvXMSGKji"
      },
      "execution_count": null,
      "outputs": []
    },
    {
      "cell_type": "code",
      "source": [
        "len(sus)\n"
      ],
      "metadata": {
        "colab": {
          "base_uri": "https://localhost:8080/"
        },
        "id": "x2ZM-2r_bLoO",
        "outputId": "0c5f60df-5c8d-44a0-e67c-6f25adb32ba6"
      },
      "execution_count": null,
      "outputs": [
        {
          "output_type": "execute_result",
          "data": {
            "text/plain": [
              "28"
            ]
          },
          "metadata": {},
          "execution_count": 9
        }
      ]
    },
    {
      "cell_type": "code",
      "source": [
        "def get_data(query, X, y):\n",
        "  for feature in tqdm(query):\n",
        "    X.append(json.loads(feature.feature_array.decode('utf-8')))\n",
        "    y.append(feature.user_id)\n"
      ],
      "metadata": {
        "id": "iHGzfXSiCvbM"
      },
      "execution_count": null,
      "outputs": []
    },
    {
      "cell_type": "code",
      "source": [
        "train_X = []\n",
        "train_y = []"
      ],
      "metadata": {
        "id": "N8oh5__wAwt9"
      },
      "execution_count": null,
      "outputs": []
    },
    {
      "cell_type": "code",
      "execution_count": null,
      "metadata": {
        "id": "4PgjmgKr8Pui",
        "colab": {
          "base_uri": "https://localhost:8080/"
        },
        "outputId": "fd4a3820-0b22-4661-a29b-5b92d9604893"
      },
      "outputs": [
        {
          "output_type": "stream",
          "name": "stderr",
          "text": [
            "100%|██████████| 652/652 [00:00<00:00, 16851.45it/s]\n"
          ]
        }
      ],
      "source": [
        "query = ExtractedFeaturesOne.select().where((ExtractedFeaturesOne.data_split_type == 0) & (ExtractedFeaturesOne.user_id << sus))\n",
        "get_data(query, train_X, train_y)\n"
      ]
    },
    {
      "cell_type": "code",
      "source": [
        "query = ExtractedFeaturesTwo.select().where((ExtractedFeaturesTwo.data_split_type == 0) & (ExtractedFeaturesTwo.user_id << sus))\n",
        "get_data(query, train_X, train_y)\n"
      ],
      "metadata": {
        "id": "rj-bNrlKBFS5",
        "colab": {
          "base_uri": "https://localhost:8080/"
        },
        "outputId": "d4da654b-749b-474f-a441-13daea4b4a76"
      },
      "execution_count": null,
      "outputs": [
        {
          "output_type": "stream",
          "name": "stderr",
          "text": [
            "100%|██████████| 1450/1450 [00:00<00:00, 28089.11it/s]\n"
          ]
        }
      ]
    },
    {
      "cell_type": "code",
      "source": [
        "query = ExtractedFeaturesThree.select().where((ExtractedFeaturesThree.data_split_type == 0) & (ExtractedFeaturesThree.user_id << sus))\n",
        "get_data(query, train_X, train_y)\n"
      ],
      "metadata": {
        "id": "g8eMNjEOBMSB",
        "colab": {
          "base_uri": "https://localhost:8080/"
        },
        "outputId": "05f49e2d-63e7-4fcf-dead-ce404f1bf55a"
      },
      "execution_count": null,
      "outputs": [
        {
          "output_type": "stream",
          "name": "stderr",
          "text": [
            "100%|██████████| 829/829 [00:00<00:00, 22842.45it/s]\n"
          ]
        }
      ]
    },
    {
      "cell_type": "code",
      "source": [
        "(len(train_y) / 1873093) * 100"
      ],
      "metadata": {
        "colab": {
          "base_uri": "https://localhost:8080/"
        },
        "id": "6KSFXd8ncss2",
        "outputId": "5d3d6983-1b2c-4cbf-b7c5-1e1f94533899"
      },
      "execution_count": null,
      "outputs": [
        {
          "output_type": "execute_result",
          "data": {
            "text/plain": [
              "0.15647914972721588"
            ]
          },
          "metadata": {},
          "execution_count": 15
        }
      ]
    },
    {
      "cell_type": "code",
      "source": [
        "len(train_y) / len(sus)"
      ],
      "metadata": {
        "colab": {
          "base_uri": "https://localhost:8080/"
        },
        "id": "N-2EJqCJc0AR",
        "outputId": "9ae1cf6a-29e3-4626-93ff-9bd67963067d"
      },
      "execution_count": null,
      "outputs": [
        {
          "output_type": "execute_result",
          "data": {
            "text/plain": [
              "104.67857142857143"
            ]
          },
          "metadata": {},
          "execution_count": 16
        }
      ]
    },
    {
      "cell_type": "code",
      "source": [
        "for thing in train_y:\n",
        "    if thing not in sus:\n",
        "        raise Exception(\"borked\")\n"
      ],
      "metadata": {
        "id": "cWzMMCD8bZZ-"
      },
      "execution_count": null,
      "outputs": []
    },
    {
      "cell_type": "code",
      "source": [
        "pipe.fit(train_X, train_y)\n"
      ],
      "metadata": {
        "id": "j0gHpVzEhQKI",
        "colab": {
          "base_uri": "https://localhost:8080/"
        },
        "outputId": "43647b75-a8f8-48ec-f2e8-ecd2a78c0c50"
      },
      "execution_count": null,
      "outputs": [
        {
          "output_type": "stream",
          "name": "stderr",
          "text": [
            "/usr/local/lib/python3.7/dist-packages/sklearn/svm/_base.py:1208: ConvergenceWarning: Liblinear failed to converge, increase the number of iterations.\n",
            "  ConvergenceWarning,\n"
          ]
        },
        {
          "output_type": "execute_result",
          "data": {
            "text/plain": [
              "Pipeline(steps=[('smote', SMOTE()), ('scaler', StandardScaler()),\n",
              "                ('svc', LinearSVC())])"
            ]
          },
          "metadata": {},
          "execution_count": 18
        }
      ]
    },
    {
      "cell_type": "code",
      "source": [
        "import pickle\n",
        "\n",
        "filehandler = open(\"pipe_network_two.obj\",\"wb\")\n",
        "pickle.dump(pipe, filehandler)\n",
        "filehandler.close()\n"
      ],
      "metadata": {
        "id": "k5ICnALwlhwG"
      },
      "execution_count": null,
      "outputs": []
    },
    {
      "cell_type": "code",
      "source": [
        "test_X = []\n",
        "test_y = []"
      ],
      "metadata": {
        "id": "6XBifqM_SV9O"
      },
      "execution_count": null,
      "outputs": []
    },
    {
      "cell_type": "code",
      "execution_count": null,
      "metadata": {
        "id": "N_KCvsk1SmTm",
        "colab": {
          "base_uri": "https://localhost:8080/"
        },
        "outputId": "4d3eda74-d43a-4bd2-90bd-44c2bf9cf67f"
      },
      "outputs": [
        {
          "output_type": "stream",
          "name": "stderr",
          "text": [
            "100%|██████████| 285/285 [00:00<00:00, 23517.61it/s]\n"
          ]
        }
      ],
      "source": [
        "query = ExtractedFeaturesOne.select().where((ExtractedFeaturesOne.data_split_type == 1) & (ExtractedFeaturesOne.user_id << sus))\n",
        "get_data(query, test_X, test_y)\n"
      ]
    },
    {
      "cell_type": "code",
      "source": [
        "query = ExtractedFeaturesTwo.select().where((ExtractedFeaturesTwo.data_split_type == 1) & (ExtractedFeaturesTwo.user_id << sus))\n",
        "get_data(query, test_X, test_y)\n"
      ],
      "metadata": {
        "id": "iVEHsaXtSmTn",
        "colab": {
          "base_uri": "https://localhost:8080/"
        },
        "outputId": "520f20bc-e799-4dfd-bec6-8a1136f0420f"
      },
      "execution_count": null,
      "outputs": [
        {
          "output_type": "stream",
          "name": "stderr",
          "text": [
            "100%|██████████| 628/628 [00:00<00:00, 28028.97it/s]\n"
          ]
        }
      ]
    },
    {
      "cell_type": "code",
      "source": [
        "query = ExtractedFeaturesThree.select().where((ExtractedFeaturesThree.data_split_type == 1) & (ExtractedFeaturesThree.user_id << sus))\n",
        "get_data(query, test_X, test_y)\n"
      ],
      "metadata": {
        "id": "tJY7I8a3SmTn",
        "colab": {
          "base_uri": "https://localhost:8080/"
        },
        "outputId": "6500b7e2-2bcf-4647-bbe2-d055f22eac81"
      },
      "execution_count": null,
      "outputs": [
        {
          "output_type": "stream",
          "name": "stderr",
          "text": [
            "100%|██████████| 359/359 [00:00<00:00, 24491.79it/s]\n"
          ]
        }
      ]
    },
    {
      "cell_type": "code",
      "source": [
        "pipe.score(test_X, test_y)"
      ],
      "metadata": {
        "id": "ICPERN72i1O4",
        "colab": {
          "base_uri": "https://localhost:8080/"
        },
        "outputId": "b6397127-fcfd-429d-eefa-eae7e2c7c6e1"
      },
      "execution_count": null,
      "outputs": [
        {
          "output_type": "execute_result",
          "data": {
            "text/plain": [
              "0.30974842767295596"
            ]
          },
          "metadata": {},
          "execution_count": 24
        }
      ]
    },
    {
      "cell_type": "code",
      "source": [
        "y_predicted = pipe.predict(test_X)"
      ],
      "metadata": {
        "id": "kTz_TtU3s4rl"
      },
      "execution_count": null,
      "outputs": []
    },
    {
      "cell_type": "code",
      "source": [
        "!pip install pycm"
      ],
      "metadata": {
        "id": "Ps-hOocJjPqU",
        "colab": {
          "base_uri": "https://localhost:8080/"
        },
        "outputId": "aac9ddc8-1ea1-4c50-d578-3a951816c1eb"
      },
      "execution_count": null,
      "outputs": [
        {
          "output_type": "stream",
          "name": "stdout",
          "text": [
            "Collecting pycm\n",
            "  Downloading pycm-3.5-py2.py3-none-any.whl (66 kB)\n",
            "\u001b[K     |████████████████████████████████| 66 kB 2.4 MB/s \n",
            "\u001b[?25hCollecting art>=1.8\n",
            "  Downloading art-5.6-py2.py3-none-any.whl (590 kB)\n",
            "\u001b[K     |████████████████████████████████| 590 kB 9.2 MB/s \n",
            "\u001b[?25hRequirement already satisfied: numpy>=1.9.0 in /usr/local/lib/python3.7/dist-packages (from pycm) (1.21.6)\n",
            "Installing collected packages: art, pycm\n",
            "Successfully installed art-5.6 pycm-3.5\n"
          ]
        }
      ]
    },
    {
      "cell_type": "code",
      "source": [
        "from pycm import *\n",
        "cm = ConfusionMatrix(actual_vector=test_y, predict_vector=y_predicted)"
      ],
      "metadata": {
        "id": "Lfa40e7Li-z6"
      },
      "execution_count": null,
      "outputs": []
    },
    {
      "cell_type": "code",
      "source": [
        "cm.save_html(\"out\")"
      ],
      "metadata": {
        "id": "_IfUbTtTtKf5",
        "colab": {
          "base_uri": "https://localhost:8080/"
        },
        "outputId": "c0b619dd-ed1c-4da0-d04e-a020182b4dd6"
      },
      "execution_count": null,
      "outputs": [
        {
          "output_type": "execute_result",
          "data": {
            "text/plain": [
              "{'Message': '/content/out.html', 'Status': True}"
            ]
          },
          "metadata": {},
          "execution_count": 28
        }
      ]
    },
    {
      "cell_type": "code",
      "source": [
        "cm.save_stat(\"out\")"
      ],
      "metadata": {
        "id": "RN5mmwBAwwbn",
        "colab": {
          "base_uri": "https://localhost:8080/"
        },
        "outputId": "d54344fc-9526-49ea-b785-087cef972d7c"
      },
      "execution_count": null,
      "outputs": [
        {
          "output_type": "execute_result",
          "data": {
            "text/plain": [
              "{'Message': '/content/out.pycm', 'Status': True}"
            ]
          },
          "metadata": {},
          "execution_count": 29
        }
      ]
    },
    {
      "cell_type": "code",
      "source": [
        "cm.save_csv(\"out\")"
      ],
      "metadata": {
        "id": "8gLoZdmjxGPH",
        "colab": {
          "base_uri": "https://localhost:8080/"
        },
        "outputId": "df3151c6-ff70-4c80-eb75-fe7ae21b5ab8"
      },
      "execution_count": null,
      "outputs": [
        {
          "output_type": "execute_result",
          "data": {
            "text/plain": [
              "{'Message': '/content/out.csv', 'Status': True}"
            ]
          },
          "metadata": {},
          "execution_count": 30
        }
      ]
    },
    {
      "cell_type": "code",
      "source": [
        "cm.save_report(\"out\")"
      ],
      "metadata": {
        "id": "Vgksoh-ixWOj",
        "colab": {
          "base_uri": "https://localhost:8080/",
          "height": 166
        },
        "outputId": "eb33317a-526b-4b52-88db-180aa9ff48aa"
      },
      "execution_count": null,
      "outputs": [
        {
          "output_type": "error",
          "ename": "AttributeError",
          "evalue": "ignored",
          "traceback": [
            "\u001b[0;31m---------------------------------------------------------------------------\u001b[0m",
            "\u001b[0;31mAttributeError\u001b[0m                            Traceback (most recent call last)",
            "\u001b[0;32m<ipython-input-32-ba1f9592bbef>\u001b[0m in \u001b[0;36m<module>\u001b[0;34m()\u001b[0m\n\u001b[0;32m----> 1\u001b[0;31m \u001b[0mcm\u001b[0m\u001b[0;34m.\u001b[0m\u001b[0msave_report\u001b[0m\u001b[0;34m(\u001b[0m\u001b[0;34m\"out\"\u001b[0m\u001b[0;34m)\u001b[0m\u001b[0;34m\u001b[0m\u001b[0;34m\u001b[0m\u001b[0m\n\u001b[0m",
            "\u001b[0;31mAttributeError\u001b[0m: 'ConfusionMatrix' object has no attribute 'save_report'"
          ]
        }
      ]
    },
    {
      "cell_type": "code",
      "source": [
        "cm.save_obj(\"cm\")"
      ],
      "metadata": {
        "id": "gZyaE_ruxOTA",
        "colab": {
          "base_uri": "https://localhost:8080/"
        },
        "outputId": "9a886ce6-143e-4a64-81c8-d81641951924"
      },
      "execution_count": null,
      "outputs": [
        {
          "output_type": "execute_result",
          "data": {
            "text/plain": [
              "{'Message': '/content/cm.obj', 'Status': True}"
            ]
          },
          "metadata": {},
          "execution_count": 33
        }
      ]
    },
    {
      "cell_type": "code",
      "source": [
        "!zip out_all.zip out* pipe*"
      ],
      "metadata": {
        "id": "r9CGsbHuiig1",
        "colab": {
          "base_uri": "https://localhost:8080/"
        },
        "outputId": "134a0578-2ac9-42ca-cdb4-dcf190d3da86"
      },
      "execution_count": null,
      "outputs": [
        {
          "output_type": "stream",
          "name": "stdout",
          "text": [
            "  adding: out.csv (deflated 63%)\n",
            "  adding: out.html (deflated 95%)\n",
            "  adding: out_matrix.csv (deflated 73%)\n",
            "  adding: out.pycm (deflated 83%)\n",
            "  adding: pipe_network_two.obj (deflated 52%)\n"
          ]
        }
      ]
    },
    {
      "cell_type": "code",
      "source": [
        "from google.colab import files\n",
        "files.download('out_all.zip') "
      ],
      "metadata": {
        "id": "V7QtpF15_7Xz",
        "colab": {
          "base_uri": "https://localhost:8080/",
          "height": 17
        },
        "outputId": "8bdff388-2c7e-41f5-9b2d-283ec9dec729"
      },
      "execution_count": null,
      "outputs": [
        {
          "output_type": "display_data",
          "data": {
            "text/plain": [
              "<IPython.core.display.Javascript object>"
            ],
            "application/javascript": [
              "\n",
              "    async function download(id, filename, size) {\n",
              "      if (!google.colab.kernel.accessAllowed) {\n",
              "        return;\n",
              "      }\n",
              "      const div = document.createElement('div');\n",
              "      const label = document.createElement('label');\n",
              "      label.textContent = `Downloading \"${filename}\": `;\n",
              "      div.appendChild(label);\n",
              "      const progress = document.createElement('progress');\n",
              "      progress.max = size;\n",
              "      div.appendChild(progress);\n",
              "      document.body.appendChild(div);\n",
              "\n",
              "      const buffers = [];\n",
              "      let downloaded = 0;\n",
              "\n",
              "      const channel = await google.colab.kernel.comms.open(id);\n",
              "      // Send a message to notify the kernel that we're ready.\n",
              "      channel.send({})\n",
              "\n",
              "      for await (const message of channel.messages) {\n",
              "        // Send a message to notify the kernel that we're ready.\n",
              "        channel.send({})\n",
              "        if (message.buffers) {\n",
              "          for (const buffer of message.buffers) {\n",
              "            buffers.push(buffer);\n",
              "            downloaded += buffer.byteLength;\n",
              "            progress.value = downloaded;\n",
              "          }\n",
              "        }\n",
              "      }\n",
              "      const blob = new Blob(buffers, {type: 'application/binary'});\n",
              "      const a = document.createElement('a');\n",
              "      a.href = window.URL.createObjectURL(blob);\n",
              "      a.download = filename;\n",
              "      div.appendChild(a);\n",
              "      a.click();\n",
              "      div.remove();\n",
              "    }\n",
              "  "
            ]
          },
          "metadata": {}
        },
        {
          "output_type": "display_data",
          "data": {
            "text/plain": [
              "<IPython.core.display.Javascript object>"
            ],
            "application/javascript": [
              "download(\"download_eddd4d83-d2b0-4b57-bacc-cfb9bfbf6579\", \"out_all.zip\", 92587)"
            ]
          },
          "metadata": {}
        }
      ]
    },
    {
      "cell_type": "code",
      "source": [
        "print(cm)"
      ],
      "metadata": {
        "id": "lMGqnSa0Kr3I",
        "colab": {
          "base_uri": "https://localhost:8080/"
        },
        "outputId": "308a4382-69c4-4d03-9fb8-f32d48fe36a5"
      },
      "execution_count": null,
      "outputs": [
        {
          "output_type": "stream",
          "name": "stdout",
          "text": [
            "Predict     2395        5517        6439        7187        7399        9051        12062       13348       14311       15095       15164       15654       15918       19272       19838       22502       22586       23772       24660       24937       27814       29315       36913       37457       49687       49735       58858       65363       \n",
            "Actual\n",
            "2395        9           0           0           0           1           1           0           4           2           3           0           1           1           2           1           0           0           3           1           1           0           0           0           1           1           1           0           0           \n",
            "\n",
            "5517        4           11          2           0           3           0           2           4           1           1           0           3           1           1           3           1           1           2           1           4           2           4           2           3           1           0           1           0           \n",
            "\n",
            "6439        2           0           31          6           3           8           3           0           0           0           2           1           1           0           0           0           1           0           2           0           1           6           1           2           4           1           0           1           \n",
            "\n",
            "7187        0           1           1           11          0           4           1           2           2           0           0           0           0           2           2           1           0           0           0           1           1           0           0           0           1           0           0           1           \n",
            "\n",
            "7399        1           0           0           0           9           0           0           1           2           0           0           3           1           1           2           1           0           1           3           1           0           0           1           1           0           1           1           0           \n",
            "\n",
            "9051        1           1           1           2           2           14          1           0           0           2           1           0           2           0           2           3           0           0           0           1           2           3           0           1           3           0           0           1           \n",
            "\n",
            "12062       0           0           2           0           0           0           10          0           1           2           4           0           1           0           0           2           2           0           1           0           0           0           0           1           0           0           1           0           \n",
            "\n",
            "13348       2           1           0           0           1           1           1           13          2           2           0           1           3           1           1           0           0           1           2           2           1           0           1           0           0           0           1           1           \n",
            "\n",
            "14311       8           7           0           7           4           5           2           3           8           5           0           2           4           6           1           3           2           2           5           2           2           0           0           2           0           8           3           2           \n",
            "\n",
            "15095       0           0           0           0           0           0           1           1           1           1           0           1           2           0           1           1           1           0           1           1           1           0           2           2           0           0           1           1           \n",
            "\n",
            "15164       1           0           1           1           0           2           3           0           0           1           2           0           0           1           0           2           0           0           0           0           1           0           2           0           0           0           0           0           \n",
            "\n",
            "15654       2           2           1           1           0           0           1           1           1           1           0           10          1           1           0           1           0           1           0           2           0           1           1           2           0           0           3           1           \n",
            "\n",
            "15918       0           3           0           4           0           2           0           3           1           2           0           0           35          2           2           1           0           1           1           2           4           4           2           1           2           2           2           0           \n",
            "\n",
            "19272       0           0           0           1           1           0           0           0           2           2           0           1           1           6           1           0           1           1           0           2           1           0           1           0           2           0           0           1           \n",
            "\n",
            "19838       1           4           2           0           0           1           0           2           2           2           3           0           7           1           14          1           1           0           2           2           2           0           0           2           2           0           1           1           \n",
            "\n",
            "22502       0           0           0           1           1           1           6           0           0           3           0           3           0           4           2           27          1           2           6           2           1           0           3           1           0           0           2           0           \n",
            "\n",
            "22586       0           4           1           2           3           0           0           0           0           0           0           0           1           2           1           1           18          1           3           2           0           0           2           0           1           1           1           0           \n",
            "\n",
            "23772       1           0           0           1           0           0           0           0           0           1           0           1           1           1           1           1           0           6           2           0           1           1           0           0           0           1           1           0           \n",
            "\n",
            "24660       5           0           1           1           1           1           0           0           2           0           1           0           0           1           1           1           1           3           12          1           1           3           0           1           1           1           0           1           \n",
            "\n",
            "24937       0           1           1           3           1           1           0           0           0           1           0           2           1           0           1           0           1           1           1           7           0           0           0           0           0           0           0           1           \n",
            "\n",
            "27814       5           2           0           3           1           1           0           3           2           1           2           1           4           5           1           2           4           1           0           3           17          0           1           1           0           3           0           0           \n",
            "\n",
            "29315       1           0           1           2           1           0           1           1           0           0           0           0           3           2           1           0           2           0           0           0           0           6           0           2           1           1           2           0           \n",
            "\n",
            "36913       3           1           1           0           1           3           0           0           2           2           3           2           6           3           3           2           2           5           3           6           0           2           20          8           0           3           1           3           \n",
            "\n",
            "37457       0           0           2           1           0           1           1           0           0           1           2           0           0           0           1           3           0           0           2           2           0           1           0           8           2           1           0           0           \n",
            "\n",
            "49687       0           0           2           2           0           1           4           0           0           0           1           0           0           2           1           0           0           0           0           0           0           1           0           1           3           0           0           1           \n",
            "\n",
            "49735       1           3           3           0           1           1           0           1           1           0           1           1           2           0           0           0           1           0           2           0           1           0           1           1           0           9           0           0           \n",
            "\n",
            "58858       3           3           0           7           1           1           6           3           2           3           9           5           4           0           4           5           3           0           1           0           1           3           3           5           4           4           71          9           \n",
            "\n",
            "65363       0           0           0           0           0           2           0           0           0           0           0           0           2           0           2           1           1           0           0           0           0           0           1           0           0           0           0           6           \n",
            "\n",
            "\n",
            "\n",
            "\n",
            "\n",
            "Overall Statistics : \n",
            "\n",
            "95% CI                                                            (0.28434,0.33516)\n",
            "ACC Macro                                                         0.9507\n",
            "ARI                                                               0.12814\n",
            "AUNP                                                              0.64243\n",
            "AUNU                                                              0.63233\n",
            "Bangdiwala B                                                      0.16078\n",
            "Bennett S                                                         0.28418\n",
            "CBA                                                               0.23395\n",
            "CSI                                                               -0.43439\n",
            "Chi-Squared                                                       3307.79124\n",
            "Chi-Squared DF                                                    729\n",
            "Conditional Entropy                                               3.55691\n",
            "Cramer V                                                          0.31034\n",
            "Cross Entropy                                                     4.68848\n",
            "F1 Macro                                                          0.27087\n",
            "F1 Micro                                                          0.30975\n",
            "FNR Macro                                                         0.7098\n",
            "FNR Micro                                                         0.69025\n",
            "FPR Macro                                                         0.02554\n",
            "FPR Micro                                                         0.02556\n",
            "Gwet AC1                                                          0.28439\n",
            "Hamming Loss                                                      0.69025\n",
            "Joint Entropy                                                     8.09334\n",
            "KL Divergence                                                     0.15205\n",
            "Kappa                                                             0.28016\n",
            "Kappa 95% CI                                                      (0.25366,0.30666)\n",
            "Kappa No Prevalence                                               -0.3805\n",
            "Kappa Standard Error                                              0.01352\n",
            "Kappa Unbiased                                                    0.27844\n",
            "Krippendorff Alpha                                                0.27872\n",
            "Lambda A                                                          0.22392\n",
            "Lambda B                                                          0.25847\n",
            "Mutual Information                                                1.1877\n",
            "NIR                                                               0.12579\n",
            "Overall ACC                                                       0.30975\n",
            "Overall CEN                                                       0.62991\n",
            "Overall J                                                         (4.53698,0.16204)\n",
            "Overall MCC                                                       0.28151\n",
            "Overall MCEN                                                      0.71335\n",
            "Overall RACC                                                      0.04111\n",
            "Overall RACCU                                                     0.04339\n",
            "P-Value                                                           None\n",
            "PPV Macro                                                         0.27542\n",
            "PPV Micro                                                         0.30975\n",
            "Pearson C                                                         0.84986\n",
            "Phi-Squared                                                       2.60046\n",
            "RCI                                                               0.26181\n",
            "RR                                                                45.42857\n",
            "Reference Entropy                                                 4.53643\n",
            "Response Entropy                                                  4.74461\n",
            "SOA1(Landis & Koch)                                               Fair\n",
            "SOA2(Fleiss)                                                      Poor\n",
            "SOA3(Altman)                                                      Fair\n",
            "SOA4(Cicchetti)                                                   Poor\n",
            "SOA5(Cramer)                                                      Moderate\n",
            "SOA6(Matthews)                                                    Negligible\n",
            "Scott PI                                                          0.27844\n",
            "Standard Error                                                    0.01296\n",
            "TNR Macro                                                         0.97446\n",
            "TNR Micro                                                         0.97444\n",
            "TPR Macro                                                         0.2902\n",
            "TPR Micro                                                         0.30975\n",
            "Zero-one Loss                                                     878\n",
            "\n",
            "Class Statistics :\n",
            "\n",
            "Classes                                                           2395          5517          6439          7187          7399          9051          12062         13348         14311         15095         15164         15654         15918         19272         19838         22502         22586         23772         24660         24937         27814         29315         36913         37457         49687         49735         58858         65363         \n",
            "ACC(Accuracy)                                                     0.9489        0.93711       0.94733       0.9489        0.96305       0.94811       0.96069       0.95755       0.91274       0.95833       0.96541       0.95912       0.92925       0.95597       0.94182       0.9434        0.95991       0.96934       0.94733       0.95833       0.94575       0.96069       0.93003       0.9544        0.96777       0.96148       0.91352       0.97327       \n",
            "AGF(Adjusted F-score)                                             0.49165       0.43828       0.64787       0.54708       0.53401       0.55321       0.5707        0.57274       0.30437       0.20946       0.31554       0.53065       0.65945       0.45876       0.50972       0.63534       0.6343        0.51648       0.52663       0.50312       0.53036       0.45383       0.49829       0.4983        0.37705       0.5305        0.67351       0.57135       \n",
            "AGM(Adjusted geometric mean)                                      0.73723       0.69484       0.80181       0.77192       0.7579        0.76241       0.78498       0.77422       0.62094       0.59632       0.65581       0.75378       0.80727       0.72867       0.73396       0.79716       0.8033        0.75939       0.75023       0.75496       0.74181       0.71855       0.72133       0.74541       0.6845        0.75688       0.80969       0.80207       \n",
            "AM(Difference between automatic and manual classification)        17            -14           -23           25            5             8             16            4             -59           17            14            4             8             20            -4            -6            -1            11            11            21            -23           8             -41           18            9             7             -68           16            \n",
            "AUC(Area under the ROC curve)                                     0.61982       0.58124       0.69475       0.65929       0.63953       0.64774       0.67193       0.6593        0.53198       0.51235       0.54727       0.63575       0.70978       0.60978       0.61772       0.69086       0.69437       0.64002       0.63417       0.63736       0.62541       0.59946       0.60754       0.62758       0.56897       0.63873       0.71243       0.69006       \n",
            "AUCI(AUC value interpretation)                                    Fair          Poor          Fair          Fair          Fair          Fair          Fair          Fair          Poor          Poor          Poor          Fair          Good          Fair          Fair          Fair          Fair          Fair          Fair          Fair          Fair          Poor          Fair          Fair          Poor          Fair          Good          Fair          \n",
            "AUPR(Area under the PR curve)                                     0.22636       0.21983       0.4964        0.27563       0.27857       0.30005       0.30146       0.32581       0.16066       0.0402        0.09108       0.27864       0.4386        0.19318       0.27493       0.42955       0.41385       0.24677       0.26765       0.23172       0.34742       0.19683       0.34492       0.22981       0.13252       0.27162       0.60774       0.29677       \n",
            "BCD(Bray-Curtis dissimilarity)                                    0.00668       0.0055        0.00904       0.00983       0.00197       0.00314       0.00629       0.00157       0.02319       0.00668       0.0055        0.00157       0.00314       0.00786       0.00157       0.00236       0.00039       0.00432       0.00432       0.00825       0.00904       0.00314       0.01612       0.00708       0.00354       0.00275       0.02673       0.00629       \n",
            "BM(Informedness or bookmaker informedness)                        0.23964       0.16247       0.3895        0.31858       0.27907       0.29548       0.34386       0.3186        0.06397       0.0247        0.09454       0.2715        0.41956       0.21955       0.23544       0.38173       0.38873       0.28003       0.26834       0.27472       0.25082       0.19893       0.21508       0.25517       0.13794       0.27746       0.42487       0.38011       \n",
            "CEN(Confusion entropy)                                            0.67442       0.71356       0.50442       0.64407       0.6557        0.65065       0.59064       0.62471       0.78241       0.82314       0.66228       0.6666        0.57646       0.71812       0.70502       0.56157       0.56389       0.65453       0.6865        0.69631       0.63961       0.65913       0.6571        0.68808       0.68391       0.62301       0.46038       0.55347       \n",
            "DOR(Diagnostic odds ratio)                                        10.95732      8.37589       36.76162      14.61778      20.04396      15.55266      21.60428      21.6069       4.17376       1.93333       5.63678       18.00595      19.98258      10.61404      12.14359      24.60839      33.31385      21.03429      13.10989      14.33108      19.05671      11.9803       14.91026      12.69474      9.21          18.58163      41.44516      32.85333      \n",
            "DP(Discriminant power)                                            0.57322       0.50889       0.86305       0.64223       0.71782       0.65708       0.73577       0.7358        0.34211       0.15785       0.41407       0.69215       0.71709       0.5656        0.59783       0.76694       0.83947       0.72937       0.61616       0.63749       0.70573       0.59459       0.64698       0.60846       0.53162       0.69968       0.89176       0.83613       \n",
            "DPI(Discriminant power interpretation)                            Poor          Poor          Poor          Poor          Poor          Poor          Poor          Poor          Poor          Poor          Poor          Poor          Poor          Poor          Poor          Poor          Poor          Poor          Poor          Poor          Poor          Poor          Poor          Poor          Poor          Poor          Poor          Poor          \n",
            "ERR(Error rate)                                                   0.0511        0.06289       0.05267       0.0511        0.03695       0.05189       0.03931       0.04245       0.08726       0.04167       0.03459       0.04088       0.07075       0.04403       0.05818       0.0566        0.04009       0.03066       0.05267       0.04167       0.05425       0.03931       0.06997       0.0456        0.03223       0.03852       0.08648       0.02673       \n",
            "F0.5(F0.5 score)                                                  0.19313       0.23504       0.53819       0.21569       0.26471       0.2834        0.25126       0.31553       0.17467       0.03067       0.07092       0.26882       0.42476       0.15          0.28112       0.44118       0.41667       0.20833       0.2459        0.17588       0.38117       0.17964       0.38314       0.18868       0.1145        0.25281       0.67235       0.21583       \n",
            "F1(F1 score - harmonic mean of precision and sensitivity)         0.21687       0.21569       0.48062       0.25287       0.27692       0.29787       0.28571       0.325         0.12598       0.03636       0.08333       0.27778       0.4375        0.17647       0.27451       0.42857       0.41379       0.23529       0.26374       0.20896       0.3301        0.19355       0.31008       0.21622       0.12766       0.26866       0.56349       0.26087       \n",
            "F2(F2 score)                                                      0.24725       0.19928       0.43417       0.30556       0.29032       0.3139        0.33113       0.33505       0.09852       0.04464       0.10101       0.28736       0.45103       0.21429       0.2682        0.41667       0.41096       0.27027       0.28436       0.25735       0.2911        0.20979       0.26042       0.25316       0.14423       0.28662       0.48497       0.32967       \n",
            "FDR(False discovery rate)                                         0.82          0.75          0.41509       0.80357       0.74286       0.72549       0.76744       0.69048       0.76471       0.97222       0.93548       0.73684       0.58333       0.86364       0.71429       0.55          0.5814        0.80645       0.76471       0.84091       0.575         0.82857       0.54545       0.82609       0.89286       0.75676       0.22826       0.80645       \n",
            "FN(False negative/miss/type 2 error)                              24            47            45            20            21            29            17            25            85            18            15            24            41            18            39            39            26            14            28            16            46            21            65            20            16            21            89            9             \n",
            "FNR(Miss rate or false negative rate)                             0.72727       0.81034       0.59211       0.64516       0.7           0.67442       0.62963       0.65789       0.91398       0.94737       0.88235       0.70588       0.53947       0.75          0.73585       0.59091       0.59091       0.7           0.7           0.69565       0.73016       0.77778       0.76471       0.71429       0.84211       0.7           0.55625       0.6           \n",
            "FOR(False omission rate)                                          0.01964       0.03827       0.03692       0.01645       0.01698       0.02375       0.01383       0.02033       0.06866       0.01456       0.01209       0.01945       0.03451       0.01466       0.03189       0.03218       0.02116       0.01128       0.02293       0.01303       0.03734       0.01698       0.05293       0.01631       0.01286       0.017         0.07542       0.00725       \n",
            "FP(False positive/type 1 error/false alarm)                       41            33            22            45            26            37            33            29            26            35            29            28            49            38            35            33            25            25            39            37            23            29            24            38            25            28            21            25            \n",
            "FPR(Fall-out or false positive rate)                              0.03309       0.02718       0.01839       0.03626       0.02093       0.03011       0.02651       0.0235        0.02205       0.02793       0.02311       0.02262       0.04097       0.03045       0.02871       0.02736       0.02036       0.01997       0.03166       0.02962       0.01902       0.02329       0.02022       0.03055       0.01995       0.02254       0.01888       0.01989       \n",
            "G(G-measure geometric mean of precision and sensitivity)          0.22156       0.21775       0.48845       0.26401       0.27775       0.29896       0.29348       0.32541       0.14227       0.03824       0.08712       0.27821       0.43805       0.18464       0.27472       0.42906       0.41382       0.24097       0.26568       0.22004       0.33865       0.19518       0.32703       0.22291       0.13007       0.27014       0.5852        0.27824       \n",
            "GI(Gini index)                                                    0.23964       0.16247       0.3895        0.31858       0.27907       0.29548       0.34386       0.3186        0.06397       0.0247        0.09454       0.2715        0.41956       0.21955       0.23544       0.38173       0.38873       0.28003       0.26834       0.27472       0.25082       0.19893       0.21508       0.25517       0.13794       0.27746       0.42487       0.38011       \n",
            "GM(G-mean geometric mean of specificity and sensitivity)          0.51352       0.42953       0.63277       0.58478       0.54196       0.56194       0.60046       0.57798       0.29004       0.22619       0.33901       0.53616       0.66457       0.49233       0.50652       0.63079       0.63306       0.54223       0.53898       0.54344       0.5145        0.46588       0.48014       0.5263        0.39338       0.54151       0.65983       0.62613       \n",
            "IBA(Index of balanced accuracy)                                   0.08065       0.04001       0.17068       0.13375       0.09426       0.11232       0.1431        0.12214       0.00909       0.00412       0.01618       0.09105       0.22149       0.06798       0.07514       0.17366       0.17211       0.09407       0.09635       0.09863       0.07646       0.05329       0.05891       0.0876        0.02752       0.09458       0.20142       0.16462       \n",
            "ICSI(Individual classification success index)                     -0.54727      -0.56034      -0.0072       -0.44873      -0.44286      -0.39991      -0.39707      -0.34837      -0.67868      -0.91959      -0.81784      -0.44272      -0.12281      -0.61364      -0.45013      -0.14091      -0.1723       -0.50645      -0.46471      -0.53656      -0.30516      -0.60635      -0.31016      -0.54037      -0.73496      -0.45676      0.21549       -0.40645      \n",
            "IS(Information score)                                             2.79456       2.4549        3.29123       3.01076       3.44663       3.02155       3.45366       3.37308       1.68626       0.89503       2.27122       3.29942       2.80192       2.85345       2.77761       3.11649       3.59711       3.62172       2.90349       3.13724       3.10114       3.01367       2.76599       2.98197       2.84256       3.36646       2.61714       4.03676       \n",
            "J(Jaccard index)                                                  0.12162       0.12088       0.31633       0.14474       0.16071       0.175         0.16667       0.19403       0.06723       0.01852       0.04348       0.16129       0.28          0.09677       0.15909       0.27273       0.26087       0.13333       0.1519        0.11667       0.19767       0.10714       0.18349       0.12121       0.06818       0.15517       0.39227       0.15          \n",
            "LS(Lift score)                                                    6.93818       5.48276       9.78947       8.05991       10.90286      8.12038       10.95607      10.3609       3.21822       1.85965       4.82732       9.8452        6.97368       7.22727       6.85714       8.67273       12.10148      12.30968      7.48235       8.79842       8.58095       8.07619       6.80214       7.90062       7.17293       10.31351      6.13533       16.4129       \n",
            "MCC(Matthews correlation coefficient)                             0.19603       0.18547       0.462         0.23945       0.25889       0.2722        0.27425       0.30355       0.10324       0.01807       0.0704        0.25723       0.40042       0.16346       0.24446       0.39937       0.39307       0.22592       0.23872       0.20032       0.31182       0.17529       0.2939        0.20054       0.11404       0.25054       0.54391       0.26611       \n",
            "MCCI(Matthews correlation coefficient interpretation)             Negligible    Negligible    Weak          Negligible    Negligible    Negligible    Negligible    Weak          Negligible    Negligible    Negligible    Negligible    Weak          Negligible    Negligible    Weak          Weak          Negligible    Negligible    Negligible    Weak          Negligible    Negligible    Negligible    Negligible    Negligible    Moderate      Negligible    \n",
            "MCEN(Modified confusion entropy)                                  0.73117       0.77466       0.61687       0.70831       0.72973       0.73116       0.65688       0.71009       0.81979       0.83386       0.68087       0.74268       0.69331       0.7667        0.78605       0.67076       0.66804       0.71461       0.76072       0.75312       0.72976       0.70697       0.74319       0.74628       0.71513       0.68913       0.59055       0.60671       \n",
            "MK(Markedness)                                                    0.16036       0.21173       0.54799       0.17998       0.24017       0.25076       0.21873       0.2892        0.16663       0.01321       0.05243       0.24371       0.38215       0.12171       0.25383       0.41782       0.39745       0.18227       0.21236       0.14606       0.38766       0.15445       0.40161       0.1576        0.09428       0.22624       0.69632       0.1863        \n",
            "N(Condition negative)                                             1239          1214          1196          1241          1242          1229          1245          1234          1179          1253          1255          1238          1196          1248          1219          1206          1228          1252          1232          1249          1209          1245          1187          1244          1253          1242          1112          1257          \n",
            "NLR(Negative likelihood ratio)                                    0.75216       0.83299       0.6032        0.66944       0.71497       0.69535       0.64677       0.67373       0.93459       0.97459       0.90322       0.72222       0.56252       0.77355       0.7576        0.60753       0.60319       0.71426       0.72288       0.71689       0.74432       0.79633       0.78049       0.73679       0.85925       0.71614       0.56696       0.61218       \n",
            "NLRI(Negative likelihood ratio interpretation)                    Negligible    Negligible    Negligible    Negligible    Negligible    Negligible    Negligible    Negligible    Negligible    Negligible    Negligible    Negligible    Negligible    Negligible    Negligible    Negligible    Negligible    Negligible    Negligible    Negligible    Negligible    Negligible    Negligible    Negligible    Negligible    Negligible    Negligible    Negligible    \n",
            "NPV(Negative predictive value)                                    0.98036       0.96173       0.96308       0.98355       0.98302       0.97625       0.98617       0.97967       0.93134       0.98544       0.98791       0.98055       0.96549       0.98534       0.96811       0.96782       0.97884       0.98872       0.97707       0.98697       0.96266       0.98302       0.94707       0.98369       0.98714       0.983         0.92458       0.99275       \n",
            "OC(Overlap coefficient)                                           0.27273       0.25          0.58491       0.35484       0.3           0.32558       0.37037       0.34211       0.23529       0.05263       0.11765       0.29412       0.46053       0.25          0.28571       0.45          0.4186        0.3           0.3           0.30435       0.425         0.22222       0.45455       0.28571       0.15789       0.3           0.77174       0.4           \n",
            "OOC(Otsuka-Ochiai coefficient)                                    0.22156       0.21775       0.48845       0.26401       0.27775       0.29896       0.29348       0.32541       0.14227       0.03824       0.08712       0.27821       0.43805       0.18464       0.27472       0.42906       0.41382       0.24097       0.26568       0.22004       0.33865       0.19518       0.32703       0.22291       0.13007       0.27014       0.5852        0.27824       \n",
            "OP(Optimized precision)                                           0.38891       0.2634        0.53444       0.48711       0.43214       0.45076       0.51189       0.47644       0.07444       0.06106       0.18038       0.42175       0.57808       0.36596       0.36945       0.53554       0.54906       0.43808       0.42038       0.43585       0.37722       0.33139       0.31732       0.40966       0.24528       0.43116       0.53639       0.55293       \n",
            "P(Condition positive or support)                                  33            58            76            31            30            43            27            38            93            19            17            34            76            24            53            66            44            20            40            23            63            27            85            28            19            30            160           15            \n",
            "PLR(Positive likelihood ratio)                                    8.24169       6.97701       22.17464      9.78566       14.33077      10.81458      13.97306      14.55717      3.90074       1.88421       5.09128       13.0042       11.2406       8.21053       9.2           14.95041      20.09455      15.024        9.47692       10.2738       14.18427      9.54023       11.63725      9.35338       7.91368       13.30714      23.49762      20.112        \n",
            "PLRI(Positive likelihood ratio interpretation)                    Fair          Fair          Good          Fair          Good          Good          Good          Good          Poor          Poor          Fair          Good          Good          Fair          Fair          Good          Good          Good          Fair          Good          Good          Fair          Good          Fair          Fair          Good          Good          Good          \n",
            "POP(Population)                                                   1272          1272          1272          1272          1272          1272          1272          1272          1272          1272          1272          1272          1272          1272          1272          1272          1272          1272          1272          1272          1272          1272          1272          1272          1272          1272          1272          1272          \n",
            "PPV(Precision or positive predictive value)                       0.18          0.25          0.58491       0.19643       0.25714       0.27451       0.23256       0.30952       0.23529       0.02778       0.06452       0.26316       0.41667       0.13636       0.28571       0.45          0.4186        0.19355       0.23529       0.15909       0.425         0.17143       0.45455       0.17391       0.10714       0.24324       0.77174       0.19355       \n",
            "PRE(Prevalence)                                                   0.02594       0.0456        0.05975       0.02437       0.02358       0.03381       0.02123       0.02987       0.07311       0.01494       0.01336       0.02673       0.05975       0.01887       0.04167       0.05189       0.03459       0.01572       0.03145       0.01808       0.04953       0.02123       0.06682       0.02201       0.01494       0.02358       0.12579       0.01179       \n",
            "Q(Yule Q - coefficient of colligation)                            0.83274       0.78669       0.94704       0.87194       0.90496       0.87917       0.91152       0.91153       0.61343       0.31818       0.69865       0.89477       0.90468       0.82779       0.84783       0.9219        0.94171       0.90923       0.85826       0.86955       0.90028       0.84592       0.87429       0.85396       0.80411       0.89786       0.95288       0.94092       \n",
            "QI(Yule Q interpretation)                                         Strong        Strong        Strong        Strong        Strong        Strong        Strong        Strong        Moderate      Weak          Moderate      Strong        Strong        Strong        Strong        Strong        Strong        Strong        Strong        Strong        Strong        Strong        Strong        Strong        Strong        Strong        Strong        Strong        \n",
            "RACC(Random accuracy)                                             0.00102       0.00158       0.00249       0.00107       0.00065       0.00136       0.00072       0.00099       0.00195       0.00042       0.00033       0.0008        0.00395       0.00065       0.00161       0.00245       0.00117       0.00038       0.00126       0.00063       0.00156       0.00058       0.00231       0.0008        0.00033       0.00069       0.0091        0.00029       \n",
            "RACCU(Random accuracy unbiased)                                   0.00106       0.00161       0.00257       0.00117       0.00065       0.00137       0.00076       0.00099       0.00249       0.00047       0.00036       0.0008        0.00396       0.00071       0.00161       0.00245       0.00117       0.0004        0.00128       0.00069       0.00164       0.00059       0.00257       0.00085       0.00034       0.00069       0.00981       0.00033       \n",
            "TN(True negative/correct rejection)                               1198          1181          1174          1196          1216          1192          1212          1205          1153          1218          1226          1210          1147          1210          1184          1173          1203          1227          1193          1212          1186          1216          1163          1206          1228          1214          1091          1232          \n",
            "TNR(Specificity or true negative rate)                            0.96691       0.97282       0.98161       0.96374       0.97907       0.96989       0.97349       0.9765        0.97795       0.97207       0.97689       0.97738       0.95903       0.96955       0.97129       0.97264       0.97964       0.98003       0.96834       0.97038       0.98098       0.97671       0.97978       0.96945       0.98005       0.97746       0.98112       0.98011       \n",
            "TON(Test outcome negative)                                        1222          1228          1219          1216          1237          1221          1229          1230          1238          1236          1241          1234          1188          1228          1223          1212          1229          1241          1221          1228          1232          1237          1228          1226          1244          1235          1180          1241          \n",
            "TOP(Test outcome positive)                                        50            44            53            56            35            51            43            42            34            36            31            38            84            44            49            60            43            31            51            44            40            35            44            46            28            37            92            31            \n",
            "TP(True positive/hit)                                             9             11            31            11            9             14            10            13            8             1             2             10            35            6             14            27            18            6             12            7             17            6             20            8             3             9             71            6             \n",
            "TPR(Sensitivity, recall, hit rate, or true positive rate)         0.27273       0.18966       0.40789       0.35484       0.3           0.32558       0.37037       0.34211       0.08602       0.05263       0.11765       0.29412       0.46053       0.25          0.26415       0.40909       0.40909       0.3           0.3           0.30435       0.26984       0.22222       0.23529       0.28571       0.15789       0.3           0.44375       0.4           \n",
            "Y(Youden index)                                                   0.23964       0.16247       0.3895        0.31858       0.27907       0.29548       0.34386       0.3186        0.06397       0.0247        0.09454       0.2715        0.41956       0.21955       0.23544       0.38173       0.38873       0.28003       0.26834       0.27472       0.25082       0.19893       0.21508       0.25517       0.13794       0.27746       0.42487       0.38011       \n",
            "dInd(Distance index)                                              0.72803       0.8108        0.59239       0.64618       0.70031       0.67509       0.63019       0.65831       0.91424       0.94778       0.88266       0.70624       0.54103       0.75062       0.73641       0.59154       0.59126       0.70028       0.70072       0.69628       0.73041       0.77813       0.76497       0.71494       0.84234       0.70036       0.55657       0.60033       \n",
            "sInd(Similarity index)                                            0.48521       0.42668       0.58112       0.54308       0.5048        0.52264       0.55439       0.5345        0.35353       0.32982       0.37587       0.50061       0.61744       0.46923       0.47928       0.58172       0.58192       0.50482       0.50452       0.50765       0.48352       0.44978       0.45908       0.49446       0.40437       0.50477       0.60645       0.5755        \n",
            "\n"
          ]
        },
        {
          "output_type": "stream",
          "name": "stderr",
          "text": [
            "/usr/local/lib/python3.7/dist-packages/pycm/pycm_obj.py:206: RuntimeWarning: The confusion matrix is a high dimension matrix and won't be demonstrated properly.\n",
            "If confusion matrix has too many zeros (sparse matrix) you can set `sparse` flag to True in printing functions otherwise by using save_csv method to save the confusion matrix in csv format you'll have better demonstration.\n",
            "  warn(CLASS_NUMBER_WARNING, RuntimeWarning)\n"
          ]
        }
      ]
    },
    {
      "cell_type": "code",
      "source": [
        "import pandas as pd\n",
        "import matplotlib.pyplot as plt\n",
        "import seaborn as sns\n"
      ],
      "metadata": {
        "id": "skN1SmyHeIBv"
      },
      "execution_count": null,
      "outputs": []
    },
    {
      "cell_type": "code",
      "source": [
        "sns.set(rc={'figure.figsize':(40, 40)})\n",
        "sns.set(font_scale=1.25)\n",
        "cm.plot(normalized=True, plot_lib = \"seaborn\")\n"
      ],
      "metadata": {
        "id": "f9f7tbDjRzNP",
        "colab": {
          "base_uri": "https://localhost:8080/",
          "height": 755
        },
        "outputId": "1d2e19a6-603b-4f0b-9bc0-adc3cdf22f26"
      },
      "execution_count": null,
      "outputs": [
        {
          "output_type": "execute_result",
          "data": {
            "text/plain": [
              "<matplotlib.axes._subplots.AxesSubplot at 0x7fcfa7d29bd0>"
            ]
          },
          "metadata": {},
          "execution_count": 38
        },
        {
          "output_type": "display_data",
          "data": {
            "text/plain": [
              "<Figure size 2880x2880 with 2 Axes>"
            ],
            "image/png": "[encoded data removed]"
          },
          "metadata": {}
        }
      ]
    }
  ],
  "metadata": {
    "interpreter": {
      "hash": "6ade73bf49f1256608149ff920ccd937fcccdc8efd4975ff38aa98fc4d821ac5"
    },
    "kernelspec": {
      "display_name": "Python 3.9.7 ('fyp')",
      "language": "python",
      "name": "python3"
    },
    "language_info": {
      "codemirror_mode": {
        "name": "ipython",
        "version": 3
      },
      "file_extension": ".py",
      "mimetype": "text/x-python",
      "name": "python",
      "nbconvert_exporter": "python",
      "pygments_lexer": "ipython3",
      "version": "3.9.7"
    },
    "orig_nbformat": 4,
    "colab": {
      "name": "v2_network_train_ai.ipynb",
      "provenance": [],
      "collapsed_sections": [],
      "machine_shape": "hm"
    }
  },
  "nbformat": 4,
  "nbformat_minor": 0
}