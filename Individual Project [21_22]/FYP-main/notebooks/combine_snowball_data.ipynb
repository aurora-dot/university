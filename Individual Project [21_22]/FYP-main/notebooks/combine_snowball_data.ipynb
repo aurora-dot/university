{
 "cells": [
  {
   "cell_type": "code",
   "execution_count": 1,
   "metadata": {},
   "outputs": [],
   "source": [
    "import os\n",
    "import json\n",
    "from fyp.crypto import Crypto\n",
    "from fyp.db import Database\n"
   ]
  },
  {
   "cell_type": "code",
   "execution_count": 2,
   "metadata": {},
   "outputs": [],
   "source": [
    "crypto = Crypto()\n",
    "database = Database(crypto)"
   ]
  },
  {
   "cell_type": "code",
   "execution_count": 14,
   "metadata": {},
   "outputs": [],
   "source": [
    "def save_data(data, name):\n",
    "    base = \"/its/home/ep396/Documents/FYP/data/snowball/\"\n",
    "    e = base + f\"encrypted_{name}.json\"\n",
    "    d = base + f\"decrypted_{name}.json\"\n",
    "\n",
    "    with open(d, \"w\", encoding=\"utf8\") as outfile:\n",
    "        json.dump(data, outfile, indent=4, ensure_ascii=False)\n",
    "\n",
    "    crypto.age_encrypt_file(d, e)\n",
    "\n",
    "    os.remove(d)\n"
   ]
  },
  {
   "cell_type": "code",
   "execution_count": 3,
   "metadata": {},
   "outputs": [],
   "source": [
    "def load_data(name):\n",
    "    base = \"/its/home/ep396/Documents/FYP/data/snowball/\"\n",
    "    e = base + f\"encrypted_{name}.json\"\n",
    "    d = base + f\"decrypted_{name}.json\"\n",
    "\n",
    "    crypto.age_decrypt_file(e, d)\n",
    "\n",
    "    file = open(d, encoding=\"utf8\")\n",
    "    data = json.load(file)\n",
    "    file.close()\n",
    "\n",
    "    os.remove(d)\n",
    "\n",
    "    return data"
   ]
  },
  {
   "cell_type": "code",
   "execution_count": 6,
   "metadata": {},
   "outputs": [],
   "source": [
    "unique_retweeters = load_data(\"unique_retweeters\")\n",
    "unique_retweeters_relations = load_data(\"unique_retweeters_relations\")\n"
   ]
  },
  {
   "cell_type": "code",
   "execution_count": 7,
   "metadata": {},
   "outputs": [],
   "source": [
    "unique_repliers = load_data(\"unique_repliers\")\n",
    "unique_repliers_relations = load_data(\"unique_repliers_relations\")\n"
   ]
  },
  {
   "cell_type": "code",
   "execution_count": 8,
   "metadata": {},
   "outputs": [],
   "source": [
    "def get_unique(unique_retweeters_relations, unique_repliers_relations):\n",
    "    unique_users = []\n",
    "    unique_user_relations = {}\n",
    "\n",
    "    for user in unique_retweeters_relations.keys():\n",
    "        unique_user_relations[user] = []\n",
    "        retweeters = unique_retweeters_relations[user]\n",
    "        repliers = unique_repliers_relations[user]\n",
    "\n",
    "        for retweeter in retweeters:\n",
    "            if retweeter not in unique_users: unique_users.append(retweeter)\n",
    "            if retweeter not in unique_user_relations[user]: unique_user_relations[user].append(retweeter)\n",
    "        \n",
    "        for replier in repliers:\n",
    "            if replier not in unique_users: unique_users.append(replier)\n",
    "            if replier not in unique_user_relations[user]: unique_user_relations[user].append(replier)\n",
    "    \n",
    "    return unique_users, unique_user_relations\n"
   ]
  },
  {
   "cell_type": "code",
   "execution_count": 15,
   "metadata": {},
   "outputs": [],
   "source": [
    "unique_users, unique_user_relations = get_unique(unique_retweeters_relations, unique_repliers_relations)\n"
   ]
  },
  {
   "cell_type": "code",
   "execution_count": 16,
   "metadata": {},
   "outputs": [],
   "source": [
    "save_data(unique_users, \"unique_users\")\n",
    "save_data(unique_user_relations, \"unique_user_relations\")\n"
   ]
  }
 ],
 "metadata": {
  "interpreter": {
   "hash": "6ade73bf49f1256608149ff920ccd937fcccdc8efd4975ff38aa98fc4d821ac5"
  },
  "kernelspec": {
   "display_name": "Python 3.9.7 ('fyp')",
   "language": "python",
   "name": "python3"
  },
  "language_info": {
   "codemirror_mode": {
    "name": "ipython",
    "version": 3
   },
   "file_extension": ".py",
   "mimetype": "text/x-python",
   "name": "python",
   "nbconvert_exporter": "python",
   "pygments_lexer": "ipython3",
   "version": "3.9.7"
  },
  "orig_nbformat": 4
 },
 "nbformat": 4,
 "nbformat_minor": 2
}
