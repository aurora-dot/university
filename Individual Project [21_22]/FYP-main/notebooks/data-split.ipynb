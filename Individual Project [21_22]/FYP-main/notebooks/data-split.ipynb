{
 "cells": [
  {
   "cell_type": "code",
   "execution_count": 1,
   "metadata": {},
   "outputs": [],
   "source": [
    "import os\n",
    "from tqdm import tqdm\n",
    "import peewee\n",
    "\n",
    "from fyp.crypto import Crypto\n"
   ]
  },
  {
   "cell_type": "code",
   "execution_count": 2,
   "metadata": {},
   "outputs": [],
   "source": [
    "crypto = Crypto()\n"
   ]
  },
  {
   "cell_type": "code",
   "execution_count": 3,
   "metadata": {},
   "outputs": [],
   "source": [
    "base = '/its/home/ep396/Documents/FYP/'\n",
    "name = \"dataset\"\n"
   ]
  },
  {
   "cell_type": "code",
   "execution_count": 4,
   "metadata": {},
   "outputs": [],
   "source": [
    "def load_db(name, base):\n",
    "    e = base + f\"encrypted_{name}.db\"\n",
    "    d = base + f\"decrypted_{name}.db\"\n",
    "    crypto.age_decrypt_file(e, d)\n"
   ]
  },
  {
   "cell_type": "code",
   "execution_count": 5,
   "metadata": {},
   "outputs": [],
   "source": [
    "def unload_db(name, base):\n",
    "    e = base + f\"encrypted_{name}.db\"\n",
    "    d = base + f\"decrypted_{name}.db\"\n",
    "    crypto.age_encrypt_file(d, e)\n",
    "\n",
    "    os.remove(d)\n"
   ]
  },
  {
   "cell_type": "code",
   "execution_count": 6,
   "metadata": {},
   "outputs": [],
   "source": [
    "load_db(name, base)\n"
   ]
  },
  {
   "cell_type": "code",
   "execution_count": 7,
   "metadata": {},
   "outputs": [],
   "source": [
    "from fyp.db_dataset import Tweet, ReferencedTweet\n"
   ]
  },
  {
   "cell_type": "code",
   "execution_count": 8,
   "metadata": {},
   "outputs": [],
   "source": [
    "query = (Tweet\n",
    "        .select(Tweet.author_id, peewee.fn.COUNT(Tweet.tweet_id).alias('ct'))\n",
    "        .group_by(Tweet.author_id))\n"
   ]
  },
  {
   "cell_type": "code",
   "execution_count": 9,
   "metadata": {},
   "outputs": [
    {
     "name": "stderr",
     "output_type": "stream",
     "text": [
      "100%|██████████| 14300/14300 [00:00<00:00, 1142405.00it/s]\n"
     ]
    }
   ],
   "source": [
    "counts_by_user = []\n",
    "\n",
    "for obj in tqdm(query):\n",
    "    counts_by_user.append((obj.author_id, obj.ct))\n"
   ]
  },
  {
   "cell_type": "code",
   "execution_count": 10,
   "metadata": {},
   "outputs": [
    {
     "data": {
      "text/plain": [
       "7281"
      ]
     },
     "execution_count": 10,
     "metadata": {},
     "output_type": "execute_result"
    }
   ],
   "source": [
    "filtered_counts_by_user = []\n",
    "users_to_keep = []\n",
    "\n",
    "for tup in counts_by_user:\n",
    "    if tup[1] >= 50:\n",
    "        filtered_counts_by_user.append(tup)\n",
    "        users_to_keep.append(tup[0])\n",
    "\n",
    "len(filtered_counts_by_user)\n"
   ]
  },
  {
   "cell_type": "code",
   "execution_count": 11,
   "metadata": {},
   "outputs": [
    {
     "data": {
      "text/plain": [
       "142267"
      ]
     },
     "execution_count": 11,
     "metadata": {},
     "output_type": "execute_result"
    }
   ],
   "source": [
    "relations_to_delete = Tweet.delete().where(~(Tweet.author_id << users_to_keep))\n",
    "relations_to_delete.execute()\n"
   ]
  },
  {
   "cell_type": "code",
   "execution_count": 12,
   "metadata": {},
   "outputs": [],
   "source": [
    "query = (Tweet\n",
    "        .select(Tweet.author_id, peewee.fn.COUNT(Tweet.tweet_id).alias('ct'))\n",
    "        .group_by(Tweet.author_id))"
   ]
  },
  {
   "cell_type": "code",
   "execution_count": 13,
   "metadata": {},
   "outputs": [
    {
     "name": "stderr",
     "output_type": "stream",
     "text": [
      "100%|██████████| 7281/7281 [00:00<00:00, 1183625.73it/s]\n"
     ]
    }
   ],
   "source": [
    "new_counts_by_user = []\n",
    "\n",
    "for obj in tqdm(query):\n",
    "    new_counts_by_user.append((obj.author_id, obj.ct))\n"
   ]
  },
  {
   "cell_type": "code",
   "execution_count": 14,
   "metadata": {},
   "outputs": [
    {
     "data": {
      "text/plain": [
       "'reduced by 7.059135836773578'"
      ]
     },
     "execution_count": 14,
     "metadata": {},
     "output_type": "execute_result"
    }
   ],
   "source": [
    "\"reduced by %s\" % (100 - ((sum([obj[1] for obj in new_counts_by_user]) / sum([obj[1] for obj in counts_by_user])) * 100))\n"
   ]
  },
  {
   "cell_type": "code",
   "execution_count": 15,
   "metadata": {},
   "outputs": [],
   "source": [
    "from fyp.db_dataset import DataSplit\n"
   ]
  },
  {
   "cell_type": "code",
   "execution_count": 16,
   "metadata": {},
   "outputs": [],
   "source": [
    "from sklearn.model_selection import train_test_split\n"
   ]
  },
  {
   "cell_type": "code",
   "execution_count": 17,
   "metadata": {},
   "outputs": [],
   "source": [
    "user_tweet_dict = {tup[0]:[] for tup in new_counts_by_user}\n"
   ]
  },
  {
   "cell_type": "code",
   "execution_count": 18,
   "metadata": {},
   "outputs": [
    {
     "name": "stderr",
     "output_type": "stream",
     "text": [
      "100%|██████████| 1873093/1873093 [00:02<00:00, 688351.43it/s]\n"
     ]
    }
   ],
   "source": [
    "query = (Tweet.select(Tweet.tweet_id, Tweet.author_id))\n",
    "\n",
    "for tweet in tqdm(query):\n",
    "    user_tweet_dict[tweet.author_id].append(tweet.tweet_id)\n"
   ]
  },
  {
   "cell_type": "code",
   "execution_count": 19,
   "metadata": {},
   "outputs": [
    {
     "name": "stderr",
     "output_type": "stream",
     "text": [
      "100%|██████████| 7281/7281 [00:02<00:00, 3543.70it/s]\n"
     ]
    }
   ],
   "source": [
    "inserts = []\n",
    "\n",
    "for user, tweets in tqdm(user_tweet_dict.items()):\n",
    "    trainData, testData = train_test_split(tweets, train_size=0.7, shuffle=True)\n",
    "    inserts += [(tweet_id, 0) for tweet_id in trainData] + [(tweet_id, 1) for tweet_id in testData]\n"
   ]
  },
  {
   "cell_type": "code",
   "execution_count": 20,
   "metadata": {},
   "outputs": [],
   "source": [
    "n = 50\n",
    "k, m = divmod(len(inserts), n)\n",
    "insert_splited = list(inserts[i * k + min(i, m):(i + 1) * k + min(i + 1, m)] for i in range(n))\n"
   ]
  },
  {
   "cell_type": "code",
   "execution_count": 21,
   "metadata": {},
   "outputs": [
    {
     "name": "stderr",
     "output_type": "stream",
     "text": [
      "100%|██████████| 50/50 [07:40<00:00,  9.21s/it]\n"
     ]
    }
   ],
   "source": [
    "for insert in tqdm(insert_splited):\n",
    "    DataSplit.insert_many(insert, fields=[DataSplit.tweet_original_id, DataSplit.split_type]).execute()\n"
   ]
  },
  {
   "cell_type": "code",
   "execution_count": 22,
   "metadata": {},
   "outputs": [],
   "source": [
    "query = (DataSplit\n",
    "    .select(DataSplit.split_type, peewee.fn.COUNT(DataSplit.tweet_original_id).alias('ct'))\n",
    "    .group_by(DataSplit.split_type))\n"
   ]
  },
  {
   "cell_type": "code",
   "execution_count": 23,
   "metadata": {},
   "outputs": [
    {
     "name": "stdout",
     "output_type": "stream",
     "text": [
      "0 1307801\n",
      "69.82039866680405\n",
      "1 565292\n",
      "30.179601333195947\n"
     ]
    }
   ],
   "source": [
    "for obj in query:\n",
    "    print(obj.split_type, obj.ct)\n",
    "    print((obj.ct / sum([obj[1] for obj in new_counts_by_user])) * 100)\n"
   ]
  },
  {
   "cell_type": "code",
   "execution_count": 24,
   "metadata": {},
   "outputs": [
    {
     "data": {
      "text/plain": [
       "1873093"
      ]
     },
     "execution_count": 24,
     "metadata": {},
     "output_type": "execute_result"
    }
   ],
   "source": [
    "sum([obj[1] for obj in new_counts_by_user])"
   ]
  },
  {
   "cell_type": "code",
   "execution_count": 25,
   "metadata": {},
   "outputs": [],
   "source": [
    "unload_db(name, base)\n"
   ]
  }
 ],
 "metadata": {
  "interpreter": {
   "hash": "6ade73bf49f1256608149ff920ccd937fcccdc8efd4975ff38aa98fc4d821ac5"
  },
  "kernelspec": {
   "display_name": "Python 3.9.7 ('fyp')",
   "language": "python",
   "name": "python3"
  },
  "language_info": {
   "codemirror_mode": {
    "name": "ipython",
    "version": 3
   },
   "file_extension": ".py",
   "mimetype": "text/x-python",
   "name": "python",
   "nbconvert_exporter": "python",
   "pygments_lexer": "ipython3",
   "version": "3.9.7"
  },
  "orig_nbformat": 4
 },
 "nbformat": 4,
 "nbformat_minor": 2
}
